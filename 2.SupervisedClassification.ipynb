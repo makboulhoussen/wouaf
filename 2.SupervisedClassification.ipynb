{
 "cells": [
  {
   "cell_type": "markdown",
   "metadata": {},
   "source": [
    "# Projet 7 : Réalisez des indexations automatiques d’images\n",
    "# <u>B. Classification des images avec méthodes supervisées</u> <br/>"
   ]
  },
  {
   "cell_type": "code",
   "execution_count": 1,
   "metadata": {},
   "outputs": [],
   "source": [
    "import numpy as np\n",
    "import pandas as pd\n",
    "import matplotlib.pyplot as plt\n",
    "import os\n",
    "import warnings\n",
    "from time import time\n",
    "\n",
    "from sklearn.preprocessing import LabelEncoder\n",
    "from sklearn.cluster import KMeans\n",
    "from sklearn.preprocessing import StandardScaler\n",
    "from sklearn.svm import SVC\n",
    "from sklearn import metrics\n",
    "from sklearn.metrics import confusion_matrix\n",
    "import itertools\n",
    "from sklearn.base import BaseEstimator, TransformerMixin\n",
    "from sklearn.pipeline import Pipeline\n",
    "from sklearn.model_selection import GridSearchCV\n",
    "\n",
    "from sklearn.ensemble import GradientBoostingClassifier\n",
    "from sklearn.linear_model import SGDClassifier\n",
    "from sklearn.neighbors import  KNeighborsClassifier\n",
    "\n",
    "from glob import glob\n",
    "import scipy\n",
    "from scipy.misc import imread\n",
    "\n",
    "import cv2\n",
    "\n",
    "from skimage import img_as_ubyte\n",
    "\n",
    "warnings.filterwarnings(\"ignore\")"
   ]
  },
  {
   "cell_type": "code",
   "execution_count": 2,
   "metadata": {},
   "outputs": [
    {
     "name": "stdout",
     "output_type": "stream",
     "text": [
      "OpenCV Version 3.4.1\n"
     ]
    }
   ],
   "source": [
    "print('OpenCV Version',cv2.__version__)"
   ]
  },
  {
   "cell_type": "markdown",
   "metadata": {},
   "source": [
    "# 1. Préparation des données"
   ]
  },
  {
   "cell_type": "markdown",
   "metadata": {},
   "source": [
    "## 1.1 Configuration des noms de répertoires"
   ]
  },
  {
   "cell_type": "code",
   "execution_count": 3,
   "metadata": {},
   "outputs": [],
   "source": [
    "DATA_DIR = 'data'\n",
    "TRAIN_DIR = DATA_DIR + '/train'\n",
    "TEST_DIR = DATA_DIR + '/test'"
   ]
  },
  {
   "cell_type": "markdown",
   "metadata": {},
   "source": [
    "Les images sont chargées à partir du chemin spécifié.<br/>\n",
    "Les images doivent être rangés dans un dossier dont le nom contient la race correspondante<br/>\n",
    " \\- breed<br/>\n",
    "&nbsp;&nbsp;&nbsp;      \\--- image 1 <br/>\n",
    "&nbsp;&nbsp;&nbsp;      \\--- image 2<br/>"
   ]
  },
  {
   "cell_type": "markdown",
   "metadata": {},
   "source": [
    "## 1.2 Chargement des images"
   ]
  },
  {
   "cell_type": "code",
   "execution_count": 4,
   "metadata": {},
   "outputs": [],
   "source": [
    "'''\n",
    "retourne une liste contenant les images et une autre liste avec la race de chaque image.\n",
    "'''\n",
    "def loadDogsImagesData(path):\n",
    "    imlist = []\n",
    "    labels = []\n",
    "    for each in glob(path + \"*\"):\n",
    "        if not(os.path.isdir(each)):\n",
    "            continue\n",
    "        breed_name = each.split(\"/\")[-1].split('-')[1]\n",
    "        print (\" #### Reading breed category \", breed_name, \" ##### \")\n",
    "        for imagefile in glob(each+\"/*\"):\n",
    "            im = cv2.imread(imagefile)\n",
    "            imlist.append(im)\n",
    "            labels.extend([breed_name])\n",
    "    return [imlist,labels]"
   ]
  },
  {
   "cell_type": "markdown",
   "metadata": {},
   "source": [
    "- Chargement des données d'entrainement"
   ]
  },
  {
   "cell_type": "code",
   "execution_count": 5,
   "metadata": {},
   "outputs": [
    {
     "name": "stdout",
     "output_type": "stream",
     "text": [
      " #### Reading breed category  Siberian_husky  ##### \n",
      " #### Reading breed category  Maltese_dog  ##### \n",
      " #### Reading breed category  Chihuahua  ##### \n",
      " #### Reading breed category  Scotch_terrier  ##### \n",
      " #### Reading breed category  Irish_setter  ##### \n"
     ]
    }
   ],
   "source": [
    "train_images,  train_breed_names = loadDogsImagesData(TRAIN_DIR +'/' )"
   ]
  },
  {
   "cell_type": "markdown",
   "metadata": {},
   "source": [
    "- Chargement des données de test."
   ]
  },
  {
   "cell_type": "code",
   "execution_count": 6,
   "metadata": {},
   "outputs": [
    {
     "name": "stdout",
     "output_type": "stream",
     "text": [
      " #### Reading breed category  Siberian_husky  ##### \n",
      " #### Reading breed category  Maltese_dog  ##### \n",
      " #### Reading breed category  Chihuahua  ##### \n",
      " #### Reading breed category  Scotch_terrier  ##### \n",
      " #### Reading breed category  Irish_setter  ##### \n"
     ]
    }
   ],
   "source": [
    "test_images,  test_breed_names = loadDogsImagesData(TEST_DIR +'/' )"
   ]
  },
  {
   "cell_type": "markdown",
   "metadata": {},
   "source": [
    "## 1.3 Numérisation de la race des chiens (Label encoder)"
   ]
  },
  {
   "cell_type": "markdown",
   "metadata": {},
   "source": [
    "Il nous faut transformer les races de chiens (variable catégorielle) en donnée numérique.<br/>\n",
    "Pour celà nous utilisons la classe LabelEncoder"
   ]
  },
  {
   "cell_type": "code",
   "execution_count": 7,
   "metadata": {},
   "outputs": [
    {
     "data": {
      "text/plain": [
       "LabelEncoder()"
      ]
     },
     "execution_count": 7,
     "metadata": {},
     "output_type": "execute_result"
    }
   ],
   "source": [
    "breed_names = set(train_breed_names)\n",
    "breed_names = list(breed_names)\n",
    "breed_label_encoder = LabelEncoder()\n",
    "breed_label_encoder.fit(breed_names)"
   ]
  },
  {
   "cell_type": "markdown",
   "metadata": {},
   "source": [
    "Préparation des données cibles d'entrainement et de test."
   ]
  },
  {
   "cell_type": "code",
   "execution_count": 8,
   "metadata": {},
   "outputs": [],
   "source": [
    "train_breeds =  breed_label_encoder.transform(train_breed_names)\n",
    "test_breeds =  breed_label_encoder.transform(test_breed_names)"
   ]
  },
  {
   "cell_type": "code",
   "execution_count": 9,
   "metadata": {},
   "outputs": [
    {
     "name": "stdout",
     "output_type": "stream",
     "text": [
      "Nombre images entrainement 120\n",
      "Nombre images tests 30\n"
     ]
    }
   ],
   "source": [
    "print(\"Nombre images entrainement\", len(train_breeds))\n",
    "print(\"Nombre images tests\", len(test_breeds))"
   ]
  },
  {
   "cell_type": "code",
   "execution_count": 10,
   "metadata": {},
   "outputs": [],
   "source": [
    "'''\n",
    "Méthode qui retourne le nom de la race associé à la valeur numérique\n",
    "'''\n",
    "def decodeLabel(num_label) :\n",
    "    warnings.filterwarnings(action='ignore', category=DeprecationWarning)\n",
    "    l = breed_label_encoder.inverse_transform(num_label)\n",
    "    warnings.resetwarnings()\n",
    "    return l"
   ]
  },
  {
   "cell_type": "markdown",
   "metadata": {},
   "source": [
    "## 1.4 Jeu d'entrainement et de tests"
   ]
  },
  {
   "cell_type": "markdown",
   "metadata": {},
   "source": [
    "Nous créons un dataframe pour stocker les jeux de données.<br>\n",
    "Le dataframe sera composé de 3 colonnes : <br>\n",
    "    - L'image du wouaf wouaf\n",
    "    - La race du chien en valeur numérique\n",
    "    - La race du chien textuelle"
   ]
  },
  {
   "cell_type": "code",
   "execution_count": 11,
   "metadata": {},
   "outputs": [],
   "source": [
    "train_df = pd.DataFrame({'Image':np.array(train_images), 'BreedIdx':train_breeds, 'BreedName':train_breed_names})"
   ]
  },
  {
   "cell_type": "code",
   "execution_count": 12,
   "metadata": {},
   "outputs": [],
   "source": [
    "test_df = pd.DataFrame({'Image':np.array(test_images), 'BreedIdx':test_breeds, 'BreedName':test_breed_names})"
   ]
  },
  {
   "cell_type": "code",
   "execution_count": 13,
   "metadata": {},
   "outputs": [
    {
     "name": "stdout",
     "output_type": "stream",
     "text": [
      "Train: (120, 3)\n",
      "Test: (30, 3)\n"
     ]
    }
   ],
   "source": [
    "print(\"Train:\", train_df.shape)\n",
    "print(\"Test:\", test_df.shape)"
   ]
  },
  {
   "cell_type": "markdown",
   "metadata": {},
   "source": [
    "# 2. Méthodes pour traitement des images"
   ]
  },
  {
   "cell_type": "markdown",
   "metadata": {},
   "source": [
    "## 2.1 Preprocessing"
   ]
  },
  {
   "cell_type": "markdown",
   "metadata": {},
   "source": [
    "Quelques méthodes de pré-traitement des images."
   ]
  },
  {
   "cell_type": "code",
   "execution_count": 14,
   "metadata": {},
   "outputs": [],
   "source": [
    "'''\n",
    "Equalisation de l'histogramme\n",
    "'''\n",
    "def equalizeHist(colored_img):\n",
    "    img_yuv = cv2.cvtColor(colored_img, cv2.COLOR_BGR2YUV)\n",
    "    img_yuv[:,:,0] = cv2.equalizeHist(img_yuv[:,:,0])\n",
    "    img_trans = cv2.cvtColor(img_yuv, cv2.COLOR_YUV2BGR)\n",
    "    return img_trans"
   ]
  },
  {
   "cell_type": "code",
   "execution_count": 15,
   "metadata": {},
   "outputs": [],
   "source": [
    "'''\n",
    "Filtre glaussian blur\n",
    "'''\n",
    "def gaussianBlur(colored_img) :\n",
    "    blur = cv2.GaussianBlur(colored_img,(5,5),0)\n",
    "    return blur"
   ]
  },
  {
   "cell_type": "code",
   "execution_count": 16,
   "metadata": {},
   "outputs": [],
   "source": [
    "'''\n",
    "On essaye de détourer l'image du chien\n",
    "'''\n",
    "def grabCut(colored_img) :  \n",
    "    mask = np.zeros(colored_img.shape[:2],np.uint8)\n",
    "    \n",
    "    bgdModel = np.zeros((1,65),np.float64)\n",
    "    fgdModel = np.zeros((1,65),np.float64)\n",
    "    nb_iter = 2\n",
    "\n",
    "    rect = (1,1,colored_img.shape[1]-1,colored_img.shape[0]-1)\n",
    "    cv2.grabCut(colored_img,mask,rect,bgdModel,fgdModel,nb_iter,cv2.GC_INIT_WITH_RECT)\n",
    "\n",
    "    fgd_mask = np.where((mask==2)|(mask==0),0,1).astype('uint8')\n",
    "    img_grabcut = colored_img*fgd_mask[:,:,np.newaxis]\n",
    "    return img_grabcut"
   ]
  },
  {
   "cell_type": "code",
   "execution_count": 17,
   "metadata": {},
   "outputs": [],
   "source": [
    "'''\n",
    "Applique les traitements listés dans 'preprocessing' aux images.\n",
    "'''\n",
    "def preprocess_images(images_list, preprocessing) :\n",
    "    X_trans=[]\n",
    "    for im in images_list:\n",
    "        for p in preprocessing :\n",
    "            im_trans = im\n",
    "            if p == 'EqualizeHistogram' :\n",
    "                im_trans = equalizeHist(im)\n",
    "            elif p == 'GaussianBlur' :\n",
    "                im_trans = gaussianBlur(im)\n",
    "            elif p == 'GrabCut' :\n",
    "                im_trans = grabCut(im)\n",
    "            else :\n",
    "                print(\"Error unknown processing : \", p)\n",
    "        X_trans.append(im_trans)\n",
    "    return X_trans"
   ]
  },
  {
   "cell_type": "markdown",
   "metadata": {},
   "source": [
    "## 2.2 Extraction des features"
   ]
  },
  {
   "cell_type": "markdown",
   "metadata": {},
   "source": [
    "- On utilise la méthode SIFT pour extraire les features des images\n",
    "- On va extraire les points clés (keypoints) et les descripteurs."
   ]
  },
  {
   "cell_type": "code",
   "execution_count": 18,
   "metadata": {},
   "outputs": [],
   "source": [
    "def extract_features(color_img) :\n",
    "    gray_img = cv2.cvtColor(color_img, cv2.COLOR_BGR2GRAY)\n",
    "    sift = cv2.xfeatures2d.SIFT_create()\n",
    "    # kp is the keypoints\n",
    "    # desc is the SIFT descriptors\n",
    "    kp, desc = sift.detectAndCompute(gray_img, None)\n",
    "    return kp, desc"
   ]
  },
  {
   "cell_type": "code",
   "execution_count": 19,
   "metadata": {},
   "outputs": [],
   "source": [
    "'''\n",
    " Extraction des features pour une liste d'images (format binaire)\n",
    "'''\n",
    "def getFeatures(images_list) :\n",
    "    descriptor_list = []\n",
    "    for im in images_list:\n",
    "        kp, des = extract_features(im)\n",
    "        descriptor_list.append(des)\n",
    "    return descriptor_list"
   ]
  },
  {
   "cell_type": "markdown",
   "metadata": {},
   "source": [
    "## 2.3 Affichage"
   ]
  },
  {
   "cell_type": "markdown",
   "metadata": {},
   "source": [
    "Pour l'affichage de l'image."
   ]
  },
  {
   "cell_type": "code",
   "execution_count": 20,
   "metadata": {},
   "outputs": [],
   "source": [
    "def show_rgb_img(img):\n",
    "    \"\"\"Convenience function to display a typical color image\"\"\"\n",
    "    return plt.imshow(cv2.cvtColor(img, cv2.CV_32S))"
   ]
  },
  {
   "cell_type": "markdown",
   "metadata": {},
   "source": [
    "# 3. Prise en main classification Visual Bag Of Words"
   ]
  },
  {
   "cell_type": "markdown",
   "metadata": {},
   "source": [
    "Dans cette partie, nous commençons par appliquer les différentes étapes de notre classification sur un échantillon de donnée.<br/>\n",
    "Nous allons ensuite appliquer le tuning et tester différents modèles de classification dans la partie suivante.<br/>\n",
    "- extraction des features\n",
    "- clustering des features\n",
    "- pour chacune des images, on établit l'histogramme par cluster\n",
    "- on y entraine ensuite un algo de classification\n",
    "- on fait les prédictions sur le jeu de test."
   ]
  },
  {
   "cell_type": "markdown",
   "metadata": {},
   "source": [
    "## 3.1 Common methods"
   ]
  },
  {
   "cell_type": "markdown",
   "metadata": {},
   "source": [
    "- Clustering des features"
   ]
  },
  {
   "cell_type": "code",
   "execution_count": 21,
   "metadata": {},
   "outputs": [],
   "source": [
    "def getBagOfFeatures(no_clusters, descriptor_list) :\n",
    "    descriptor_matrix = np.vstack( descriptor_list)\n",
    "    start_time = time()\n",
    "    kmeans = KMeans(n_clusters = no_clusters)\n",
    "    bag_of_features = kmeans.fit_predict(descriptor_matrix)\n",
    "    print(\"elapsed time =\", time() - start_time)\n",
    "    return bag_of_features, kmeans"
   ]
  },
  {
   "cell_type": "markdown",
   "metadata": {},
   "source": [
    "- Histogramme de cluster pour nos images."
   ]
  },
  {
   "cell_type": "code",
   "execution_count": 22,
   "metadata": {},
   "outputs": [],
   "source": [
    "def getFrequencyOfVisualWords(no_clusters, num_images, descriptor_list,bag_of_features ) :\n",
    "    # contains the frequency of occurence of each visual word \n",
    "    img_bow_hist = np.array([np.zeros(no_clusters) for i in range(num_images)])\n",
    "    indice = 0\n",
    "    for i in range(num_images):\n",
    "        l = len(descriptor_list[i])\n",
    "        for j in range(l):\n",
    "            cluster_idx = bag_of_features[indice+j]\n",
    "            img_bow_hist[i][cluster_idx] += 1\n",
    "        indice += l \n",
    "    # standardize \n",
    "    scale = StandardScaler().fit(img_bow_hist)\n",
    "    img_bow_hist = scale.transform(img_bow_hist)\n",
    "    return img_bow_hist, scale"
   ]
  },
  {
   "cell_type": "markdown",
   "metadata": {},
   "source": [
    "## 3.2 Apprentissage"
   ]
  },
  {
   "cell_type": "markdown",
   "metadata": {},
   "source": [
    "On prend un échantilon de nos données (100 images pour entrainement et 20 pour test)"
   ]
  },
  {
   "cell_type": "code",
   "execution_count": 23,
   "metadata": {},
   "outputs": [],
   "source": [
    "train_sample = train_df.sample(100)\n",
    "test_sample = test_df.sample(20)"
   ]
  },
  {
   "cell_type": "markdown",
   "metadata": {},
   "source": [
    "### Image preprocessing et SIFT Features"
   ]
  },
  {
   "cell_type": "code",
   "execution_count": 24,
   "metadata": {},
   "outputs": [],
   "source": [
    "images = train_sample['Image']"
   ]
  },
  {
   "cell_type": "code",
   "execution_count": 25,
   "metadata": {},
   "outputs": [],
   "source": [
    "descriptors = getFeatures(images)"
   ]
  },
  {
   "cell_type": "markdown",
   "metadata": {},
   "source": [
    "### Clustering"
   ]
  },
  {
   "cell_type": "code",
   "execution_count": 26,
   "metadata": {},
   "outputs": [
    {
     "name": "stdout",
     "output_type": "stream",
     "text": [
      "elapsed time = 13.100451946258545\n"
     ]
    }
   ],
   "source": [
    "no_cluster = 10\n",
    "bow, kmeans = getBagOfFeatures(no_cluster, descriptors)"
   ]
  },
  {
   "cell_type": "markdown",
   "metadata": {},
   "source": [
    "### Histogramme par cluster des images"
   ]
  },
  {
   "cell_type": "markdown",
   "metadata": {},
   "source": [
    "On standardise le résultat."
   ]
  },
  {
   "cell_type": "code",
   "execution_count": 27,
   "metadata": {},
   "outputs": [],
   "source": [
    "img_bow_hist, scale = getFrequencyOfVisualWords(no_cluster, len(images), descriptors, bow)"
   ]
  },
  {
   "cell_type": "markdown",
   "metadata": {},
   "source": [
    "### Entrainement du classifier"
   ]
  },
  {
   "cell_type": "code",
   "execution_count": 28,
   "metadata": {},
   "outputs": [
    {
     "data": {
      "text/plain": [
       "SVC(C=1.0, cache_size=200, class_weight=None, coef0=0.0,\n",
       "  decision_function_shape='ovr', degree=3, gamma='auto', kernel='rbf',\n",
       "  max_iter=-1, probability=False, random_state=None, shrinking=True,\n",
       "  tol=0.001, verbose=False)"
      ]
     },
     "execution_count": 28,
     "metadata": {},
     "output_type": "execute_result"
    }
   ],
   "source": [
    "clf  = SVC()\n",
    "clf.fit(img_bow_hist, train_sample['BreedIdx'])"
   ]
  },
  {
   "cell_type": "markdown",
   "metadata": {},
   "source": [
    "## 3.3 Validation avec données de test"
   ]
  },
  {
   "cell_type": "markdown",
   "metadata": {},
   "source": [
    "On prépare les données de test en faisant l'extraction des features, en détérminant les clusters, puis pour chaque image, l'histogramme par cluster.\n",
    "On teste ensuite nos prédictions."
   ]
  },
  {
   "cell_type": "code",
   "execution_count": 29,
   "metadata": {},
   "outputs": [],
   "source": [
    "test_images = test_sample['Image']\n",
    "test_descriptors = getFeatures(test_images)\n",
    "test_clusters = kmeans.predict(np.vstack( test_descriptors) )\n",
    "vocabs = np.array([np.zeros(no_cluster) for i in range(test_sample['Image'].shape[0])])\n",
    "indice = 0\n",
    "for i in range(test_sample['Image'].shape[0]):\n",
    "    l = len(test_descriptors[i])\n",
    "    for j in range(l):\n",
    "        cluster_idx = test_clusters[indice+j]\n",
    "        vocabs[i][cluster_idx] += 1\n",
    "    indice += l \n",
    "vocabs = scale.transform(vocabs.astype(float))"
   ]
  },
  {
   "cell_type": "code",
   "execution_count": 30,
   "metadata": {},
   "outputs": [],
   "source": [
    "y_pred = clf.predict(vocabs)\n",
    "y_test = test_sample['BreedIdx']"
   ]
  },
  {
   "cell_type": "markdown",
   "metadata": {},
   "source": [
    "## 3.4 Evaluation"
   ]
  },
  {
   "cell_type": "markdown",
   "metadata": {},
   "source": [
    "On regarde l'accuracy (% de chiens correctement classés)"
   ]
  },
  {
   "cell_type": "code",
   "execution_count": 31,
   "metadata": {},
   "outputs": [],
   "source": [
    "def evaluateClassifier(y_true, y_pred) :\n",
    "    print(\"Classification accuracy: {:.2f} % \".format(100*metrics.accuracy_score(y_true, y_pred)))"
   ]
  },
  {
   "cell_type": "markdown",
   "metadata": {},
   "source": [
    "On affiche la matrice de confusion pour visualiser la pertinence de nos classement"
   ]
  },
  {
   "cell_type": "code",
   "execution_count": 32,
   "metadata": {},
   "outputs": [],
   "source": [
    "'''\n",
    "Affichage de la matrice de confusion\n",
    "'''\n",
    "def plot_confusion_matrix(cm, classes, normalize=False, title='Confusion matrix', cmap=plt.cm.Blues):\n",
    "    if normalize:\n",
    "        cm = cm.astype('float') / cm.sum(axis=1)[:, np.newaxis]\n",
    "        print(\"Normalized confusion matrix\")\n",
    "    else:\n",
    "        print('Confusion matrix, without normalization')\n",
    "    #_________________________________________________\n",
    "    plt.imshow(cm, interpolation='nearest', cmap=cmap)\n",
    "    plt.title(title)\n",
    "    plt.colorbar()\n",
    "    tick_marks = np.arange(len(classes))\n",
    "    plt.xticks(tick_marks, classes, rotation=90)\n",
    "    plt.yticks(tick_marks, classes)\n",
    "    #_________________________________________________\n",
    "    fmt = '.2f' if normalize else 'd'\n",
    "    thresh = cm.max() / 2.\n",
    "    for i, j in itertools.product(range(cm.shape[0]), range(cm.shape[1])):\n",
    "        plt.text(j, i, format(cm[i, j], fmt),\n",
    "                 horizontalalignment=\"center\",\n",
    "                 color=\"white\" if cm[i, j] > thresh else \"black\")\n",
    "    #_________________________________________________\n",
    "    plt.tight_layout()\n",
    "    plt.ylabel('True label')\n",
    "    plt.xlabel('Predicted label')\n",
    "    \n",
    "    \n",
    "def displayConfusionMatrix(y_test, y_pred, class_names) :\n",
    "    cnf_matrix = confusion_matrix(y_test, y_pred) \n",
    "    np.set_printoptions(precision=2)\n",
    "    plt.figure(figsize = (5,5))\n",
    "    plot_confusion_matrix(cnf_matrix, classes=class_names, normalize = False, title='Confusion matrix')"
   ]
  },
  {
   "cell_type": "code",
   "execution_count": 33,
   "metadata": {},
   "outputs": [
    {
     "name": "stdout",
     "output_type": "stream",
     "text": [
      "Classification accuracy: 35.00 % \n"
     ]
    }
   ],
   "source": [
    "evaluateClassifier(y_test, y_pred)"
   ]
  },
  {
   "cell_type": "code",
   "execution_count": 34,
   "metadata": {},
   "outputs": [
    {
     "name": "stdout",
     "output_type": "stream",
     "text": [
      "Confusion matrix, without normalization\n"
     ]
    },
    {
     "data": {
      "image/png": "[encoded data removed]",
      "text/plain": [
       "<Figure size 360x360 with 2 Axes>"
      ]
     },
     "metadata": {},
     "output_type": "display_data"
    }
   ],
   "source": [
    "displayConfusionMatrix(y_test, y_pred, breed_names)"
   ]
  },
  {
   "cell_type": "code",
   "execution_count": 35,
   "metadata": {},
   "outputs": [],
   "source": [
    "def evaluatePerClass(y_true, y_pred) :\n",
    "    corrected_pred = [0] * len(breed_names)\n",
    "    total_pred = [0] * len(breed_names)\n",
    "    unique, pred = np.unique( y_pred[y_true == y_pred], return_counts=True)\n",
    "    for idx, val in enumerate(unique):\n",
    "        corrected_pred[val] = pred[idx]  \n",
    "    unique, total = np.unique(y_true, return_counts=True)\n",
    "    for idx, val in enumerate(unique):\n",
    "        total_pred[val] = total[idx]  \n",
    "    ratio_per_class = np.array(corrected_pred) / np.array(total_pred)\n",
    "    df = pd.DataFrame({'Breed': decodeLabel(unique), 'PredictionRatio':ratio_per_class})\n",
    "    df.plot.bar(x='Breed')\n",
    "    display(df)"
   ]
  },
  {
   "cell_type": "code",
   "execution_count": 36,
   "metadata": {},
   "outputs": [
    {
     "data": {
      "text/html": [
       "<div>\n",
       "<style scoped>\n",
       "    .dataframe tbody tr th:only-of-type {\n",
       "        vertical-align: middle;\n",
       "    }\n",
       "\n",
       "    .dataframe tbody tr th {\n",
       "        vertical-align: top;\n",
       "    }\n",
       "\n",
       "    .dataframe thead th {\n",
       "        text-align: right;\n",
       "    }\n",
       "</style>\n",
       "<table border=\"1\" class=\"dataframe\">\n",
       "  <thead>\n",
       "    <tr style=\"text-align: right;\">\n",
       "      <th></th>\n",
       "      <th>Breed</th>\n",
       "      <th>PredictionRatio</th>\n",
       "    </tr>\n",
       "  </thead>\n",
       "  <tbody>\n",
       "    <tr>\n",
       "      <th>0</th>\n",
       "      <td>Chihuahua</td>\n",
       "      <td>0.166667</td>\n",
       "    </tr>\n",
       "    <tr>\n",
       "      <th>1</th>\n",
       "      <td>Irish_setter</td>\n",
       "      <td>0.666667</td>\n",
       "    </tr>\n",
       "    <tr>\n",
       "      <th>2</th>\n",
       "      <td>Maltese_dog</td>\n",
       "      <td>0.500000</td>\n",
       "    </tr>\n",
       "    <tr>\n",
       "      <th>3</th>\n",
       "      <td>Scotch_terrier</td>\n",
       "      <td>0.500000</td>\n",
       "    </tr>\n",
       "    <tr>\n",
       "      <th>4</th>\n",
       "      <td>Siberian_husky</td>\n",
       "      <td>0.000000</td>\n",
       "    </tr>\n",
       "  </tbody>\n",
       "</table>\n",
       "</div>"
      ],
      "text/plain": [
       "            Breed  PredictionRatio\n",
       "0       Chihuahua         0.166667\n",
       "1    Irish_setter         0.666667\n",
       "2     Maltese_dog         0.500000\n",
       "3  Scotch_terrier         0.500000\n",
       "4  Siberian_husky         0.000000"
      ]
     },
     "metadata": {},
     "output_type": "display_data"
    },
    {
     "data": {
      "image/png": "[encoded data removed]",
      "text/plain": [
       "<Figure size 432x288 with 1 Axes>"
      ]
     },
     "metadata": {},
     "output_type": "display_data"
    }
   ],
   "source": [
    "evaluatePerClass(y_test.values, y_pred)"
   ]
  },
  {
   "cell_type": "markdown",
   "metadata": {},
   "source": [
    "# 4. Evaluation et tuning des modèles"
   ]
  },
  {
   "cell_type": "markdown",
   "metadata": {},
   "source": [
    "Dans cette partie, nous allons d'abord construire un pipeline permettant d'effectuant à la fois les prétraitements, l'extraction des features, mais également les différentes transformation vues plus haut pour appliquer les algorithmes de classification.<br/>\n",
    "Puis nous allons \"tuner\" et tester differents algorithmes de classification supervisée."
   ]
  },
  {
   "cell_type": "markdown",
   "metadata": {},
   "source": [
    "## 4.1 Pipeline pour traitement des données"
   ]
  },
  {
   "cell_type": "markdown",
   "metadata": {},
   "source": [
    "- Traitement sur les images"
   ]
  },
  {
   "cell_type": "code",
   "execution_count": 37,
   "metadata": {},
   "outputs": [],
   "source": [
    "class ImgPreprocessing(BaseEstimator, TransformerMixin):\n",
    "    \n",
    "    def __init__(self, preprocess=['EqualizeHistogram', 'GaussianBlur', 'GrabCut']) :\n",
    "        self.preprocess = preprocess\n",
    "        return\n",
    "        \n",
    "    def fit(self, X, y=None):\n",
    "        return self\n",
    "        \n",
    "    def transform(self, X, y=None) :\n",
    "        return preprocess_images(X, self.preprocess )"
   ]
  },
  {
   "cell_type": "markdown",
   "metadata": {},
   "source": [
    "- Extraction des features"
   ]
  },
  {
   "cell_type": "code",
   "execution_count": 38,
   "metadata": {},
   "outputs": [],
   "source": [
    "class ImgFeaturesExtractor(BaseEstimator, TransformerMixin):\n",
    "    \n",
    "    def __init__(self) :\n",
    "        return\n",
    "        \n",
    "    def fit(self, X, y=None):\n",
    "        return self\n",
    "        \n",
    "    def transform(self, X, y=None) :\n",
    "        descriptors = getFeatures(X)\n",
    "        return np.array(descriptors)"
   ]
  },
  {
   "cell_type": "markdown",
   "metadata": {},
   "source": [
    "- Histogramme par cluster des images"
   ]
  },
  {
   "cell_type": "code",
   "execution_count": 39,
   "metadata": {},
   "outputs": [],
   "source": [
    "class BagOfVisualWordsTransformer(BaseEstimator, TransformerMixin):\n",
    "    \n",
    "    def __init__(self, n_clusters=10 ) :\n",
    "        self.n_clusters = n_clusters        \n",
    "\n",
    "    def fit(self, X, y=None):\n",
    "        X_stack = np.vstack(X)\n",
    "        self.kmeans = KMeans(n_clusters = self.n_clusters)\n",
    "        self.kmeans.fit(X_stack)\n",
    "        return self\n",
    "    \n",
    "\n",
    "    def transform(self, X , y=None) :\n",
    "        num_images = len(X)\n",
    "        X_stack = np.vstack(X)\n",
    "        bag_of_features = self.kmeans.predict(X_stack)\n",
    "        img_bow_hist = np.array([np.zeros(self.n_clusters) for i in range(num_images)])\n",
    "        indice = 0\n",
    "        for i in range(num_images):\n",
    "            l = len(X[i])\n",
    "            for j in range(l):\n",
    "                cluster_idx = bag_of_features[indice+j]\n",
    "                img_bow_hist[i][cluster_idx] += 1\n",
    "            indice += l\n",
    "        return img_bow_hist"
   ]
  },
  {
   "cell_type": "markdown",
   "metadata": {},
   "source": [
    "## 4.2 Evaluation des pré-traitements sur les images"
   ]
  },
  {
   "cell_type": "markdown",
   "metadata": {},
   "source": [
    "Le prétraitement des images est assez consommateurs. Plutôt que de l'appliquer à chaque évaluation d'algorithme de classification, nous commençons par rechercher les traitements qui semblent améliorer les prédictions.<br/>\n",
    "Pour celà nous allons comparer différents traitement sur notre échantillon."
   ]
  },
  {
   "cell_type": "code",
   "execution_count": 40,
   "metadata": {},
   "outputs": [],
   "source": [
    "x_train = train_sample['Image']\n",
    "y_train = train_sample['BreedIdx']\n",
    "x_test = test_sample['Image']\n",
    "y_test = test_sample['BreedIdx']"
   ]
  },
  {
   "cell_type": "markdown",
   "metadata": {},
   "source": [
    "- Nous créons le pipeline avec uniquement un traitement : GrabCut."
   ]
  },
  {
   "cell_type": "code",
   "execution_count": 41,
   "metadata": {},
   "outputs": [
    {
     "name": "stdout",
     "output_type": "stream",
     "text": [
      "Classification accuracy: 50.00 % \n"
     ]
    }
   ],
   "source": [
    "pprocess_pipeline = Pipeline(steps=[\n",
    "    ('preprocess', ImgPreprocessing(preprocess=['GrabCut'])),\n",
    "    ('extract', ImgFeaturesExtractor()),\n",
    "    ('visualbow', BagOfVisualWordsTransformer(n_clusters=50)),\n",
    "    ('scale', StandardScaler()), \n",
    "    ('classify', SVC())\n",
    "])\n",
    "pprocess_pipeline.fit(x_train,y_train)\n",
    "y_pred = pprocess_pipeline.predict(x_test)\n",
    "evaluateClassifier(y_test, y_pred)"
   ]
  },
  {
   "cell_type": "markdown",
   "metadata": {},
   "source": [
    "- Nous créons le pipeline avec traitement GrabCut et Gaussion Blur."
   ]
  },
  {
   "cell_type": "code",
   "execution_count": 42,
   "metadata": {},
   "outputs": [
    {
     "name": "stdout",
     "output_type": "stream",
     "text": [
      "Classification accuracy: 20.00 % \n"
     ]
    }
   ],
   "source": [
    "pprocess_pipeline = Pipeline(steps=[\n",
    "    ('preprocess', ImgPreprocessing(preprocess=['GrabCut','GaussianBlur'])),\n",
    "    ('extract', ImgFeaturesExtractor()),\n",
    "    ('visualbow', BagOfVisualWordsTransformer(n_clusters=50)),\n",
    "    ('scale', StandardScaler()), \n",
    "    ('classify', SVC())\n",
    "])\n",
    "pprocess_pipeline.fit(x_train,y_train)\n",
    "y_pred = pprocess_pipeline.predict(x_test)\n",
    "evaluateClassifier(y_test, y_pred)"
   ]
  },
  {
   "cell_type": "markdown",
   "metadata": {},
   "source": [
    "On perd en performance."
   ]
  },
  {
   "cell_type": "markdown",
   "metadata": {},
   "source": [
    "Pipeline avec traitement GrabCut et équalisation d'histogramme."
   ]
  },
  {
   "cell_type": "code",
   "execution_count": 43,
   "metadata": {},
   "outputs": [
    {
     "name": "stdout",
     "output_type": "stream",
     "text": [
      "Classification accuracy: 50.00 % \n"
     ]
    }
   ],
   "source": [
    "pprocess_pipeline = Pipeline(steps=[\n",
    "    ('preprocess', ImgPreprocessing(preprocess=['GrabCut','EqualizeHistogram'])),\n",
    "    ('extract', ImgFeaturesExtractor()),\n",
    "    ('visualbow', BagOfVisualWordsTransformer(n_clusters=50)),\n",
    "    ('scale', StandardScaler()), \n",
    "    ('classify', SVC())\n",
    "])\n",
    "pprocess_pipeline.fit(x_train,y_train)\n",
    "y_pred = pprocess_pipeline.predict(x_test)\n",
    "evaluateClassifier(y_test, y_pred)"
   ]
  },
  {
   "cell_type": "markdown",
   "metadata": {},
   "source": [
    "C'est celui qui donne le meilleur score. Nous partons donc sur ces 2 traitements d'images."
   ]
  },
  {
   "cell_type": "markdown",
   "metadata": {},
   "source": [
    "## 4.3 GridSearch"
   ]
  },
  {
   "cell_type": "markdown",
   "metadata": {},
   "source": [
    "Nous allons utiliser la recherche sur grille pour tuner nos algorithmes. Nous allons ensuite comparer les différents résultats."
   ]
  },
  {
   "cell_type": "code",
   "execution_count": 44,
   "metadata": {},
   "outputs": [],
   "source": [
    "'''\n",
    "Méthode générique pour faire une recherche sur grille et évaluer le modèle de classification.\n",
    "Affiche les meilleurs paramètres et la précision du modèle.\n",
    "'''\n",
    "def evaluateClassifier(model, extra_param, x_feat_train, y_train, x_feat_test, y_test) :\n",
    "    warnings.filterwarnings(\"ignore\")\n",
    "    t0 = time()\n",
    "    Kfold = 5\n",
    "    parameters = { \n",
    "              'visualbow__n_clusters': [50, 100, 200]\n",
    "    }\n",
    "    parameters.update(extra_param)\n",
    "    \n",
    "    classifier = Pipeline(steps=[\n",
    "        ('visualbow', BagOfVisualWordsTransformer()),\n",
    "        ('scale', StandardScaler()), \n",
    "        ('clf', model)\n",
    "    ])\n",
    "    gs_classifier = GridSearchCV(estimator = classifier, param_grid = parameters, cv = Kfold,  n_jobs=-1)\n",
    "    fit = gs_classifier.fit(x_feat_train, y_train)\n",
    "    print(\"Best params :\", gs_classifier.best_params_)\n",
    "    y_pred = gs_classifier.predict(x_feat_test)\n",
    "    print(\"Classification accuracy: {:.2f} % \".format(100*metrics.accuracy_score(y_test, y_pred)))\n",
    "    print(\"done in %0.3fs.\" % (time() - t0))\n",
    "    return gs_classifier, y_pred"
   ]
  },
  {
   "cell_type": "markdown",
   "metadata": {},
   "source": [
    "On prépare nos données en faisant le prétraitement sur les images."
   ]
  },
  {
   "cell_type": "code",
   "execution_count": 45,
   "metadata": {},
   "outputs": [],
   "source": [
    "img_processing_pipe = Pipeline(steps=[\n",
    "     ('preprocess', ImgPreprocessing(preprocess=['GrabCut', 'EqualizeHistogram'])), \n",
    "    ('features', ImgFeaturesExtractor())\n",
    "])\n",
    "x_train = img_processing_pipe.transform(train_df['Image'])\n",
    "x_test = img_processing_pipe.transform(test_df['Image'])\n",
    "y_train = train_df['BreedIdx']\n",
    "y_test = test_df['BreedIdx']"
   ]
  },
  {
   "cell_type": "markdown",
   "metadata": {},
   "source": [
    "### SVC"
   ]
  },
  {
   "cell_type": "code",
   "execution_count": 46,
   "metadata": {},
   "outputs": [
    {
     "name": "stdout",
     "output_type": "stream",
     "text": [
      "Best params : {'clf__C': 0.1, 'visualbow__n_clusters': 100}\n",
      "Classification accuracy: 46.67 % \n",
      "done in 3755.333s.\n"
     ]
    }
   ],
   "source": [
    "svc = SVC(probability=True, kernel='linear')\n",
    "parameters = {'clf__C': [0.1, 1, 10]}\n",
    "svc_grid, y_pred = evaluateClassifier(svc, parameters, x_train, y_train, x_test, y_test)"
   ]
  },
  {
   "cell_type": "code",
   "execution_count": 47,
   "metadata": {},
   "outputs": [
    {
     "name": "stdout",
     "output_type": "stream",
     "text": [
      "Confusion matrix, without normalization\n"
     ]
    },
    {
     "data": {
      "image/png": "[encoded data removed]",
      "text/plain": [
       "<Figure size 360x360 with 2 Axes>"
      ]
     },
     "metadata": {},
     "output_type": "display_data"
    }
   ],
   "source": [
    "displayConfusionMatrix(y_test, y_pred, breed_names)"
   ]
  },
  {
   "cell_type": "code",
   "execution_count": 48,
   "metadata": {},
   "outputs": [
    {
     "data": {
      "text/html": [
       "<div>\n",
       "<style scoped>\n",
       "    .dataframe tbody tr th:only-of-type {\n",
       "        vertical-align: middle;\n",
       "    }\n",
       "\n",
       "    .dataframe tbody tr th {\n",
       "        vertical-align: top;\n",
       "    }\n",
       "\n",
       "    .dataframe thead th {\n",
       "        text-align: right;\n",
       "    }\n",
       "</style>\n",
       "<table border=\"1\" class=\"dataframe\">\n",
       "  <thead>\n",
       "    <tr style=\"text-align: right;\">\n",
       "      <th></th>\n",
       "      <th>Breed</th>\n",
       "      <th>PredictionRatio</th>\n",
       "    </tr>\n",
       "  </thead>\n",
       "  <tbody>\n",
       "    <tr>\n",
       "      <th>0</th>\n",
       "      <td>Chihuahua</td>\n",
       "      <td>0.500000</td>\n",
       "    </tr>\n",
       "    <tr>\n",
       "      <th>1</th>\n",
       "      <td>Irish_setter</td>\n",
       "      <td>0.500000</td>\n",
       "    </tr>\n",
       "    <tr>\n",
       "      <th>2</th>\n",
       "      <td>Maltese_dog</td>\n",
       "      <td>1.000000</td>\n",
       "    </tr>\n",
       "    <tr>\n",
       "      <th>3</th>\n",
       "      <td>Scotch_terrier</td>\n",
       "      <td>0.333333</td>\n",
       "    </tr>\n",
       "    <tr>\n",
       "      <th>4</th>\n",
       "      <td>Siberian_husky</td>\n",
       "      <td>0.000000</td>\n",
       "    </tr>\n",
       "  </tbody>\n",
       "</table>\n",
       "</div>"
      ],
      "text/plain": [
       "            Breed  PredictionRatio\n",
       "0       Chihuahua         0.500000\n",
       "1    Irish_setter         0.500000\n",
       "2     Maltese_dog         1.000000\n",
       "3  Scotch_terrier         0.333333\n",
       "4  Siberian_husky         0.000000"
      ]
     },
     "metadata": {},
     "output_type": "display_data"
    },
    {
     "data": {
      "image/png": "[encoded data removed]",
      "text/plain": [
       "<Figure size 432x288 with 1 Axes>"
      ]
     },
     "metadata": {},
     "output_type": "display_data"
    }
   ],
   "source": [
    "evaluatePerClass(y_test.values, y_pred)"
   ]
  },
  {
   "cell_type": "markdown",
   "metadata": {},
   "source": [
    "### Gradient Boosting"
   ]
  },
  {
   "cell_type": "code",
   "execution_count": 49,
   "metadata": {},
   "outputs": [
    {
     "name": "stdout",
     "output_type": "stream",
     "text": [
      "Best params : {'clf__n_estimators': 100, 'visualbow__n_clusters': 100}\n",
      "Classification accuracy: 53.33 % \n",
      "done in 3338.507s.\n"
     ]
    }
   ],
   "source": [
    "gboost  =  GradientBoostingClassifier()\n",
    "parameters = {'clf__n_estimators' : [10, 50, 100]}\n",
    "gboost_grid, y_pred = evaluateClassifier(gboost, parameters, x_train, y_train, x_test, y_test)"
   ]
  },
  {
   "cell_type": "code",
   "execution_count": 50,
   "metadata": {},
   "outputs": [
    {
     "name": "stdout",
     "output_type": "stream",
     "text": [
      "Confusion matrix, without normalization\n"
     ]
    },
    {
     "data": {
      "image/png": "[encoded data removed]",
      "text/plain": [
       "<Figure size 360x360 with 2 Axes>"
      ]
     },
     "metadata": {},
     "output_type": "display_data"
    }
   ],
   "source": [
    "displayConfusionMatrix(y_test, y_pred, breed_names)"
   ]
  },
  {
   "cell_type": "code",
   "execution_count": 51,
   "metadata": {},
   "outputs": [
    {
     "data": {
      "text/html": [
       "<div>\n",
       "<style scoped>\n",
       "    .dataframe tbody tr th:only-of-type {\n",
       "        vertical-align: middle;\n",
       "    }\n",
       "\n",
       "    .dataframe tbody tr th {\n",
       "        vertical-align: top;\n",
       "    }\n",
       "\n",
       "    .dataframe thead th {\n",
       "        text-align: right;\n",
       "    }\n",
       "</style>\n",
       "<table border=\"1\" class=\"dataframe\">\n",
       "  <thead>\n",
       "    <tr style=\"text-align: right;\">\n",
       "      <th></th>\n",
       "      <th>Breed</th>\n",
       "      <th>PredictionRatio</th>\n",
       "    </tr>\n",
       "  </thead>\n",
       "  <tbody>\n",
       "    <tr>\n",
       "      <th>0</th>\n",
       "      <td>Chihuahua</td>\n",
       "      <td>0.166667</td>\n",
       "    </tr>\n",
       "    <tr>\n",
       "      <th>1</th>\n",
       "      <td>Irish_setter</td>\n",
       "      <td>0.500000</td>\n",
       "    </tr>\n",
       "    <tr>\n",
       "      <th>2</th>\n",
       "      <td>Maltese_dog</td>\n",
       "      <td>0.500000</td>\n",
       "    </tr>\n",
       "    <tr>\n",
       "      <th>3</th>\n",
       "      <td>Scotch_terrier</td>\n",
       "      <td>0.833333</td>\n",
       "    </tr>\n",
       "    <tr>\n",
       "      <th>4</th>\n",
       "      <td>Siberian_husky</td>\n",
       "      <td>0.666667</td>\n",
       "    </tr>\n",
       "  </tbody>\n",
       "</table>\n",
       "</div>"
      ],
      "text/plain": [
       "            Breed  PredictionRatio\n",
       "0       Chihuahua         0.166667\n",
       "1    Irish_setter         0.500000\n",
       "2     Maltese_dog         0.500000\n",
       "3  Scotch_terrier         0.833333\n",
       "4  Siberian_husky         0.666667"
      ]
     },
     "metadata": {},
     "output_type": "display_data"
    },
    {
     "data": {
      "image/png": "[encoded data removed]",
      "text/plain": [
       "<Figure size 432x288 with 1 Axes>"
      ]
     },
     "metadata": {},
     "output_type": "display_data"
    }
   ],
   "source": [
    "evaluatePerClass(y_test.values, y_pred)"
   ]
  },
  {
   "cell_type": "markdown",
   "metadata": {},
   "source": [
    "### KNN"
   ]
  },
  {
   "cell_type": "code",
   "execution_count": 65,
   "metadata": {},
   "outputs": [
    {
     "name": "stdout",
     "output_type": "stream",
     "text": [
      "Best params : {'clf__n_neighbors': 3, 'visualbow__n_clusters': 100}\n",
      "Classification accuracy: 33.33 % \n",
      "done in 3435.831s.\n"
     ]
    }
   ],
   "source": [
    "knn = KNeighborsClassifier(algorithm='auto')\n",
    "parameters = {'clf__n_neighbors': np.arange(1,4,1)}\n",
    "knn_grid, y_pred = evaluateClassifier(knn, parameters, x_train, y_train, x_test, y_test)"
   ]
  },
  {
   "cell_type": "code",
   "execution_count": 59,
   "metadata": {},
   "outputs": [
    {
     "name": "stdout",
     "output_type": "stream",
     "text": [
      "Confusion matrix, without normalization\n"
     ]
    },
    {
     "data": {
      "image/png": "[encoded data removed]",
      "text/plain": [
       "<Figure size 360x360 with 2 Axes>"
      ]
     },
     "metadata": {},
     "output_type": "display_data"
    }
   ],
   "source": [
    "displayConfusionMatrix(y_test, y_pred, breed_names)"
   ]
  },
  {
   "cell_type": "code",
   "execution_count": 60,
   "metadata": {},
   "outputs": [
    {
     "data": {
      "text/html": [
       "<div>\n",
       "<style scoped>\n",
       "    .dataframe tbody tr th:only-of-type {\n",
       "        vertical-align: middle;\n",
       "    }\n",
       "\n",
       "    .dataframe tbody tr th {\n",
       "        vertical-align: top;\n",
       "    }\n",
       "\n",
       "    .dataframe thead th {\n",
       "        text-align: right;\n",
       "    }\n",
       "</style>\n",
       "<table border=\"1\" class=\"dataframe\">\n",
       "  <thead>\n",
       "    <tr style=\"text-align: right;\">\n",
       "      <th></th>\n",
       "      <th>Breed</th>\n",
       "      <th>PredictionRatio</th>\n",
       "    </tr>\n",
       "  </thead>\n",
       "  <tbody>\n",
       "    <tr>\n",
       "      <th>0</th>\n",
       "      <td>Chihuahua</td>\n",
       "      <td>0.500000</td>\n",
       "    </tr>\n",
       "    <tr>\n",
       "      <th>1</th>\n",
       "      <td>Irish_setter</td>\n",
       "      <td>0.500000</td>\n",
       "    </tr>\n",
       "    <tr>\n",
       "      <th>2</th>\n",
       "      <td>Maltese_dog</td>\n",
       "      <td>0.666667</td>\n",
       "    </tr>\n",
       "    <tr>\n",
       "      <th>3</th>\n",
       "      <td>Scotch_terrier</td>\n",
       "      <td>0.500000</td>\n",
       "    </tr>\n",
       "    <tr>\n",
       "      <th>4</th>\n",
       "      <td>Siberian_husky</td>\n",
       "      <td>0.333333</td>\n",
       "    </tr>\n",
       "  </tbody>\n",
       "</table>\n",
       "</div>"
      ],
      "text/plain": [
       "            Breed  PredictionRatio\n",
       "0       Chihuahua         0.500000\n",
       "1    Irish_setter         0.500000\n",
       "2     Maltese_dog         0.666667\n",
       "3  Scotch_terrier         0.500000\n",
       "4  Siberian_husky         0.333333"
      ]
     },
     "metadata": {},
     "output_type": "display_data"
    },
    {
     "data": {
      "image/png": "[encoded data removed]",
      "text/plain": [
       "<Figure size 432x288 with 1 Axes>"
      ]
     },
     "metadata": {},
     "output_type": "display_data"
    }
   ],
   "source": [
    "evaluatePerClass(y_test.values, y_pred)"
   ]
  },
  {
   "cell_type": "code",
   "execution_count": 64,
   "metadata": {},
   "outputs": [
    {
     "data": {
      "text/plain": [
       "array([1, 2, 3])"
      ]
     },
     "execution_count": 64,
     "metadata": {},
     "output_type": "execute_result"
    }
   ],
   "source": [
    "np.arange(1,4,1)"
   ]
  },
  {
   "cell_type": "code",
   "execution_count": null,
   "metadata": {},
   "outputs": [],
   "source": []
  }
 ],
 "metadata": {
  "kernelspec": {
   "display_name": "Python 3",
   "language": "python",
   "name": "python3"
  },
  "language_info": {
   "codemirror_mode": {
    "name": "ipython",
    "version": 3
   },
   "file_extension": ".py",
   "mimetype": "text/x-python",
   "name": "python",
   "nbconvert_exporter": "python",
   "pygments_lexer": "ipython3",
   "version": "3.6.5"
  }
 },
 "nbformat": 4,
 "nbformat_minor": 2
}
