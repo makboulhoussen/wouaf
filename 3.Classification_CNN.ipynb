{
 "cells": [
  {
   "cell_type": "markdown",
   "metadata": {
    "colab_type": "text",
    "id": "Gv1btVh230x1"
   },
   "source": [
    "# Projet 7 : Réalisez des indexations automatiques d’images\n",
    "# <u>C. Classification avec les Réseaux de Neurones Convolutionnels</u> <br/>"
   ]
  },
  {
   "cell_type": "markdown",
   "metadata": {},
   "source": [
    "# Le contexte\n",
    "\n",
    "Pour aider une association de protection des animaux, nous mettons en place une solution de détéction automatique de la race d'un chien à partir d'une photo de celui-ci. Nous essayerons une approche classique dans un premier temps, puis une approche basée sur les réseaux de neurones.\n",
    "\n",
    "Dans ce notebook nous allons essayer les approches basées sur les réseaux de neurones convolutionels. Nous avons utilisé Google Colaboratory pour exécuter ce Notebook. Colab offre une accélaration matérielle qui nous a fait gagner énormement de temps de calcul. "
   ]
  },
  {
   "cell_type": "markdown",
   "metadata": {},
   "source": [
    "# Google Colab setup"
   ]
  },
  {
   "cell_type": "markdown",
   "metadata": {},
   "source": [
    "- On commence par récupérer les données dans notre VM Colaboratory."
   ]
  },
  {
   "cell_type": "code",
   "execution_count": 0,
   "metadata": {
    "colab": {
     "autoexec": {
      "startup": false,
      "wait_interval": 0
     }
    },
    "colab_type": "code",
    "id": "-rDTPR4a4U3_"
   },
   "outputs": [],
   "source": [
    "#! kill -9 -1\n",
    "COLAB=False"
   ]
  },
  {
   "cell_type": "code",
   "execution_count": 2,
   "metadata": {
    "colab": {
     "autoexec": {
      "startup": false,
      "wait_interval": 0
     },
     "base_uri": "https://localhost:8080/",
     "height": 51
    },
    "colab_type": "code",
    "executionInfo": {
     "elapsed": 2389,
     "status": "ok",
     "timestamp": 1530688559425,
     "user": {
      "displayName": "Azim Makboulhoussen",
      "photoUrl": "//lh5.googleusercontent.com/-uSPcjF6BeK0/AAAAAAAAAAI/AAAAAAAAGKs/retynLupjuc/s50-c-k-no/photo.jpg",
      "userId": "105239973402602961916"
     },
     "user_tz": -240
    },
    "id": "M-9YjjIi34eK",
    "outputId": "7979789d-31ea-4232-c055-fbd08067c86d"
   },
   "outputs": [
    {
     "name": "stdout",
     "output_type": "stream",
     "text": [
      "Downloading zip file train_cnn\n",
      "Uncompressing zip file\n"
     ]
    }
   ],
   "source": [
    "if (COLAB) :\n",
    "    !pip install -U -q PyDrive\n",
    "    from pydrive.auth import GoogleAuth\n",
    "    from pydrive.drive import GoogleDrive\n",
    "    from google.colab import auth\n",
    "    from oauth2client.client import GoogleCredentials\n",
    "    import zipfile, os\n",
    "    import shutil\n",
    "    from google.colab import files\n",
    "\n",
    "    \n",
    "    # HERE YOUR FILE ID ( GET IT WITH THE SHARING URL: https://drive.google.com/open?id=1Soh3zXLXt2lT7b_3FcWWyeOCC7SnOxK0 )\n",
    "    train_zip_id = '1tq2BdlFZNwCXWFDwz_Ru-ikD9HGu68BA'\n",
    "    test_zip_id = '1gPxoxcHpdf8djLB5SAoRfT3ecP1UBmx_'\n",
    "    \n",
    "    # 1. Authenticate and create the PyDrive client.\n",
    "    auth.authenticate_user()\n",
    "    gauth = GoogleAuth()\n",
    "    gauth.credentials = GoogleCredentials.get_application_default()\n",
    "    drive = GoogleDrive(gauth)\n",
    "\n",
    "    # Create Data directory\n",
    "    if (os.path.exists('data')) :\n",
    "        shutil.rmtree('data')\n",
    "        os.makedirs('data')\n",
    "        \n",
    "    # DOWNLOAD ZIP\n",
    "    print (\"Downloading zip file train_cnn\")\n",
    "    myzip = drive.CreateFile({'id': train_zip_id})\n",
    "    myzip.GetContentFile('train_cnn.zip')\n",
    "    myzip2 = drive.CreateFile({'id': test_zip_id})\n",
    "    myzip2.GetContentFile('test_cnn.zip')\n",
    "    \n",
    "    # UNZIP ZIP\n",
    "    print (\"Uncompressing zip file\")\n",
    "    zip_ref = zipfile.ZipFile('train_cnn.zip', 'r')\n",
    "    zip_ref.extractall('data/.')\n",
    "    zip_ref.close()\n",
    "    \n",
    "    zip_ref2 = zipfile.ZipFile('test_cnn.zip', 'r')\n",
    "    zip_ref2.extractall('data/.')\n",
    "    zip_ref2.close()"
   ]
  },
  {
   "cell_type": "markdown",
   "metadata": {},
   "source": [
    "# Importation des librairies"
   ]
  },
  {
   "cell_type": "code",
   "execution_count": 3,
   "metadata": {
    "colab": {
     "autoexec": {
      "startup": false,
      "wait_interval": 0
     },
     "base_uri": "https://localhost:8080/",
     "height": 34
    },
    "colab_type": "code",
    "executionInfo": {
     "elapsed": 7249,
     "status": "ok",
     "timestamp": 1530688566716,
     "user": {
      "displayName": "Azim Makboulhoussen",
      "photoUrl": "//lh5.googleusercontent.com/-uSPcjF6BeK0/AAAAAAAAAAI/AAAAAAAAGKs/retynLupjuc/s50-c-k-no/photo.jpg",
      "userId": "105239973402602961916"
     },
     "user_tz": -240
    },
    "id": "6AP7kVOX30x2",
    "outputId": "17806b67-9374-4075-f3ae-ba88775ef1ad"
   },
   "outputs": [
    {
     "name": "stderr",
     "output_type": "stream",
     "text": [
      "Using TensorFlow backend.\n"
     ]
    }
   ],
   "source": [
    "import numpy as np  \n",
    "import matplotlib.pyplot as plt  \n",
    "import pandas as pd\n",
    "import os\n",
    "import math \n",
    "from time import time\n",
    "import pickle\n",
    "\n",
    "\n",
    "from sklearn.model_selection import GridSearchCV\n",
    "from sklearn.metrics import classification_report\n",
    "from sklearn.model_selection import train_test_split\n",
    "from sklearn import metrics\n",
    "\n",
    "\n",
    "import warnings\n",
    "warnings.simplefilter(action='ignore', category=FutureWarning)\n",
    "warnings.simplefilter(\"ignore\", DeprecationWarning)\n",
    "\n",
    "from keras.preprocessing.image import ImageDataGenerator\n",
    "from keras.applications import vgg16\n",
    "from keras.applications.vgg16 import VGG16\n",
    "from keras.applications import resnet50\n",
    "from keras.applications.resnet50 import ResNet50\n",
    "from keras.applications import inception_v3\n",
    "from keras.applications.inception_v3 import InceptionV3\n",
    "from keras.models import Sequential  \n",
    "from keras.layers import Dropout, Flatten, Dense \n",
    "from keras.callbacks import ModelCheckpoint  \n",
    "from keras.utils.np_utils import to_categorical\n",
    "from keras.wrappers.scikit_learn import KerasClassifier\n",
    "\n",
    "\n"
   ]
  },
  {
   "cell_type": "markdown",
   "metadata": {
    "colab_type": "text",
    "id": "ALertjvA30x5"
   },
   "source": [
    "# 1. Préparation des données"
   ]
  },
  {
   "cell_type": "markdown",
   "metadata": {
    "colab_type": "text",
    "id": "DAf-JyuL30x7"
   },
   "source": [
    "## Variables"
   ]
  },
  {
   "cell_type": "code",
   "execution_count": 0,
   "metadata": {
    "colab": {
     "autoexec": {
      "startup": false,
      "wait_interval": 0
     }
    },
    "colab_type": "code",
    "id": "Td9atAPH30x8"
   },
   "outputs": [],
   "source": [
    "# dimensions of our images.  \n",
    "img_width, img_height = 224, 224\n",
    "num_classes = 4\n",
    "   \n",
    "train_data_dir = './data/train_cnn'  \n",
    "test_data_dir = './data/test_cnn' \n",
    "\n",
    "batch_size = 32\n",
    "\n",
    "seed=7\n",
    "\n",
    "breedNamesIndex = {}"
   ]
  },
  {
   "cell_type": "markdown",
   "metadata": {
    "colab_type": "text",
    "id": "0vHwDgzw30x-"
   },
   "source": [
    "# 2. Extraction des features bottleneck"
   ]
  },
  {
   "cell_type": "markdown",
   "metadata": {},
   "source": [
    "Nous avons utilisé la puissance des réseaux de neurones à convolution particulièrement efficace dans le tri d'image. Nous avons utilisé Keras qui est une librairie qui offre une interface haut niveau de deep learning et qui fonctionne au dessus de différents frameworks comme TensorFlow ou Theano.<br/>\n",
    "\n",
    "Nous nous sommes basés sur les techniques de transfert learning dont le principe est d'utiliser les connaissances acquises par un réseau de neurones lors de la résolution d'un problème afin de résoudre le notre. Nous utiliserons pour celà les réseaux VGG16, ResNet50 et Inception_V3 qui ont été entrainés pour les données ImageNet et qui sont complètement intégrés dans Keras."
   ]
  },
  {
   "cell_type": "markdown",
   "metadata": {
    "colab_type": "text",
    "id": "1I_sfN4z30x_"
   },
   "source": [
    "## 2.1 Méthodes génériques"
   ]
  },
  {
   "cell_type": "code",
   "execution_count": 0,
   "metadata": {
    "colab": {
     "autoexec": {
      "startup": false,
      "wait_interval": 0
     }
    },
    "colab_type": "code",
    "id": "zuwhC1yv30yA"
   },
   "outputs": [],
   "source": [
    "'''\n",
    "Retourne une instance du modèle et la méthode de pré-traitement du réseau model_name\n",
    "'''\n",
    "def get_model_parameters(model_name) :\n",
    "    model = None, \n",
    "    preprocess_input=None\n",
    "    if (model_name == 'vgg16') :\n",
    "        model = VGG16(include_top=False, weights='imagenet', input_shape = (img_width, img_height, 3))\n",
    "        preprocess_input = vgg16.preprocess_input\n",
    "    elif (model_name == 'resNet50') :\n",
    "        model = ResNet50(include_top=False, weights='imagenet', input_shape = (img_width, img_height, 3))\n",
    "        preprocess_input = resnet50.preprocess_input\n",
    "    elif (model_name == 'inceptionV3') :\n",
    "        model = InceptionV3(include_top=False, weights='imagenet', input_shape = (img_width, img_height, 3))\n",
    "        preprocess_input = inception_v3.preprocess_input\n",
    "    else :\n",
    "        print(\"Connais pas celui-la désolé !\")\n",
    "    return model, preprocess_input"
   ]
  },
  {
   "cell_type": "code",
   "execution_count": 0,
   "metadata": {
    "colab": {
     "autoexec": {
      "startup": false,
      "wait_interval": 0
     }
    },
    "colab_type": "code",
    "id": "Vi13MMpss2d4"
   },
   "outputs": [],
   "source": [
    "'''\n",
    "Dictionnaire faisant le mapping entre valeur numérique et nom de la classe de race de chien.\n",
    "'''\n",
    "def saveBreedsIndex() :\n",
    "    global breedNamesIndex\n",
    "    datagen = ImageDataGenerator()\n",
    "    generator = datagen.flow_from_directory(train_data_dir, target_size=(img_width, img_height), \n",
    "                                                batch_size=batch_size, class_mode='categorical', shuffle=False)\n",
    "    labels_dictionary = generator.class_indices\n",
    "    breedNamesIndex = {v: k for k, v in labels_dictionary.items()}\n",
    "    with open('breedNamesIndex.pkl', 'wb') as f:\n",
    "        pickle.dump(breedNamesIndex, f, pickle.HIGHEST_PROTOCOL)\n",
    "    files.download('breedNamesIndex.pkl')"
   ]
  },
  {
   "cell_type": "code",
   "execution_count": 1,
   "metadata": {
    "colab": {
     "autoexec": {
      "startup": false,
      "wait_interval": 0
     }
    },
    "colab_type": "code",
    "id": "A7MOUvsK30yC"
   },
   "outputs": [],
   "source": [
    "'''\n",
    "Extraction des features bottlenecks. Ce sont les features obtenus par les couches se situant \n",
    "avec les couches Fully Connected du réseau de neurone\n",
    "'''\n",
    "\n",
    "def extract_features(model, generator, save_filename) :\n",
    "    nb_samples = len(generator.filenames)\n",
    "    num_classes = len(generator.class_indices)\n",
    "    predict_size = int(math.ceil(nb_samples / batch_size))\n",
    "    \n",
    "    # Si un fichier de features est trouvé, on ne refait pas tout le calcul.\n",
    "    if os.path.exists(save_filename):\n",
    "        print('bottleneck features detected ', save_filename)\n",
    "        features = np.load(save_filename)\n",
    "    else :\n",
    "        print('calculating ...')\n",
    "        features = model.predict_generator(generator, predict_size, verbose=1)\n",
    "        np.save(save_filename, features)\n",
    "\n",
    "    # get the class lebels for the training data, in the original order \n",
    "    labels = generator.classes \n",
    "    # convert the training labels to categorical vectors\n",
    "    #labels = to_categorical(labels, num_classes=num_classes)\n",
    "    return features, labels"
   ]
  },
  {
   "cell_type": "code",
   "execution_count": 0,
   "metadata": {
    "colab": {
     "autoexec": {
      "startup": false,
      "wait_interval": 0
     }
    },
    "colab_type": "code",
    "id": "VJOwj8il30yE"
   },
   "outputs": [],
   "source": [
    "'''\n",
    "Extraction des features bottlenecks. Ce sont les features obtenus par les couches se situant \n",
    "avec les couches Fully Connected du réseau de neurone\n",
    "'''\n",
    "\n",
    "\n",
    "def get_bottleneck_features(model_name) :\n",
    "    model, preprocess_input = get_model_parameters(model_name)\n",
    "    datagen = ImageDataGenerator(preprocessing_function=preprocess_input)#, rescale=1. / 255)\n",
    "    \n",
    "    # Train data\n",
    "    save_train = model_name + '_' + 'features_train.npy'\n",
    "    generator_train = datagen.flow_from_directory(train_data_dir, target_size=(img_width, img_height), \n",
    "                                            batch_size=batch_size, class_mode='categorical', shuffle=False)\n",
    "    bottleneck_features_train, train_labels = extract_features(model, generator_train, save_train)\n",
    "    \n",
    "    # Test data\n",
    "    save_test = model_name + '_' + 'features_test.npy'\n",
    "    generator_test = datagen.flow_from_directory(test_data_dir, target_size=(img_width, img_height), \n",
    "                                            batch_size=batch_size, class_mode='categorical', shuffle=False)\n",
    "    bottleneck_features_test, test_labels = extract_features(model, generator_test, save_test)\n",
    "    labels_dictionary = generator_train.class_indices  \n",
    "    \n",
    "    return bottleneck_features_train, train_labels, bottleneck_features_test, test_labels, labels_dictionary"
   ]
  },
  {
   "cell_type": "code",
   "execution_count": 9,
   "metadata": {
    "colab": {
     "autoexec": {
      "startup": false,
      "wait_interval": 0
     },
     "base_uri": "https://localhost:8080/",
     "height": 34
    },
    "colab_type": "code",
    "executionInfo": {
     "elapsed": 3776,
     "status": "ok",
     "timestamp": 1530688577511,
     "user": {
      "displayName": "Azim Makboulhoussen",
      "photoUrl": "//lh5.googleusercontent.com/-uSPcjF6BeK0/AAAAAAAAAAI/AAAAAAAAGKs/retynLupjuc/s50-c-k-no/photo.jpg",
      "userId": "105239973402602961916"
     },
     "user_tz": -240
    },
    "id": "-zt3h6ZQHZnx",
    "outputId": "f947b363-6f82-440b-f78c-a9d9663b14a2"
   },
   "outputs": [
    {
     "name": "stdout",
     "output_type": "stream",
     "text": [
      "Found 800 images belonging to 4 classes.\n"
     ]
    }
   ],
   "source": [
    "saveBreedsIndex()"
   ]
  },
  {
   "cell_type": "markdown",
   "metadata": {
    "colab_type": "text",
    "id": "HkZ9j3OK30yG"
   },
   "source": [
    "## 2.2 VGG16"
   ]
  },
  {
   "cell_type": "markdown",
   "metadata": {},
   "source": [
    "- On construit les bottleneck features de VGG16"
   ]
  },
  {
   "cell_type": "code",
   "execution_count": 10,
   "metadata": {
    "colab": {
     "autoexec": {
      "startup": false,
      "wait_interval": 0
     },
     "base_uri": "https://localhost:8080/",
     "height": 173
    },
    "colab_type": "code",
    "executionInfo": {
     "elapsed": 19249,
     "status": "ok",
     "timestamp": 1530688596786,
     "user": {
      "displayName": "Azim Makboulhoussen",
      "photoUrl": "//lh5.googleusercontent.com/-uSPcjF6BeK0/AAAAAAAAAAI/AAAAAAAAGKs/retynLupjuc/s50-c-k-no/photo.jpg",
      "userId": "105239973402602961916"
     },
     "user_tz": -240
    },
    "id": "Rlp1y4NF30yH",
    "outputId": "ede2b095-7d15-4c22-c1cd-5a751834e393"
   },
   "outputs": [
    {
     "name": "stdout",
     "output_type": "stream",
     "text": [
      "Downloading data from https://github.com/fchollet/deep-learning-models/releases/download/v0.1/vgg16_weights_tf_dim_ordering_tf_kernels_notop.h5\n",
      "58892288/58889256 [==============================] - 2s 0us/step\n",
      "Found 800 images belonging to 4 classes.\n",
      "calculating ...\n",
      "25/25 [==============================] - 11s 422ms/step\n",
      "Found 354 images belonging to 4 classes.\n",
      "calculating ...\n",
      "12/12 [==============================] - 4s 304ms/step\n"
     ]
    }
   ],
   "source": [
    "x_train_vgg16, y_train_vgg16, x_test_vgg16, y_test_vgg16, vggLabelsDict = get_bottleneck_features(\"vgg16\")"
   ]
  },
  {
   "cell_type": "markdown",
   "metadata": {
    "colab_type": "text",
    "id": "3EpBpcmQ30yJ"
   },
   "source": [
    "## 2.3 ResNet50"
   ]
  },
  {
   "cell_type": "markdown",
   "metadata": {},
   "source": [
    "- On construit les bottleneck features de ResNet50"
   ]
  },
  {
   "cell_type": "code",
   "execution_count": 11,
   "metadata": {
    "colab": {
     "autoexec": {
      "startup": false,
      "wait_interval": 0
     },
     "base_uri": "https://localhost:8080/",
     "height": 173
    },
    "colab_type": "code",
    "executionInfo": {
     "elapsed": 26608,
     "status": "ok",
     "timestamp": 1530688623496,
     "user": {
      "displayName": "Azim Makboulhoussen",
      "photoUrl": "//lh5.googleusercontent.com/-uSPcjF6BeK0/AAAAAAAAAAI/AAAAAAAAGKs/retynLupjuc/s50-c-k-no/photo.jpg",
      "userId": "105239973402602961916"
     },
     "user_tz": -240
    },
    "id": "cDTrfWBi30yL",
    "outputId": "3ed11ec7-93ac-4aa7-dc7b-924abdd25ee8"
   },
   "outputs": [
    {
     "name": "stdout",
     "output_type": "stream",
     "text": [
      "Downloading data from https://github.com/fchollet/deep-learning-models/releases/download/v0.2/resnet50_weights_tf_dim_ordering_tf_kernels_notop.h5\n",
      "94658560/94653016 [==============================] - 1s 0us/step\n",
      "Found 800 images belonging to 4 classes.\n",
      "calculating ...\n",
      "25/25 [==============================] - 11s 429ms/step\n",
      "Found 354 images belonging to 4 classes.\n",
      "calculating ...\n",
      "12/12 [==============================] - 4s 345ms/step\n"
     ]
    }
   ],
   "source": [
    "x_train_resNet50, y_train_resNet50, x_test_resNet50, y_test_resNet50, resnetLabelsDict = get_bottleneck_features(\"resNet50\")"
   ]
  },
  {
   "cell_type": "markdown",
   "metadata": {
    "colab_type": "text",
    "id": "hF3aQna49Q87"
   },
   "source": [
    "## 2.4 Inception V3"
   ]
  },
  {
   "cell_type": "markdown",
   "metadata": {},
   "source": [
    "- On construit les bottleneck features de InceptionV3"
   ]
  },
  {
   "cell_type": "code",
   "execution_count": 12,
   "metadata": {
    "colab": {
     "autoexec": {
      "startup": false,
      "wait_interval": 0
     },
     "base_uri": "https://localhost:8080/",
     "height": 173
    },
    "colab_type": "code",
    "executionInfo": {
     "elapsed": 31713,
     "status": "ok",
     "timestamp": 1530688655235,
     "user": {
      "displayName": "Azim Makboulhoussen",
      "photoUrl": "//lh5.googleusercontent.com/-uSPcjF6BeK0/AAAAAAAAAAI/AAAAAAAAGKs/retynLupjuc/s50-c-k-no/photo.jpg",
      "userId": "105239973402602961916"
     },
     "user_tz": -240
    },
    "id": "vNP-X_-N9T-2",
    "outputId": "4e2f7ac1-7155-448a-a6d0-349e5b015a46"
   },
   "outputs": [
    {
     "name": "stdout",
     "output_type": "stream",
     "text": [
      "Downloading data from https://github.com/fchollet/deep-learning-models/releases/download/v0.5/inception_v3_weights_tf_dim_ordering_tf_kernels_notop.h5\n",
      "87916544/87910968 [==============================] - 1s 0us/step\n",
      "Found 800 images belonging to 4 classes.\n",
      "calculating ...\n",
      "25/25 [==============================] - 9s 358ms/step\n",
      "Found 354 images belonging to 4 classes.\n",
      "calculating ...\n",
      "12/12 [==============================] - 3s 254ms/step\n"
     ]
    }
   ],
   "source": [
    "x_train_inceptionV3, y_train_inceptionV3, x_test_inceptionV3, y_test_inceptionV3, inceptionLabelsDict = get_bottleneck_features(\"inceptionV3\")"
   ]
  },
  {
   "cell_type": "markdown",
   "metadata": {
    "colab_type": "text",
    "id": "9zFnr4DV30yN"
   },
   "source": [
    "# 3. Création et entrainement du nouveau modèle"
   ]
  },
  {
   "cell_type": "markdown",
   "metadata": {
    "colab_type": "text",
    "id": "YjIx3xNH30yO"
   },
   "source": [
    "## 3.1 Méthodes génériques"
   ]
  },
  {
   "cell_type": "markdown",
   "metadata": {
    "colab_type": "text",
    "id": "e0rbv9i430yP"
   },
   "source": [
    "### Définition et compilation du modèle"
   ]
  },
  {
   "cell_type": "markdown",
   "metadata": {},
   "source": [
    "- On construit un nouveau modèle pour la dernière couche."
   ]
  },
  {
   "cell_type": "code",
   "execution_count": 0,
   "metadata": {
    "colab": {
     "autoexec": {
      "startup": false,
      "wait_interval": 0
     }
    },
    "colab_type": "code",
    "id": "F1Fd-qEB30yQ"
   },
   "outputs": [],
   "source": [
    "def create_model_(features, dropout_rate=0.5, optimizer='adadelta') :\n",
    "    model = Sequential()  \n",
    "    model.add(Flatten(input_shape=features.shape[1:])) \n",
    "    model.add(Dense(128, activation='relu')) \n",
    "    model.add(Dropout(dropout_rate))\n",
    "    model.add(Dense(128, activation='relu')) \n",
    "    model.add(Dropout(dropout_rate))\n",
    "    model.add(Dense(num_classes, activation='softmax'))  \n",
    "    model.compile(optimizer=optimizer,loss='sparse_categorical_crossentropy', metrics=['accuracy']) \n",
    "    return model\n",
    "\n"
   ]
  },
  {
   "cell_type": "markdown",
   "metadata": {
    "colab_type": "text",
    "id": "cr6tC9G530yS"
   },
   "source": [
    "### Entrainement du modèle"
   ]
  },
  {
   "cell_type": "code",
   "execution_count": 0,
   "metadata": {
    "colab": {
     "autoexec": {
      "startup": false,
      "wait_interval": 0
     }
    },
    "colab_type": "code",
    "id": "cWLJzQwS30yT"
   },
   "outputs": [],
   "source": [
    "def fit_new_model(train_features, train_labels, epochs, drop_rate, top_model_weights_path) :\n",
    "    model = create_model_(train_features, drop_rate)\n",
    "    x_train, x_val, y_train, y_val = train_test_split(train_features, train_labels, test_size=0.3,\\\n",
    "                                                                              stratify=train_labels, random_state=seed)\n",
    "    checkpointer = ModelCheckpoint(filepath=top_model_weights_path, verbose=1, save_best_only=True)\n",
    "    \n",
    "    history = model.fit(x_train, y_train, epochs=epochs,\n",
    "                    batch_size=batch_size,\n",
    "                    validation_data=(x_val, y_val), callbacks=[checkpointer], verbose=1) \n",
    "    # evaluate validation accuracy\n",
    "    score = model.evaluate(x_val, y_val, batch_size=batch_size, verbose=0)\n",
    "    accuracy = 100*score[1]\n",
    "    print('Validation accuracy: %.4f%%' % accuracy)\n",
    "    return history"
   ]
  },
  {
   "cell_type": "markdown",
   "metadata": {},
   "source": [
    "## Accuracy de l'entrainement"
   ]
  },
  {
   "cell_type": "code",
   "execution_count": 0,
   "metadata": {
    "colab": {
     "autoexec": {
      "startup": false,
      "wait_interval": 0
     }
    },
    "colab_type": "code",
    "id": "Ve5yIHAO30yW"
   },
   "outputs": [],
   "source": [
    "def draw_training_history(history) :\n",
    "    # summarize history for accuracy\n",
    "    plt.figure(num=None, figsize=(6, 4), dpi=80, facecolor='w', edgecolor='k')\n",
    "\n",
    "    acc = history.history['acc']\n",
    "    val_acc = history.history['val_acc']\n",
    "    loss = history.history['loss']\n",
    "    val_loss = history.history['val_loss']\n",
    "    epochs = range(len(acc))\n",
    "\n",
    "    plt.plot(epochs, acc, 'b')\n",
    "    plt.plot(epochs, val_acc, 'r')\n",
    "    plt.title('Training and validation accuracy')\n",
    "    plt.ylabel('accuracy')  \n",
    "    plt.xlabel('epoch')  \n",
    "    plt.legend(['train', 'val'], loc='upper left')  \n",
    "\n",
    "    plt.figure(num=None, figsize=(6, 4), dpi=80, facecolor='w', edgecolor='k')\n",
    "    plt.plot(epochs, loss, 'b')\n",
    "    plt.plot(epochs, val_loss, 'r')\n",
    "    plt.title('Training and validation loss')\n",
    "    plt.ylabel('loss')  \n",
    "    plt.xlabel('epoch') \n",
    "    plt.legend(['train', 'val'], loc='upper left')  \n",
    "\n",
    "    plt.show()"
   ]
  },
  {
   "cell_type": "markdown",
   "metadata": {
    "colab_type": "text",
    "id": "H86zx2wK30yY"
   },
   "source": [
    "## 3.2 Entrainement VGG16"
   ]
  },
  {
   "cell_type": "code",
   "execution_count": 0,
   "metadata": {
    "colab": {
     "autoexec": {
      "startup": false,
      "wait_interval": 0
     }
    },
    "colab_type": "code",
    "id": "ysNU7XKk30yY"
   },
   "outputs": [],
   "source": [
    "vgg_epochs = 30\n",
    "vgg_drop_rate = 0.5\n",
    "vgg_model_weigths_file = 'VGG16_top_model_weights.h5'"
   ]
  },
  {
   "cell_type": "code",
   "execution_count": 17,
   "metadata": {
    "colab": {
     "autoexec": {
      "startup": false,
      "wait_interval": 0
     },
     "base_uri": "https://localhost:8080/",
     "height": 2111
    },
    "colab_type": "code",
    "executionInfo": {
     "elapsed": 17863,
     "status": "ok",
     "timestamp": 1530688676741,
     "user": {
      "displayName": "Azim Makboulhoussen",
      "photoUrl": "//lh5.googleusercontent.com/-uSPcjF6BeK0/AAAAAAAAAAI/AAAAAAAAGKs/retynLupjuc/s50-c-k-no/photo.jpg",
      "userId": "105239973402602961916"
     },
     "user_tz": -240
    },
    "id": "o9LK9Qbc30yc",
    "outputId": "23021980-0921-4601-c9bc-144828f8d72d"
   },
   "outputs": [
    {
     "name": "stdout",
     "output_type": "stream",
     "text": [
      "Train on 560 samples, validate on 240 samples\n",
      "Epoch 1/30\n",
      "560/560 [==============================] - 2s 4ms/step - loss: 9.1484 - acc: 0.3875 - val_loss: 9.3074 - val_acc: 0.3833\n",
      "\n",
      "Epoch 00001: val_loss improved from inf to 9.30742, saving model to VGG16_top_model_weights.h5\n",
      "Epoch 2/30\n",
      "560/560 [==============================] - 0s 564us/step - loss: 7.5981 - acc: 0.5054 - val_loss: 3.5727 - val_acc: 0.7458\n",
      "\n",
      "Epoch 00002: val_loss improved from 9.30742 to 3.57273, saving model to VGG16_top_model_weights.h5\n",
      "Epoch 3/30\n",
      "560/560 [==============================] - 0s 551us/step - loss: 6.4489 - acc: 0.5786 - val_loss: 1.4566 - val_acc: 0.8750\n",
      "\n",
      "Epoch 00003: val_loss improved from 3.57273 to 1.45659, saving model to VGG16_top_model_weights.h5\n",
      "Epoch 4/30\n",
      "560/560 [==============================] - 0s 554us/step - loss: 5.7270 - acc: 0.6179 - val_loss: 1.7118 - val_acc: 0.8667\n",
      "\n",
      "Epoch 00004: val_loss did not improve from 1.45659\n",
      "Epoch 5/30\n",
      "560/560 [==============================] - 0s 563us/step - loss: 4.4683 - acc: 0.7036 - val_loss: 0.7608 - val_acc: 0.9292\n",
      "\n",
      "Epoch 00005: val_loss improved from 1.45659 to 0.76083, saving model to VGG16_top_model_weights.h5\n",
      "Epoch 6/30\n",
      "560/560 [==============================] - 0s 555us/step - loss: 3.9908 - acc: 0.7339 - val_loss: 0.2293 - val_acc: 0.9750\n",
      "\n",
      "Epoch 00006: val_loss improved from 0.76083 to 0.22931, saving model to VGG16_top_model_weights.h5\n",
      "Epoch 7/30\n",
      "560/560 [==============================] - 0s 569us/step - loss: 3.6317 - acc: 0.7571 - val_loss: 0.9729 - val_acc: 0.9292\n",
      "\n",
      "Epoch 00007: val_loss did not improve from 0.22931\n",
      "Epoch 8/30\n",
      "560/560 [==============================] - 0s 563us/step - loss: 2.9593 - acc: 0.8000 - val_loss: 1.2189 - val_acc: 0.9042\n",
      "\n",
      "Epoch 00008: val_loss did not improve from 0.22931\n",
      "Epoch 9/30\n",
      "560/560 [==============================] - 0s 547us/step - loss: 2.7795 - acc: 0.8107 - val_loss: 0.6103 - val_acc: 0.9542\n",
      "\n",
      "Epoch 00009: val_loss did not improve from 0.22931\n",
      "Epoch 10/30\n",
      "560/560 [==============================] - 0s 549us/step - loss: 2.6729 - acc: 0.8161 - val_loss: 0.2967 - val_acc: 0.9750\n",
      "\n",
      "Epoch 00010: val_loss did not improve from 0.22931\n",
      "Epoch 11/30\n",
      "560/560 [==============================] - 0s 565us/step - loss: 2.1210 - acc: 0.8500 - val_loss: 0.5059 - val_acc: 0.9667\n",
      "\n",
      "Epoch 00011: val_loss did not improve from 0.22931\n",
      "Epoch 12/30\n",
      "560/560 [==============================] - 0s 554us/step - loss: 2.3659 - acc: 0.8411 - val_loss: 0.3749 - val_acc: 0.9667\n",
      "\n",
      "Epoch 00012: val_loss did not improve from 0.22931\n",
      "Epoch 13/30\n",
      "560/560 [==============================] - 0s 553us/step - loss: 2.0844 - acc: 0.8554 - val_loss: 0.3151 - val_acc: 0.9792\n",
      "\n",
      "Epoch 00013: val_loss did not improve from 0.22931\n",
      "Epoch 14/30\n",
      "560/560 [==============================] - 0s 540us/step - loss: 1.9371 - acc: 0.8750 - val_loss: 0.4944 - val_acc: 0.9583\n",
      "\n",
      "Epoch 00014: val_loss did not improve from 0.22931\n",
      "Epoch 15/30\n",
      "560/560 [==============================] - 0s 540us/step - loss: 1.4742 - acc: 0.8982 - val_loss: 0.5014 - val_acc: 0.9625\n",
      "\n",
      "Epoch 00015: val_loss did not improve from 0.22931\n",
      "Epoch 16/30\n",
      "560/560 [==============================] - 0s 547us/step - loss: 1.6481 - acc: 0.8875 - val_loss: 0.2015 - val_acc: 0.9875\n",
      "\n",
      "Epoch 00016: val_loss improved from 0.22931 to 0.20153, saving model to VGG16_top_model_weights.h5\n",
      "Epoch 17/30\n",
      "560/560 [==============================] - 0s 562us/step - loss: 1.5087 - acc: 0.8982 - val_loss: 0.1463 - val_acc: 0.9875\n",
      "\n",
      "Epoch 00017: val_loss improved from 0.20153 to 0.14627, saving model to VGG16_top_model_weights.h5\n",
      "Epoch 18/30\n",
      "560/560 [==============================] - 0s 562us/step - loss: 1.8692 - acc: 0.8696 - val_loss: 0.0672 - val_acc: 0.9958\n",
      "\n",
      "Epoch 00018: val_loss improved from 0.14627 to 0.06716, saving model to VGG16_top_model_weights.h5\n",
      "Epoch 19/30\n",
      "560/560 [==============================] - 0s 548us/step - loss: 1.7090 - acc: 0.8875 - val_loss: 0.1345 - val_acc: 0.9917\n",
      "\n",
      "Epoch 00019: val_loss did not improve from 0.06716\n",
      "Epoch 20/30\n",
      "560/560 [==============================] - 0s 534us/step - loss: 1.5620 - acc: 0.8964 - val_loss: 0.1343 - val_acc: 0.9917\n",
      "\n",
      "Epoch 00020: val_loss did not improve from 0.06716\n",
      "Epoch 21/30\n",
      "560/560 [==============================] - 0s 543us/step - loss: 1.4673 - acc: 0.8929 - val_loss: 0.9232 - val_acc: 0.9417\n",
      "\n",
      "Epoch 00021: val_loss did not improve from 0.06716\n",
      "Epoch 22/30\n",
      "560/560 [==============================] - 0s 540us/step - loss: 1.5736 - acc: 0.8929 - val_loss: 0.3699 - val_acc: 0.9667\n",
      "\n",
      "Epoch 00022: val_loss did not improve from 0.06716\n",
      "Epoch 23/30\n",
      "560/560 [==============================] - 0s 548us/step - loss: 1.1201 - acc: 0.9250 - val_loss: 0.1343 - val_acc: 0.9917\n",
      "\n",
      "Epoch 00023: val_loss did not improve from 0.06716\n",
      "Epoch 24/30\n",
      "160/560 [=======>......................] - ETA: 0s - loss: 1.6050 - acc: 0.9000560/560 [==============================] - 0s 524us/step - loss: 1.1574 - acc: 0.9161 - val_loss: 0.3340 - val_acc: 0.9792\n",
      "\n",
      "Epoch 00024: val_loss did not improve from 0.06716\n",
      "Epoch 25/30\n",
      "560/560 [==============================] - 0s 554us/step - loss: 1.4404 - acc: 0.9071 - val_loss: 0.2463 - val_acc: 0.9833\n",
      "\n",
      "Epoch 00025: val_loss did not improve from 0.06716\n",
      "Epoch 26/30\n",
      "560/560 [==============================] - 0s 545us/step - loss: 1.0317 - acc: 0.9268 - val_loss: 0.2162 - val_acc: 0.9833\n",
      "\n",
      "Epoch 00026: val_loss did not improve from 0.06716\n",
      "Epoch 27/30\n",
      "560/560 [==============================] - 0s 521us/step - loss: 1.0047 - acc: 0.9304 - val_loss: 0.0104 - val_acc: 0.9958\n",
      "\n",
      "Epoch 00027: val_loss improved from 0.06716 to 0.01040, saving model to VGG16_top_model_weights.h5\n",
      "Epoch 28/30\n",
      "560/560 [==============================] - 0s 525us/step - loss: 1.5187 - acc: 0.8911 - val_loss: 0.2686 - val_acc: 0.9833\n",
      "\n",
      "Epoch 00028: val_loss did not improve from 0.01040\n",
      "Epoch 29/30\n",
      "560/560 [==============================] - 0s 532us/step - loss: 1.1020 - acc: 0.9250 - val_loss: 0.1469 - val_acc: 0.9875\n",
      "\n",
      "Epoch 00029: val_loss did not improve from 0.01040\n",
      "Epoch 30/30\n",
      "560/560 [==============================] - 0s 552us/step - loss: 0.9945 - acc: 0.9339 - val_loss: 0.0672 - val_acc: 0.9958\n",
      "\n",
      "Epoch 00030: val_loss did not improve from 0.01040\n",
      "Validation accuracy: 99.5833%\n"
     ]
    }
   ],
   "source": [
    "history = fit_new_model(x_train_vgg16, y_train_vgg16, vgg_epochs, vgg_drop_rate, vgg_model_weigths_file)"
   ]
  },
  {
   "cell_type": "markdown",
   "metadata": {},
   "source": [
    "=> On obtient une accuracy pour les données de validation de 99,58%"
   ]
  },
  {
   "cell_type": "code",
   "execution_count": 18,
   "metadata": {
    "colab": {
     "autoexec": {
      "startup": false,
      "wait_interval": 0
     },
     "base_uri": "https://localhost:8080/",
     "height": 631
    },
    "colab_type": "code",
    "executionInfo": {
     "elapsed": 1748,
     "status": "ok",
     "timestamp": 1530688678671,
     "user": {
      "displayName": "Azim Makboulhoussen",
      "photoUrl": "//lh5.googleusercontent.com/-uSPcjF6BeK0/AAAAAAAAAAI/AAAAAAAAGKs/retynLupjuc/s50-c-k-no/photo.jpg",
      "userId": "105239973402602961916"
     },
     "user_tz": -240
    },
    "id": "SzgntosY30ye",
    "outputId": "a1b9e924-473c-4374-f40b-231fd9374957"
   },
   "outputs": [
    {
     "data": {
      "image/png": "[encoded data removed]",
      "text/plain": [
       "<matplotlib.figure.Figure at 0x7f5d9e6f1dd8>"
      ]
     },
     "metadata": {
      "tags": []
     },
     "output_type": "display_data"
    },
    {
     "data": {
      "image/png": "[encoded data removed]",
      "text/plain": [
       "<matplotlib.figure.Figure at 0x7f5dad05ab70>"
      ]
     },
     "metadata": {
      "tags": []
     },
     "output_type": "display_data"
    }
   ],
   "source": [
    "draw_training_history(history)"
   ]
  },
  {
   "cell_type": "markdown",
   "metadata": {},
   "source": [
    "On voit qu'au delà de 30 epochs, l'accuracy se stabilise."
   ]
  },
  {
   "cell_type": "markdown",
   "metadata": {
    "colab_type": "text",
    "id": "iD9lqp2a30yi"
   },
   "source": [
    "## 3.3 Entrainement ResNet50"
   ]
  },
  {
   "cell_type": "code",
   "execution_count": 0,
   "metadata": {
    "colab": {
     "autoexec": {
      "startup": false,
      "wait_interval": 0
     }
    },
    "colab_type": "code",
    "id": "tAbYgXbo30yj"
   },
   "outputs": [],
   "source": [
    "resnet_epochs = 10\n",
    "resnet_drop_rate = 0.5\n",
    "resnet_model_weigths_file = 'ResNet50_top_model_weights.h5'"
   ]
  },
  {
   "cell_type": "code",
   "execution_count": 20,
   "metadata": {
    "colab": {
     "autoexec": {
      "startup": false,
      "wait_interval": 0
     },
     "base_uri": "https://localhost:8080/",
     "height": 731
    },
    "colab_type": "code",
    "executionInfo": {
     "elapsed": 5976,
     "status": "ok",
     "timestamp": 1530688686886,
     "user": {
      "displayName": "Azim Makboulhoussen",
      "photoUrl": "//lh5.googleusercontent.com/-uSPcjF6BeK0/AAAAAAAAAAI/AAAAAAAAGKs/retynLupjuc/s50-c-k-no/photo.jpg",
      "userId": "105239973402602961916"
     },
     "user_tz": -240
    },
    "id": "E-xivi9B30yl",
    "outputId": "5b9d1268-d799-4519-bbf1-1f87574c7ff3"
   },
   "outputs": [
    {
     "name": "stdout",
     "output_type": "stream",
     "text": [
      "Train on 560 samples, validate on 240 samples\n",
      "Epoch 1/10\n",
      "560/560 [==============================] - 2s 4ms/step - loss: 0.8769 - acc: 0.6571 - val_loss: 0.1365 - val_acc: 0.9833\n",
      "\n",
      "Epoch 00001: val_loss improved from inf to 0.13652, saving model to ResNet50_top_model_weights.h5\n",
      "Epoch 2/10\n",
      "560/560 [==============================] - 0s 298us/step - loss: 0.2722 - acc: 0.9107 - val_loss: 0.0267 - val_acc: 0.9958\n",
      "\n",
      "Epoch 00002: val_loss improved from 0.13652 to 0.02671, saving model to ResNet50_top_model_weights.h5\n",
      "Epoch 3/10\n",
      "560/560 [==============================] - 0s 294us/step - loss: 0.1671 - acc: 0.9357 - val_loss: 0.0227 - val_acc: 0.9958\n",
      "\n",
      "Epoch 00003: val_loss improved from 0.02671 to 0.02266, saving model to ResNet50_top_model_weights.h5\n",
      "Epoch 4/10\n",
      "560/560 [==============================] - 0s 291us/step - loss: 0.0980 - acc: 0.9696 - val_loss: 0.0316 - val_acc: 0.9917\n",
      "\n",
      "Epoch 00004: val_loss did not improve from 0.02266\n",
      "Epoch 5/10\n",
      "560/560 [==============================] - 0s 298us/step - loss: 0.0773 - acc: 0.9839 - val_loss: 0.0250 - val_acc: 0.9958\n",
      "\n",
      "Epoch 00005: val_loss did not improve from 0.02266\n",
      "Epoch 6/10\n",
      "560/560 [==============================] - 0s 292us/step - loss: 0.0639 - acc: 0.9804 - val_loss: 0.0174 - val_acc: 0.9958\n",
      "\n",
      "Epoch 00006: val_loss improved from 0.02266 to 0.01740, saving model to ResNet50_top_model_weights.h5\n",
      "Epoch 7/10\n",
      "560/560 [==============================] - 0s 309us/step - loss: 0.0568 - acc: 0.9839 - val_loss: 0.0155 - val_acc: 0.9958\n",
      "\n",
      "Epoch 00007: val_loss improved from 0.01740 to 0.01553, saving model to ResNet50_top_model_weights.h5\n",
      "Epoch 8/10\n",
      "560/560 [==============================] - 0s 297us/step - loss: 0.0283 - acc: 0.9911 - val_loss: 0.0197 - val_acc: 0.9958\n",
      "\n",
      "Epoch 00008: val_loss did not improve from 0.01553\n",
      "Epoch 9/10\n",
      "560/560 [==============================] - 0s 307us/step - loss: 0.0351 - acc: 0.9857 - val_loss: 0.0259 - val_acc: 0.9958\n",
      "\n",
      "Epoch 00009: val_loss did not improve from 0.01553\n",
      "Epoch 10/10\n",
      "560/560 [==============================] - 0s 292us/step - loss: 0.0216 - acc: 0.9946 - val_loss: 0.0279 - val_acc: 0.9958\n",
      "\n",
      "Epoch 00010: val_loss did not improve from 0.01553\n",
      "Validation accuracy: 99.5833%\n"
     ]
    }
   ],
   "source": [
    "history = fit_new_model(x_train_resNet50, y_train_resNet50, resnet_epochs, resnet_drop_rate, resnet_model_weigths_file)"
   ]
  },
  {
   "cell_type": "markdown",
   "metadata": {},
   "source": [
    "=> On obtient une accuracy pour les données de validation de 99,58%"
   ]
  },
  {
   "cell_type": "code",
   "execution_count": 21,
   "metadata": {
    "colab": {
     "autoexec": {
      "startup": false,
      "wait_interval": 0
     },
     "base_uri": "https://localhost:8080/",
     "height": 631
    },
    "colab_type": "code",
    "executionInfo": {
     "elapsed": 1581,
     "status": "ok",
     "timestamp": 1530688688582,
     "user": {
      "displayName": "Azim Makboulhoussen",
      "photoUrl": "//lh5.googleusercontent.com/-uSPcjF6BeK0/AAAAAAAAAAI/AAAAAAAAGKs/retynLupjuc/s50-c-k-no/photo.jpg",
      "userId": "105239973402602961916"
     },
     "user_tz": -240
    },
    "id": "WQA7CROC30yo",
    "outputId": "128dc1ec-04af-408b-b3c8-a56779fdfc09"
   },
   "outputs": [
    {
     "data": {
      "image/png": "[encoded data removed]",
      "text/plain": [
       "<matplotlib.figure.Figure at 0x7f5dacfac908>"
      ]
     },
     "metadata": {
      "tags": []
     },
     "output_type": "display_data"
    },
    {
     "data": {
      "image/png": "[encoded data removed]",
      "text/plain": [
       "<matplotlib.figure.Figure at 0x7f5da36f57f0>"
      ]
     },
     "metadata": {
      "tags": []
     },
     "output_type": "display_data"
    }
   ],
   "source": [
    "draw_training_history(history)"
   ]
  },
  {
   "cell_type": "markdown",
   "metadata": {},
   "source": [
    "On voit qu'au delà de 4 epochs, l'accuracy se stabilise."
   ]
  },
  {
   "cell_type": "markdown",
   "metadata": {
    "colab_type": "text",
    "id": "Nv86hbP39vnf"
   },
   "source": [
    "## 3.4 Entrainement InceptionV3"
   ]
  },
  {
   "cell_type": "code",
   "execution_count": 0,
   "metadata": {
    "colab": {
     "autoexec": {
      "startup": false,
      "wait_interval": 0
     }
    },
    "colab_type": "code",
    "id": "Qaz1L6109rGu"
   },
   "outputs": [],
   "source": [
    "inception_epochs = 30\n",
    "inception_drop_rate = 0.5\n",
    "inception_model_weigths_file = 'InceptionV3_top_model_weights.h5'"
   ]
  },
  {
   "cell_type": "code",
   "execution_count": 23,
   "metadata": {
    "colab": {
     "autoexec": {
      "startup": false,
      "wait_interval": 0
     },
     "base_uri": "https://localhost:8080/",
     "height": 2111
    },
    "colab_type": "code",
    "executionInfo": {
     "elapsed": 21395,
     "status": "ok",
     "timestamp": 1530688711199,
     "user": {
      "displayName": "Azim Makboulhoussen",
      "photoUrl": "//lh5.googleusercontent.com/-uSPcjF6BeK0/AAAAAAAAAAI/AAAAAAAAGKs/retynLupjuc/s50-c-k-no/photo.jpg",
      "userId": "105239973402602961916"
     },
     "user_tz": -240
    },
    "id": "6gIAnogN9-2u",
    "outputId": "84a96004-9ff4-4183-af57-b3ca54db4907"
   },
   "outputs": [
    {
     "name": "stdout",
     "output_type": "stream",
     "text": [
      "Train on 560 samples, validate on 240 samples\n",
      "Epoch 1/30\n",
      "560/560 [==============================] - 3s 5ms/step - loss: 3.6000 - acc: 0.6661 - val_loss: 0.5051 - val_acc: 0.9542\n",
      "\n",
      "Epoch 00001: val_loss improved from inf to 0.50507, saving model to InceptionV3_top_model_weights.h5\n",
      "Epoch 2/30\n",
      "560/560 [==============================] - 0s 833us/step - loss: 1.3974 - acc: 0.8857 - val_loss: 0.3436 - val_acc: 0.9708\n",
      "\n",
      "Epoch 00002: val_loss improved from 0.50507 to 0.34364, saving model to InceptionV3_top_model_weights.h5\n",
      "Epoch 3/30\n",
      "560/560 [==============================] - 0s 836us/step - loss: 0.7389 - acc: 0.9214 - val_loss: 0.2776 - val_acc: 0.9750\n",
      "\n",
      "Epoch 00003: val_loss improved from 0.34364 to 0.27761, saving model to InceptionV3_top_model_weights.h5\n",
      "Epoch 4/30\n",
      "560/560 [==============================] - 0s 847us/step - loss: 0.5880 - acc: 0.9268 - val_loss: 0.2044 - val_acc: 0.9875\n",
      "\n",
      "Epoch 00004: val_loss improved from 0.27761 to 0.20443, saving model to InceptionV3_top_model_weights.h5\n",
      "Epoch 5/30\n",
      "560/560 [==============================] - 0s 843us/step - loss: 0.5949 - acc: 0.9446 - val_loss: 0.3084 - val_acc: 0.9750\n",
      "\n",
      "Epoch 00005: val_loss did not improve from 0.20443\n",
      "Epoch 6/30\n",
      "560/560 [==============================] - 0s 829us/step - loss: 0.3550 - acc: 0.9589 - val_loss: 0.2019 - val_acc: 0.9875\n",
      "\n",
      "Epoch 00006: val_loss improved from 0.20443 to 0.20186, saving model to InceptionV3_top_model_weights.h5\n",
      "Epoch 7/30\n",
      "560/560 [==============================] - 0s 871us/step - loss: 0.2478 - acc: 0.9714 - val_loss: 0.0368 - val_acc: 0.9875\n",
      "\n",
      "Epoch 00007: val_loss improved from 0.20186 to 0.03685, saving model to InceptionV3_top_model_weights.h5\n",
      "Epoch 8/30\n",
      "560/560 [==============================] - 0s 837us/step - loss: 0.3268 - acc: 0.9679 - val_loss: 0.0687 - val_acc: 0.9917\n",
      "\n",
      "Epoch 00008: val_loss did not improve from 0.03685\n",
      "Epoch 9/30\n",
      "560/560 [==============================] - 0s 859us/step - loss: 0.3310 - acc: 0.9696 - val_loss: 0.2264 - val_acc: 0.9750\n",
      "\n",
      "Epoch 00009: val_loss did not improve from 0.03685\n",
      "Epoch 10/30\n",
      "560/560 [==============================] - 0s 838us/step - loss: 0.2479 - acc: 0.9643 - val_loss: 0.2580 - val_acc: 0.9833\n",
      "\n",
      "Epoch 00010: val_loss did not improve from 0.03685\n",
      "Epoch 11/30\n",
      "128/560 [=====>........................] - ETA: 0s - loss: 0.0775 - acc: 0.9922560/560 [==============================] - 0s 826us/step - loss: 0.2680 - acc: 0.9732 - val_loss: 0.1485 - val_acc: 0.9875\n",
      "\n",
      "Epoch 00011: val_loss did not improve from 0.03685\n",
      "Epoch 12/30\n",
      "560/560 [==============================] - 0s 851us/step - loss: 0.1759 - acc: 0.9839 - val_loss: 0.1653 - val_acc: 0.9875\n",
      "\n",
      "Epoch 00012: val_loss did not improve from 0.03685\n",
      "Epoch 13/30\n",
      "560/560 [==============================] - 0s 858us/step - loss: 0.1816 - acc: 0.9821 - val_loss: 0.0480 - val_acc: 0.9833\n",
      "\n",
      "Epoch 00013: val_loss did not improve from 0.03685\n",
      "Epoch 14/30\n",
      "560/560 [==============================] - 0s 833us/step - loss: 0.3162 - acc: 0.9696 - val_loss: 0.1591 - val_acc: 0.9875\n",
      "\n",
      "Epoch 00014: val_loss did not improve from 0.03685\n",
      "Epoch 15/30\n",
      "560/560 [==============================] - 0s 841us/step - loss: 0.1307 - acc: 0.9875 - val_loss: 0.1349 - val_acc: 0.9917\n",
      "\n",
      "Epoch 00015: val_loss did not improve from 0.03685\n",
      "Epoch 16/30\n",
      "560/560 [==============================] - 0s 851us/step - loss: 0.1661 - acc: 0.9821 - val_loss: 0.1750 - val_acc: 0.9833\n",
      "\n",
      "Epoch 00016: val_loss did not improve from 0.03685\n",
      "Epoch 17/30\n",
      "560/560 [==============================] - 0s 840us/step - loss: 0.0969 - acc: 0.9839 - val_loss: 0.1946 - val_acc: 0.9875\n",
      "\n",
      "Epoch 00017: val_loss did not improve from 0.03685\n",
      "Epoch 18/30\n",
      "560/560 [==============================] - 0s 829us/step - loss: 0.2632 - acc: 0.9750 - val_loss: 0.1708 - val_acc: 0.9833\n",
      "\n",
      "Epoch 00018: val_loss did not improve from 0.03685\n",
      "Epoch 19/30\n",
      "560/560 [==============================] - 0s 837us/step - loss: 0.0887 - acc: 0.9893 - val_loss: 0.1370 - val_acc: 0.9917\n",
      "\n",
      "Epoch 00019: val_loss did not improve from 0.03685\n",
      "Epoch 20/30\n",
      "560/560 [==============================] - 0s 833us/step - loss: 0.1254 - acc: 0.9857 - val_loss: 0.1343 - val_acc: 0.9917\n",
      "\n",
      "Epoch 00020: val_loss did not improve from 0.03685\n",
      "Epoch 21/30\n",
      "560/560 [==============================] - 0s 840us/step - loss: 0.1622 - acc: 0.9839 - val_loss: 0.1350 - val_acc: 0.9917\n",
      "\n",
      "Epoch 00021: val_loss did not improve from 0.03685\n",
      "Epoch 22/30\n",
      "560/560 [==============================] - 0s 833us/step - loss: 0.1381 - acc: 0.9839 - val_loss: 0.1343 - val_acc: 0.9917\n",
      "\n",
      "Epoch 00022: val_loss did not improve from 0.03685\n",
      "Epoch 23/30\n",
      "560/560 [==============================] - 0s 834us/step - loss: 0.2262 - acc: 0.9786 - val_loss: 0.0763 - val_acc: 0.9917\n",
      "\n",
      "Epoch 00023: val_loss did not improve from 0.03685\n",
      "Epoch 24/30\n",
      "560/560 [==============================] - 0s 850us/step - loss: 0.1400 - acc: 0.9786 - val_loss: 0.1488 - val_acc: 0.9833\n",
      "\n",
      "Epoch 00024: val_loss did not improve from 0.03685\n",
      "Epoch 25/30\n",
      "560/560 [==============================] - 0s 835us/step - loss: 0.0303 - acc: 0.9964 - val_loss: 0.2180 - val_acc: 0.9833\n",
      "\n",
      "Epoch 00025: val_loss did not improve from 0.03685\n",
      "Epoch 26/30\n",
      "560/560 [==============================] - 0s 823us/step - loss: 0.0510 - acc: 0.9857 - val_loss: 0.2278 - val_acc: 0.9792\n",
      "\n",
      "Epoch 00026: val_loss did not improve from 0.03685\n",
      "Epoch 27/30\n",
      "560/560 [==============================] - 0s 836us/step - loss: 0.0926 - acc: 0.9857 - val_loss: 0.1741 - val_acc: 0.9833\n",
      "\n",
      "Epoch 00027: val_loss did not improve from 0.03685\n",
      "Epoch 28/30\n",
      "560/560 [==============================] - 0s 835us/step - loss: 0.1990 - acc: 0.9839 - val_loss: 0.1985 - val_acc: 0.9792\n",
      "\n",
      "Epoch 00028: val_loss did not improve from 0.03685\n",
      "Epoch 29/30\n",
      "560/560 [==============================] - 0s 824us/step - loss: 0.1646 - acc: 0.9857 - val_loss: 0.1682 - val_acc: 0.9875\n",
      "\n",
      "Epoch 00029: val_loss did not improve from 0.03685\n",
      "Epoch 30/30\n",
      "560/560 [==============================] - 0s 822us/step - loss: 0.0791 - acc: 0.9929 - val_loss: 0.1426 - val_acc: 0.9875\n",
      "\n",
      "Epoch 00030: val_loss did not improve from 0.03685\n",
      "Validation accuracy: 98.7500%\n"
     ]
    }
   ],
   "source": [
    "history = fit_new_model(x_train_inceptionV3, y_train_inceptionV3, inception_epochs, inception_drop_rate, inception_model_weigths_file)"
   ]
  },
  {
   "cell_type": "markdown",
   "metadata": {},
   "source": [
    "=> On obtient une accuracy pour les données de validation de 98,75%"
   ]
  },
  {
   "cell_type": "code",
   "execution_count": 24,
   "metadata": {
    "colab": {
     "autoexec": {
      "startup": false,
      "wait_interval": 0
     },
     "base_uri": "https://localhost:8080/",
     "height": 631
    },
    "colab_type": "code",
    "executionInfo": {
     "elapsed": 1241,
     "status": "ok",
     "timestamp": 1530688712568,
     "user": {
      "displayName": "Azim Makboulhoussen",
      "photoUrl": "//lh5.googleusercontent.com/-uSPcjF6BeK0/AAAAAAAAAAI/AAAAAAAAGKs/retynLupjuc/s50-c-k-no/photo.jpg",
      "userId": "105239973402602961916"
     },
     "user_tz": -240
    },
    "id": "4I5-Bh0--Tbs",
    "outputId": "10860213-e8a5-443c-88a1-7705c0f17d5a"
   },
   "outputs": [
    {
     "data": {
      "image/png": "[encoded data removed]",
      "text/plain": [
       "<matplotlib.figure.Figure at 0x7f5dacfdb908>"
      ]
     },
     "metadata": {
      "tags": []
     },
     "output_type": "display_data"
    },
    {
     "data": {
      "image/png": "[encoded data removed]",
      "text/plain": [
       "<matplotlib.figure.Figure at 0x7f5dacfd75c0>"
      ]
     },
     "metadata": {
      "tags": []
     },
     "output_type": "display_data"
    }
   ],
   "source": [
    "draw_training_history(history)"
   ]
  },
  {
   "cell_type": "markdown",
   "metadata": {},
   "source": [
    "On voit qu'au delà de 25 epochs, l'accuracy se stabilise."
   ]
  },
  {
   "cell_type": "markdown",
   "metadata": {
    "colab_type": "text",
    "id": "eeGc-ilQ30yq"
   },
   "source": [
    "# 4. Evaluation"
   ]
  },
  {
   "cell_type": "markdown",
   "metadata": {},
   "source": [
    "- Evaluons et comparons nos algorithmes à partir de nos données de tests."
   ]
  },
  {
   "cell_type": "markdown",
   "metadata": {
    "colab_type": "text",
    "id": "hFnOJbO030ys"
   },
   "source": [
    "## 4.1 VGG16"
   ]
  },
  {
   "cell_type": "code",
   "execution_count": 25,
   "metadata": {
    "colab": {
     "autoexec": {
      "startup": false,
      "wait_interval": 0
     },
     "base_uri": "https://localhost:8080/",
     "height": 34
    },
    "colab_type": "code",
    "executionInfo": {
     "elapsed": 3364,
     "status": "ok",
     "timestamp": 1530688716056,
     "user": {
      "displayName": "Azim Makboulhoussen",
      "photoUrl": "//lh5.googleusercontent.com/-uSPcjF6BeK0/AAAAAAAAAAI/AAAAAAAAGKs/retynLupjuc/s50-c-k-no/photo.jpg",
      "userId": "105239973402602961916"
     },
     "user_tz": -240
    },
    "id": "J2zJw6FW30ys",
    "outputId": "281cda3b-679d-4dd4-df65-47c117e0cce6"
   },
   "outputs": [
    {
     "name": "stdout",
     "output_type": "stream",
     "text": [
      "Test accuracy: 96.0452%\n"
     ]
    }
   ],
   "source": [
    "vgg_model = create_model_(x_train_vgg16, vgg_drop_rate)\n",
    "vgg_model.load_weights(vgg_model_weigths_file, by_name=False)\n",
    "\n",
    "# evaluate test accuracy\n",
    "score = vgg_model.evaluate(x_test_vgg16, y_test_vgg16, batch_size, verbose=0)\n",
    "accuracy = 100*score[1]\n",
    "\n",
    "# print test accuracy\n",
    "print('Test accuracy: %.4f%%' % accuracy)"
   ]
  },
  {
   "cell_type": "markdown",
   "metadata": {
    "colab_type": "text",
    "id": "sHxWXIgO_VuB"
   },
   "source": [
    "## 4.2 ResNet50"
   ]
  },
  {
   "cell_type": "code",
   "execution_count": 26,
   "metadata": {
    "colab": {
     "autoexec": {
      "startup": false,
      "wait_interval": 0
     },
     "base_uri": "https://localhost:8080/",
     "height": 34
    },
    "colab_type": "code",
    "executionInfo": {
     "elapsed": 3390,
     "status": "ok",
     "timestamp": 1530688719476,
     "user": {
      "displayName": "Azim Makboulhoussen",
      "photoUrl": "//lh5.googleusercontent.com/-uSPcjF6BeK0/AAAAAAAAAAI/AAAAAAAAGKs/retynLupjuc/s50-c-k-no/photo.jpg",
      "userId": "105239973402602961916"
     },
     "user_tz": -240
    },
    "id": "o18yBsmG_Ri7",
    "outputId": "4135c761-4e19-428f-c9c2-1393503e353b"
   },
   "outputs": [
    {
     "name": "stdout",
     "output_type": "stream",
     "text": [
      "Test accuracy: 98.3051%\n"
     ]
    }
   ],
   "source": [
    "resnet_model = create_model_(x_train_resNet50, resnet_drop_rate)\n",
    "resnet_model.load_weights(resnet_model_weigths_file, by_name=False)\n",
    "\n",
    "# evaluate test accuracy\n",
    "score = resnet_model.evaluate(x_test_resNet50, y_test_resNet50, batch_size, verbose=0)\n",
    "accuracy = 100*score[1]\n",
    "\n",
    "# print test accuracy\n",
    "print('Test accuracy: %.4f%%' % accuracy)"
   ]
  },
  {
   "cell_type": "markdown",
   "metadata": {
    "colab_type": "text",
    "id": "dRn5Z1eHAAPP"
   },
   "source": [
    "## 4.3 InceptionV3"
   ]
  },
  {
   "cell_type": "code",
   "execution_count": 27,
   "metadata": {
    "colab": {
     "autoexec": {
      "startup": false,
      "wait_interval": 0
     },
     "base_uri": "https://localhost:8080/",
     "height": 34
    },
    "colab_type": "code",
    "executionInfo": {
     "elapsed": 3442,
     "status": "ok",
     "timestamp": 1530688723012,
     "user": {
      "displayName": "Azim Makboulhoussen",
      "photoUrl": "//lh5.googleusercontent.com/-uSPcjF6BeK0/AAAAAAAAAAI/AAAAAAAAGKs/retynLupjuc/s50-c-k-no/photo.jpg",
      "userId": "105239973402602961916"
     },
     "user_tz": -240
    },
    "id": "wYfrJ-vf_sFc",
    "outputId": "1f603ef8-537e-4444-f025-5f34dae13986"
   },
   "outputs": [
    {
     "name": "stdout",
     "output_type": "stream",
     "text": [
      "Test accuracy: 98.8701%\n"
     ]
    }
   ],
   "source": [
    "inception_model = create_model_(x_train_inceptionV3, inception_drop_rate)\n",
    "inception_model.load_weights(inception_model_weigths_file, by_name=False)\n",
    "\n",
    "# evaluate test accuracy\n",
    "score = inception_model.evaluate(x_test_inceptionV3, y_test_inceptionV3, batch_size, verbose=0)\n",
    "accuracy = 100*score[1]\n",
    "\n",
    "# print test accuracy\n",
    "print('Test accuracy: %.4f%%' % accuracy)"
   ]
  },
  {
   "cell_type": "markdown",
   "metadata": {
    "colab_type": "text",
    "id": "mwj6RbkFcwOO"
   },
   "source": [
    "# 4.4 Analyse"
   ]
  },
  {
   "cell_type": "markdown",
   "metadata": {
    "colab_type": "text",
    "id": "9HtO__lqcwOO"
   },
   "source": [
    "Si on compare les 3 modèles, c'est l'**InceptionV3** qui donne le meilleur résultat au niveau des données de test avec **98,87%**"
   ]
  },
  {
   "cell_type": "markdown",
   "metadata": {
    "colab_type": "text",
    "id": "IHpF0OKJcwOP"
   },
   "source": [
    "# 5. Hyper-Paramètres Tuning"
   ]
  },
  {
   "cell_type": "markdown",
   "metadata": {},
   "source": [
    "Dans cette partie nous allons essayer de \"tuner\" notre algorithme."
   ]
  },
  {
   "cell_type": "markdown",
   "metadata": {
    "colab_type": "text",
    "id": "BXvl_mNCzgr8"
   },
   "source": [
    "## 5.1 Préparation des données"
   ]
  },
  {
   "cell_type": "code",
   "execution_count": 0,
   "metadata": {
    "colab": {
     "autoexec": {
      "startup": false,
      "wait_interval": 0
     }
    },
    "colab_type": "code",
    "id": "ivHSkV40gBko"
   },
   "outputs": [],
   "source": [
    "x_train, y_train = x_train_inceptionV3, y_train_inceptionV3\n",
    "x_test, y_test = x_test_inceptionV3, y_test_inceptionV3"
   ]
  },
  {
   "cell_type": "markdown",
   "metadata": {
    "colab_type": "text",
    "id": "7Pt0bdWazosq"
   },
   "source": [
    "## 5.2 Last Layer model"
   ]
  },
  {
   "cell_type": "code",
   "execution_count": 0,
   "metadata": {
    "colab": {
     "autoexec": {
      "startup": false,
      "wait_interval": 0
     }
    },
    "colab_type": "code",
    "id": "L48I8CIfjaHB"
   },
   "outputs": [],
   "source": [
    "def create_model(dropout_rate=0.5, optimizer='adadelta') :\n",
    "    model = Sequential()  \n",
    "    model.add(Flatten(input_shape=x_train.shape[1:])) \n",
    "    model.add(Dense(128, activation='relu')) \n",
    "    model.add(Dropout(dropout_rate))\n",
    "    model.add(Dense(128, activation='relu')) \n",
    "    model.add(Dropout(dropout_rate))\n",
    "    model.add(Dense(num_classes, activation='softmax'))  \n",
    "    model.compile(optimizer=optimizer,loss='sparse_categorical_crossentropy', metrics=['accuracy']) \n",
    "    return model"
   ]
  },
  {
   "cell_type": "markdown",
   "metadata": {
    "colab_type": "text",
    "id": "5y1WXp_Kzx23"
   },
   "source": [
    "## 5.3 Tuning hyper-paramètres"
   ]
  },
  {
   "cell_type": "markdown",
   "metadata": {},
   "source": [
    "- Nous allons utiliser la recherche sur grilles pour trouver les meilleurs valeurs d'hyper-paramètres.\n",
    "- Les paramètres que nous optimisons : \n",
    "   - dropout_rate pour la dernière couche\n",
    "   - le type d'optimiser"
   ]
  },
  {
   "cell_type": "code",
   "execution_count": 0,
   "metadata": {
    "colab": {
     "autoexec": {
      "startup": false,
      "wait_interval": 0
     }
    },
    "colab_type": "code",
    "id": "8iUnBwvvcwOP"
   },
   "outputs": [],
   "source": [
    "model = KerasClassifier(build_fn=create_model, epochs=30, batch_size = batch_size, verbose=0)"
   ]
  },
  {
   "cell_type": "code",
   "execution_count": 0,
   "metadata": {
    "colab": {
     "autoexec": {
      "startup": false,
      "wait_interval": 0
     }
    },
    "colab_type": "code",
    "id": "GAWI057PfZd-"
   },
   "outputs": [],
   "source": [
    "dropout_rate = [0.3,  0.5, 0.8]\n",
    "optimizer = ['rmsprop','adadelta', 'Adam', 'Adamax']\n",
    "param_grid = dict(optimizer=optimizer, dropout_rate=dropout_rate)\n",
    "grid = GridSearchCV(estimator = model,  param_grid=param_grid , cv = 3)"
   ]
  },
  {
   "cell_type": "code",
   "execution_count": 32,
   "metadata": {
    "colab": {
     "autoexec": {
      "startup": false,
      "wait_interval": 0
     },
     "base_uri": "https://localhost:8080/",
     "height": 51
    },
    "colab_type": "code",
    "executionInfo": {
     "elapsed": 521388,
     "status": "ok",
     "timestamp": 1530689248185,
     "user": {
      "displayName": "Azim Makboulhoussen",
      "photoUrl": "//lh5.googleusercontent.com/-uSPcjF6BeK0/AAAAAAAAAAI/AAAAAAAAGKs/retynLupjuc/s50-c-k-no/photo.jpg",
      "userId": "105239973402602961916"
     },
     "user_tz": -240
    },
    "id": "CSCLoTG2_-yk",
    "outputId": "c63d360a-590b-4ce0-89cf-62e8162b373a"
   },
   "outputs": [
    {
     "name": "stdout",
     "output_type": "stream",
     "text": [
      "Evaluation elapsed time : 520.38s.\n",
      "Best: using {'dropout_rate': 0.5, 'optimizer': 'rmsprop'}\n"
     ]
    }
   ],
   "source": [
    "start_time = time()\n",
    "grid_result = grid.fit(x_train, y_train)\n",
    "print(\"Evaluation elapsed time : %0.2fs.\"%(time() - start_time))\n",
    "# summarize results\n",
    "print(\"Best: using %s\" % (grid_result.best_params_))\n",
    "top_model = grid.best_estimator_"
   ]
  },
  {
   "cell_type": "markdown",
   "metadata": {
    "colab_type": "text",
    "id": "6LvdRjdcz5Ay"
   },
   "source": [
    "## 5.4 Evaluation avec les données de test"
   ]
  },
  {
   "cell_type": "code",
   "execution_count": 33,
   "metadata": {
    "colab": {
     "autoexec": {
      "startup": false,
      "wait_interval": 0
     },
     "base_uri": "https://localhost:8080/",
     "height": 204
    },
    "colab_type": "code",
    "executionInfo": {
     "elapsed": 2884,
     "status": "ok",
     "timestamp": 1530689251133,
     "user": {
      "displayName": "Azim Makboulhoussen",
      "photoUrl": "//lh5.googleusercontent.com/-uSPcjF6BeK0/AAAAAAAAAAI/AAAAAAAAGKs/retynLupjuc/s50-c-k-no/photo.jpg",
      "userId": "105239973402602961916"
     },
     "user_tz": -240
    },
    "id": "qb-BXnLolPM5",
    "outputId": "2b0279c1-a3ba-4793-acb7-0778d7ba87f1"
   },
   "outputs": [
    {
     "name": "stdout",
     "output_type": "stream",
     "text": [
      "=> Classification accuracy: 98.87 % \n",
      "\n",
      "             precision    recall  f1-score   support\n",
      "\n",
      "          0       0.98      1.00      0.99        52\n",
      "          1       0.99      0.99      0.99       152\n",
      "          2       0.97      0.98      0.97        58\n",
      "          3       1.00      0.98      0.99        92\n",
      "\n",
      "avg / total       0.99      0.99      0.99       354\n",
      "\n"
     ]
    }
   ],
   "source": [
    "y_pred = grid.predict(x_test)\n",
    "print(\"=> Classification accuracy: {:.2f} % \\n\".format(100*metrics.accuracy_score(y_test, y_pred)))\n",
    "report = classification_report(y_test, y_pred)\n",
    "print(report)"
   ]
  },
  {
   "cell_type": "markdown",
   "metadata": {},
   "source": [
    "=> La performance reste toujours à 98,87%."
   ]
  },
  {
   "cell_type": "markdown",
   "metadata": {
    "colab_type": "text",
    "id": "VL1KViz0z_ji"
   },
   "source": [
    "## 5.5 Sauvegarde du modèle"
   ]
  },
  {
   "cell_type": "code",
   "execution_count": 0,
   "metadata": {
    "colab": {
     "autoexec": {
      "startup": false,
      "wait_interval": 0
     }
    },
    "colab_type": "code",
    "id": "OPAiqYH5lXdA"
   },
   "outputs": [],
   "source": [
    "# saving model\n",
    "json_model = top_model.model.to_json()\n",
    "open('top_model_architecture.json', 'w').write(json_model)\n",
    "# saving weights\n",
    "top_model.model.save_weights('top_model_weights.h5', overwrite=True)"
   ]
  },
  {
   "cell_type": "code",
   "execution_count": 0,
   "metadata": {
    "colab": {
     "autoexec": {
      "startup": false,
      "wait_interval": 0
     }
    },
    "colab_type": "code",
    "id": "XP82f26Zykn-"
   },
   "outputs": [],
   "source": [
    "files.download('top_model_architecture.json')"
   ]
  },
  {
   "cell_type": "code",
   "execution_count": 0,
   "metadata": {
    "colab": {
     "autoexec": {
      "startup": false,
      "wait_interval": 0
     }
    },
    "colab_type": "code",
    "id": "Lmn5JAf3yrbM"
   },
   "outputs": [],
   "source": [
    "files.download('top_model_weights.h5')"
   ]
  }
 ],
 "metadata": {
  "accelerator": "GPU",
  "colab": {
   "collapsed_sections": [
    "H86zx2wK30yY",
    "iD9lqp2a30yi"
   ],
   "default_view": {},
   "name": "3.Classification_CNN.ipynb",
   "provenance": [],
   "version": "0.3.2",
   "views": {}
  },
  "kernelspec": {
   "display_name": "Python 3",
   "language": "python",
   "name": "python3"
  },
  "language_info": {
   "codemirror_mode": {
    "name": "ipython",
    "version": 3
   },
   "file_extension": ".py",
   "mimetype": "text/x-python",
   "name": "python",
   "nbconvert_exporter": "python",
   "pygments_lexer": "ipython3",
   "version": "3.6.5"
  }
 },
 "nbformat": 4,
 "nbformat_minor": 1
}
