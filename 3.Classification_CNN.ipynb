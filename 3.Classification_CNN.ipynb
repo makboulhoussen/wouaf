{
 "cells": [
  {
   "cell_type": "markdown",
   "metadata": {
    "colab_type": "text",
    "id": "Gv1btVh230x1"
   },
   "source": [
    "# Projet 7 : Réalisez des indexations automatiques d’images\n",
    "# <u>C. Classification avec les Réseaux de Neurones Convolutionnels</u> <br/>"
   ]
  },
  {
   "cell_type": "markdown",
   "metadata": {
    "colab_type": "text",
    "id": "nfIaCDvLVx3A"
   },
   "source": [
    "# Le contexte\n",
    "\n",
    "Pour aider une association de protection des animaux, nous mettons en place une solution de détéction automatique de la race d'un chien à partir d'une photo de celui-ci. Nous essayerons une approche classique dans un premier temps, puis une approche basée sur les réseaux de neurones.\n",
    "\n",
    "Dans ce notebook nous allons essayer les approches basées sur les réseaux de neurones convolutionels. Nous avons utilisé Google Colaboratory pour exécuter ce Notebook. Colab offre une accélaration matérielle qui nous a fait gagner énormement de temps de calcul. "
   ]
  },
  {
   "cell_type": "markdown",
   "metadata": {
    "colab_type": "text",
    "id": "w64Qp3wXVx3C"
   },
   "source": [
    "# Google Colab setup"
   ]
  },
  {
   "cell_type": "markdown",
   "metadata": {
    "colab_type": "text",
    "id": "BcN34VErVx3D"
   },
   "source": [
    "- On commence par récupérer les données dans notre VM Colaboratory."
   ]
  },
  {
   "cell_type": "code",
   "execution_count": 0,
   "metadata": {
    "colab": {
     "autoexec": {
      "startup": false,
      "wait_interval": 0
     }
    },
    "colab_type": "code",
    "id": "-rDTPR4a4U3_"
   },
   "outputs": [],
   "source": [
    "#! kill -9 -1\n",
    "COLAB=True"
   ]
  },
  {
   "cell_type": "code",
   "execution_count": 2,
   "metadata": {
    "colab": {
     "autoexec": {
      "startup": false,
      "wait_interval": 0
     },
     "base_uri": "https://localhost:8080/",
     "height": 51
    },
    "colab_type": "code",
    "executionInfo": {
     "elapsed": 2782,
     "status": "ok",
     "timestamp": 1530792634210,
     "user": {
      "displayName": "Azim Makboulhoussen",
      "photoUrl": "//lh5.googleusercontent.com/-uSPcjF6BeK0/AAAAAAAAAAI/AAAAAAAAGKs/retynLupjuc/s50-c-k-no/photo.jpg",
      "userId": "105239973402602961916"
     },
     "user_tz": -240
    },
    "id": "M-9YjjIi34eK",
    "outputId": "0be81c88-d8e8-429e-9556-476380961bb8"
   },
   "outputs": [
    {
     "name": "stdout",
     "output_type": "stream",
     "text": [
      "Downloading zip file train_cnn\n",
      "Uncompressing zip file\n"
     ]
    }
   ],
   "source": [
    "if (COLAB) :\n",
    "    !pip install -U -q PyDrive\n",
    "    from pydrive.auth import GoogleAuth\n",
    "    from pydrive.drive import GoogleDrive\n",
    "    from google.colab import auth\n",
    "    from oauth2client.client import GoogleCredentials\n",
    "    import zipfile, os\n",
    "    import shutil\n",
    "    from google.colab import files\n",
    "\n",
    "    \n",
    "    # HERE YOUR FILE ID ( GET IT WITH THE SHARING URL: https://drive.google.com/open?id=1Soh3zXLXt2lT7b_3FcWWyeOCC7SnOxK0 )\n",
    "    #train_zip_id = '1tq2BdlFZNwCXWFDwz_Ru-ikD9HGu68BA'\n",
    "    train_zip_id = '1t9wGp_jVOKR2sOWz5TB9rTuvaB_A6p96'\n",
    "    test_zip_id = '1gPxoxcHpdf8djLB5SAoRfT3ecP1UBmx_'\n",
    "    \n",
    "    # 1. Authenticate and create the PyDrive client.\n",
    "    auth.authenticate_user()\n",
    "    gauth = GoogleAuth()\n",
    "    gauth.credentials = GoogleCredentials.get_application_default()\n",
    "    drive = GoogleDrive(gauth)\n",
    "\n",
    "    # Create Data directory\n",
    "    if (os.path.exists('data')) :\n",
    "        shutil.rmtree('data')\n",
    "        os.makedirs('data')\n",
    "        \n",
    "    # DOWNLOAD ZIP\n",
    "    print (\"Downloading zip file train_cnn\")\n",
    "    myzip = drive.CreateFile({'id': train_zip_id})\n",
    "    myzip.GetContentFile('train_cnn.zip')\n",
    "    myzip2 = drive.CreateFile({'id': test_zip_id})\n",
    "    myzip2.GetContentFile('test_cnn.zip')\n",
    "    \n",
    "    # UNZIP ZIP\n",
    "    print (\"Uncompressing zip file\")\n",
    "    zip_ref = zipfile.ZipFile('train_cnn.zip', 'r')\n",
    "    zip_ref.extractall('data/.')\n",
    "    zip_ref.close()\n",
    "    \n",
    "    zip_ref2 = zipfile.ZipFile('test_cnn.zip', 'r')\n",
    "    zip_ref2.extractall('data/.')\n",
    "    zip_ref2.close()"
   ]
  },
  {
   "cell_type": "markdown",
   "metadata": {
    "colab_type": "text",
    "id": "mjmZ9xuuVx3N"
   },
   "source": [
    "# Importation des librairies"
   ]
  },
  {
   "cell_type": "code",
   "execution_count": 10,
   "metadata": {
    "colab": {
     "autoexec": {
      "startup": false,
      "wait_interval": 0
     },
     "base_uri": "https://localhost:8080/",
     "height": 34
    },
    "colab_type": "code",
    "executionInfo": {
     "elapsed": 8398,
     "status": "ok",
     "timestamp": 1530792723009,
     "user": {
      "displayName": "Azim Makboulhoussen",
      "photoUrl": "//lh5.googleusercontent.com/-uSPcjF6BeK0/AAAAAAAAAAI/AAAAAAAAGKs/retynLupjuc/s50-c-k-no/photo.jpg",
      "userId": "105239973402602961916"
     },
     "user_tz": -240
    },
    "id": "6AP7kVOX30x2",
    "outputId": "5f0f3da0-1e5f-44b1-84ab-ca20773d0201"
   },
   "outputs": [
    {
     "name": "stderr",
     "output_type": "stream",
     "text": [
      "Using TensorFlow backend.\n"
     ]
    }
   ],
   "source": [
    "import numpy as np  \n",
    "import matplotlib.pyplot as plt  \n",
    "import pandas as pd\n",
    "import os\n",
    "import math \n",
    "from time import time\n",
    "import pickle\n",
    "\n",
    "\n",
    "from sklearn.model_selection import GridSearchCV\n",
    "from sklearn.metrics import classification_report\n",
    "from sklearn.model_selection import train_test_split\n",
    "from sklearn import metrics\n",
    "\n",
    "\n",
    "import warnings\n",
    "warnings.simplefilter(action='ignore', category=FutureWarning)\n",
    "warnings.simplefilter(\"ignore\", DeprecationWarning)\n",
    "\n",
    "from keras.preprocessing.image import ImageDataGenerator\n",
    "from keras.applications import vgg16\n",
    "from keras.applications.vgg16 import VGG16\n",
    "from keras.applications import resnet50\n",
    "from keras.applications.resnet50 import ResNet50\n",
    "from keras.applications import inception_v3\n",
    "from keras.applications.inception_v3 import InceptionV3\n",
    "from keras.models import Sequential  \n",
    "from keras.layers import Dropout, Flatten, Dense \n",
    "from keras.callbacks import ModelCheckpoint  \n",
    "from keras.utils.np_utils import to_categorical\n",
    "from keras.wrappers.scikit_learn import KerasClassifier\n",
    "\n",
    "\n"
   ]
  },
  {
   "cell_type": "markdown",
   "metadata": {
    "colab_type": "text",
    "id": "ALertjvA30x5"
   },
   "source": [
    "# 1. Préparation des données"
   ]
  },
  {
   "cell_type": "markdown",
   "metadata": {
    "colab_type": "text",
    "id": "DAf-JyuL30x7"
   },
   "source": [
    "## Variables"
   ]
  },
  {
   "cell_type": "code",
   "execution_count": 0,
   "metadata": {
    "colab": {
     "autoexec": {
      "startup": false,
      "wait_interval": 0
     }
    },
    "colab_type": "code",
    "id": "Td9atAPH30x8"
   },
   "outputs": [],
   "source": [
    "# dimensions of our images.  \n",
    "img_width, img_height = 224, 224\n",
    "num_classes = 4\n",
    "   \n",
    "train_data_dir = './data/train_cnn'  \n",
    "test_data_dir = './data/test_cnn' \n",
    "\n",
    "batch_size = 32\n",
    "\n",
    "seed=7\n",
    "\n",
    "breedNamesIndex = {}"
   ]
  },
  {
   "cell_type": "markdown",
   "metadata": {
    "colab_type": "text",
    "id": "0vHwDgzw30x-"
   },
   "source": [
    "# 2. Extraction des features bottleneck"
   ]
  },
  {
   "cell_type": "markdown",
   "metadata": {
    "colab_type": "text",
    "id": "YD_XI6kcVx3Y"
   },
   "source": [
    "Nous avons utilisé la puissance des réseaux de neurones à convolution particulièrement efficace dans le tri d'image. Nous avons utilisé Keras qui est une librairie qui offre une interface haut niveau de deep learning et qui fonctionne au dessus de différents frameworks comme TensorFlow ou Theano.<br/>\n",
    "\n",
    "Nous nous sommes basés sur les techniques de transfert learning dont le principe est d'utiliser les connaissances acquises par un réseau de neurones lors de la résolution d'un problème afin de résoudre le notre. Nous utiliserons pour celà les réseaux VGG16, ResNet50 et Inception_V3 qui ont été entrainés pour les données ImageNet et qui sont complètement intégrés dans Keras."
   ]
  },
  {
   "cell_type": "markdown",
   "metadata": {
    "colab_type": "text",
    "id": "1I_sfN4z30x_"
   },
   "source": [
    "## 2.1 Méthodes génériques"
   ]
  },
  {
   "cell_type": "code",
   "execution_count": 0,
   "metadata": {
    "colab": {
     "autoexec": {
      "startup": false,
      "wait_interval": 0
     }
    },
    "colab_type": "code",
    "id": "zuwhC1yv30yA"
   },
   "outputs": [],
   "source": [
    "'''\n",
    "Retourne une instance du modèle et la méthode de pré-traitement du réseau model_name\n",
    "'''\n",
    "def get_model_parameters(model_name) :\n",
    "    model = None, \n",
    "    preprocess_input=None\n",
    "    if (model_name == 'vgg16') :\n",
    "        model = VGG16(include_top=False, weights='imagenet', input_shape = (img_width, img_height, 3))\n",
    "        preprocess_input = vgg16.preprocess_input\n",
    "    elif (model_name == 'resNet50') :\n",
    "        model = ResNet50(include_top=False, weights='imagenet', input_shape = (img_width, img_height, 3))\n",
    "        preprocess_input = resnet50.preprocess_input\n",
    "    elif (model_name == 'inceptionV3') :\n",
    "        model = InceptionV3(include_top=False, weights='imagenet', input_shape = (img_width, img_height, 3))\n",
    "        preprocess_input = inception_v3.preprocess_input\n",
    "    else :\n",
    "        print(\"Connais pas celui-la désolé !\")\n",
    "    return model, preprocess_input"
   ]
  },
  {
   "cell_type": "code",
   "execution_count": 0,
   "metadata": {
    "colab": {
     "autoexec": {
      "startup": false,
      "wait_interval": 0
     }
    },
    "colab_type": "code",
    "id": "Vi13MMpss2d4"
   },
   "outputs": [],
   "source": [
    "'''\n",
    "Dictionnaire faisant le mapping entre valeur numérique et nom de la classe de race de chien.\n",
    "'''\n",
    "def saveBreedsIndex() :\n",
    "    global breedNamesIndex\n",
    "    datagen = ImageDataGenerator()\n",
    "    generator = datagen.flow_from_directory(train_data_dir, target_size=(img_width, img_height), \n",
    "                                                batch_size=batch_size, class_mode='categorical', shuffle=False)\n",
    "    labels_dictionary = generator.class_indices\n",
    "    breedNamesIndex = {v: k for k, v in labels_dictionary.items()}\n",
    "    with open('breedNamesIndex.pkl', 'wb') as f:\n",
    "        pickle.dump(breedNamesIndex, f, pickle.HIGHEST_PROTOCOL)\n",
    "    files.download('breedNamesIndex.pkl')"
   ]
  },
  {
   "cell_type": "code",
   "execution_count": 0,
   "metadata": {
    "colab": {
     "autoexec": {
      "startup": false,
      "wait_interval": 0
     }
    },
    "colab_type": "code",
    "id": "A7MOUvsK30yC"
   },
   "outputs": [],
   "source": [
    "'''\n",
    "Extraction des features bottlenecks. Ce sont les features obtenus par les couches se situant \n",
    "avec les couches Fully Connected du réseau de neurone\n",
    "'''\n",
    "\n",
    "def extract_features(model, generator, save_filename) :\n",
    "    nb_samples = len(generator.filenames)\n",
    "    num_classes = len(generator.class_indices)\n",
    "    predict_size = int(math.ceil(nb_samples / batch_size))\n",
    "    \n",
    "    # Si un fichier de features est trouvé, on ne refait pas tout le calcul.\n",
    "    if os.path.exists(save_filename):\n",
    "        print('bottleneck features detected ', save_filename)\n",
    "        features = np.load(save_filename)\n",
    "    else :\n",
    "        print('calculating ...')\n",
    "        features = model.predict_generator(generator, predict_size, verbose=1)\n",
    "        np.save(save_filename, features)\n",
    "\n",
    "    # get the class lebels for the training data, in the original order \n",
    "    labels = generator.classes \n",
    "    # convert the training labels to categorical vectors\n",
    "    #labels = to_categorical(labels, num_classes=num_classes)\n",
    "    return features, labels"
   ]
  },
  {
   "cell_type": "code",
   "execution_count": 0,
   "metadata": {
    "colab": {
     "autoexec": {
      "startup": false,
      "wait_interval": 0
     }
    },
    "colab_type": "code",
    "id": "VJOwj8il30yE"
   },
   "outputs": [],
   "source": [
    "'''\n",
    "Extraction des features bottlenecks. Ce sont les features obtenus par les couches se situant \n",
    "avec les couches Fully Connected du réseau de neurone\n",
    "'''\n",
    "\n",
    "\n",
    "def get_bottleneck_features(model_name) :\n",
    "    model, preprocess_input = get_model_parameters(model_name)\n",
    "    datagen = ImageDataGenerator(preprocessing_function=preprocess_input)#, rescale=1. / 255)\n",
    "    \n",
    "    # Train data\n",
    "    save_train = model_name + '_' + 'features_train.npy'\n",
    "    generator_train = datagen.flow_from_directory(train_data_dir, target_size=(img_width, img_height), \n",
    "                                            batch_size=batch_size, class_mode='categorical', shuffle=False)\n",
    "    bottleneck_features_train, train_labels = extract_features(model, generator_train, save_train)\n",
    "    \n",
    "    # Test data\n",
    "    save_test = model_name + '_' + 'features_test.npy'\n",
    "    generator_test = datagen.flow_from_directory(test_data_dir, target_size=(img_width, img_height), \n",
    "                                            batch_size=batch_size, class_mode='categorical', shuffle=False)\n",
    "    bottleneck_features_test, test_labels = extract_features(model, generator_test, save_test)\n",
    "    labels_dictionary = generator_train.class_indices  \n",
    "    \n",
    "    return bottleneck_features_train, train_labels, bottleneck_features_test, test_labels, labels_dictionary"
   ]
  },
  {
   "cell_type": "code",
   "execution_count": 16,
   "metadata": {
    "colab": {
     "autoexec": {
      "startup": false,
      "wait_interval": 0
     },
     "base_uri": "https://localhost:8080/",
     "height": 34
    },
    "colab_type": "code",
    "executionInfo": {
     "elapsed": 2147,
     "status": "ok",
     "timestamp": 1530792730028,
     "user": {
      "displayName": "Azim Makboulhoussen",
      "photoUrl": "//lh5.googleusercontent.com/-uSPcjF6BeK0/AAAAAAAAAAI/AAAAAAAAGKs/retynLupjuc/s50-c-k-no/photo.jpg",
      "userId": "105239973402602961916"
     },
     "user_tz": -240
    },
    "id": "-zt3h6ZQHZnx",
    "outputId": "243605f3-7c55-4002-d06a-11f543a1b8a3"
   },
   "outputs": [
    {
     "name": "stdout",
     "output_type": "stream",
     "text": [
      "Found 2000 images belonging to 4 classes.\n"
     ]
    }
   ],
   "source": [
    "saveBreedsIndex()"
   ]
  },
  {
   "cell_type": "markdown",
   "metadata": {
    "colab_type": "text",
    "id": "HkZ9j3OK30yG"
   },
   "source": [
    "## 2.2 VGG16"
   ]
  },
  {
   "cell_type": "markdown",
   "metadata": {
    "colab_type": "text",
    "id": "HrEX1pDYVx3u"
   },
   "source": [
    "- On construit les bottleneck features de VGG16"
   ]
  },
  {
   "cell_type": "code",
   "execution_count": 17,
   "metadata": {
    "colab": {
     "autoexec": {
      "startup": false,
      "wait_interval": 0
     },
     "base_uri": "https://localhost:8080/",
     "height": 173
    },
    "colab_type": "code",
    "executionInfo": {
     "elapsed": 33054,
     "status": "ok",
     "timestamp": 1530792768253,
     "user": {
      "displayName": "Azim Makboulhoussen",
      "photoUrl": "//lh5.googleusercontent.com/-uSPcjF6BeK0/AAAAAAAAAAI/AAAAAAAAGKs/retynLupjuc/s50-c-k-no/photo.jpg",
      "userId": "105239973402602961916"
     },
     "user_tz": -240
    },
    "id": "Rlp1y4NF30yH",
    "outputId": "b21d272d-0cc1-48d2-b6d3-a63762bf3b01"
   },
   "outputs": [
    {
     "name": "stdout",
     "output_type": "stream",
     "text": [
      "Downloading data from https://github.com/fchollet/deep-learning-models/releases/download/v0.1/vgg16_weights_tf_dim_ordering_tf_kernels_notop.h5\n",
      "58892288/58889256 [==============================] - 4s 0us/step\n",
      "Found 2000 images belonging to 4 classes.\n",
      "calculating ...\n",
      "63/63 [==============================] - 22s 352ms/step\n",
      "Found 354 images belonging to 4 classes.\n",
      "calculating ...\n",
      "12/12 [==============================] - 4s 306ms/step\n"
     ]
    }
   ],
   "source": [
    "x_train_vgg16, y_train_vgg16, x_test_vgg16, y_test_vgg16, vggLabelsDict = get_bottleneck_features(\"vgg16\")"
   ]
  },
  {
   "cell_type": "markdown",
   "metadata": {
    "colab_type": "text",
    "id": "3EpBpcmQ30yJ"
   },
   "source": [
    "## 2.3 ResNet50"
   ]
  },
  {
   "cell_type": "markdown",
   "metadata": {
    "colab_type": "text",
    "id": "8rTbWZqIVx3z"
   },
   "source": [
    "- On construit les bottleneck features de ResNet50"
   ]
  },
  {
   "cell_type": "code",
   "execution_count": 18,
   "metadata": {
    "colab": {
     "autoexec": {
      "startup": false,
      "wait_interval": 0
     },
     "base_uri": "https://localhost:8080/",
     "height": 173
    },
    "colab_type": "code",
    "executionInfo": {
     "elapsed": 40240,
     "status": "ok",
     "timestamp": 1530792814128,
     "user": {
      "displayName": "Azim Makboulhoussen",
      "photoUrl": "//lh5.googleusercontent.com/-uSPcjF6BeK0/AAAAAAAAAAI/AAAAAAAAGKs/retynLupjuc/s50-c-k-no/photo.jpg",
      "userId": "105239973402602961916"
     },
     "user_tz": -240
    },
    "id": "cDTrfWBi30yL",
    "outputId": "802da6a8-65d3-4bc8-97a6-ccb8c0cdb648"
   },
   "outputs": [
    {
     "name": "stdout",
     "output_type": "stream",
     "text": [
      "Downloading data from https://github.com/fchollet/deep-learning-models/releases/download/v0.2/resnet50_weights_tf_dim_ordering_tf_kernels_notop.h5\n",
      "94658560/94653016 [==============================] - 2s 0us/step\n",
      "Found 2000 images belonging to 4 classes.\n",
      "calculating ...\n",
      "63/63 [==============================] - 24s 384ms/step\n",
      "Found 354 images belonging to 4 classes.\n",
      "calculating ...\n",
      "12/12 [==============================] - 4s 346ms/step\n"
     ]
    }
   ],
   "source": [
    "x_train_resNet50, y_train_resNet50, x_test_resNet50, y_test_resNet50, resnetLabelsDict = get_bottleneck_features(\"resNet50\")"
   ]
  },
  {
   "cell_type": "markdown",
   "metadata": {
    "colab_type": "text",
    "id": "hF3aQna49Q87"
   },
   "source": [
    "## 2.4 Inception V3"
   ]
  },
  {
   "cell_type": "markdown",
   "metadata": {
    "colab_type": "text",
    "id": "QPS_xkOZVx35"
   },
   "source": [
    "- On construit les bottleneck features de InceptionV3"
   ]
  },
  {
   "cell_type": "code",
   "execution_count": 19,
   "metadata": {
    "colab": {
     "autoexec": {
      "startup": false,
      "wait_interval": 0
     },
     "base_uri": "https://localhost:8080/",
     "height": 173
    },
    "colab_type": "code",
    "executionInfo": {
     "elapsed": 40947,
     "status": "ok",
     "timestamp": 1530792855127,
     "user": {
      "displayName": "Azim Makboulhoussen",
      "photoUrl": "//lh5.googleusercontent.com/-uSPcjF6BeK0/AAAAAAAAAAI/AAAAAAAAGKs/retynLupjuc/s50-c-k-no/photo.jpg",
      "userId": "105239973402602961916"
     },
     "user_tz": -240
    },
    "id": "vNP-X_-N9T-2",
    "outputId": "4989e2fa-cc9b-4798-cf01-7fe11b0b47fd"
   },
   "outputs": [
    {
     "name": "stdout",
     "output_type": "stream",
     "text": [
      "Downloading data from https://github.com/fchollet/deep-learning-models/releases/download/v0.5/inception_v3_weights_tf_dim_ordering_tf_kernels_notop.h5\n",
      "87916544/87910968 [==============================] - 1s 0us/step\n",
      "Found 2000 images belonging to 4 classes.\n",
      "calculating ...\n",
      "63/63 [==============================] - 18s 290ms/step\n",
      "Found 354 images belonging to 4 classes.\n",
      "calculating ...\n",
      "12/12 [==============================] - 3s 257ms/step\n"
     ]
    }
   ],
   "source": [
    "x_train_inceptionV3, y_train_inceptionV3, x_test_inceptionV3, y_test_inceptionV3, inceptionLabelsDict = get_bottleneck_features(\"inceptionV3\")"
   ]
  },
  {
   "cell_type": "markdown",
   "metadata": {
    "colab_type": "text",
    "id": "9zFnr4DV30yN"
   },
   "source": [
    "# 3. Création et entrainement du nouveau modèle"
   ]
  },
  {
   "cell_type": "markdown",
   "metadata": {
    "colab_type": "text",
    "id": "YjIx3xNH30yO"
   },
   "source": [
    "## 3.1 Méthodes génériques"
   ]
  },
  {
   "cell_type": "markdown",
   "metadata": {
    "colab_type": "text",
    "id": "e0rbv9i430yP"
   },
   "source": [
    "### Définition et compilation du modèle"
   ]
  },
  {
   "cell_type": "markdown",
   "metadata": {
    "colab_type": "text",
    "id": "nF5MYtByVx3_"
   },
   "source": [
    "- On construit un nouveau modèle pour la dernière couche."
   ]
  },
  {
   "cell_type": "code",
   "execution_count": 0,
   "metadata": {
    "colab": {
     "autoexec": {
      "startup": false,
      "wait_interval": 0
     }
    },
    "colab_type": "code",
    "id": "F1Fd-qEB30yQ"
   },
   "outputs": [],
   "source": [
    "def create_model_(features, dropout_rate=0.5, optimizer='adadelta') :\n",
    "    model = Sequential()  \n",
    "    model.add(Flatten(input_shape=features.shape[1:])) \n",
    "    model.add(Dense(128, activation='relu')) \n",
    "    model.add(Dropout(dropout_rate))\n",
    "    model.add(Dense(128, activation='relu')) \n",
    "    model.add(Dropout(dropout_rate))\n",
    "    model.add(Dense(num_classes, activation='softmax'))  \n",
    "    model.compile(optimizer=optimizer,loss='sparse_categorical_crossentropy', metrics=['accuracy']) \n",
    "    return model\n",
    "\n"
   ]
  },
  {
   "cell_type": "markdown",
   "metadata": {
    "colab_type": "text",
    "id": "cr6tC9G530yS"
   },
   "source": [
    "### Entrainement du modèle"
   ]
  },
  {
   "cell_type": "code",
   "execution_count": 0,
   "metadata": {
    "colab": {
     "autoexec": {
      "startup": false,
      "wait_interval": 0
     }
    },
    "colab_type": "code",
    "id": "cWLJzQwS30yT"
   },
   "outputs": [],
   "source": [
    "def fit_new_model(train_features, train_labels, epochs, drop_rate, top_model_weights_path) :\n",
    "    model = create_model_(train_features, drop_rate)\n",
    "    x_train, x_val, y_train, y_val = train_test_split(train_features, train_labels, test_size=0.3,\\\n",
    "                                                                              stratify=train_labels, random_state=seed)\n",
    "    checkpointer = ModelCheckpoint(filepath=top_model_weights_path, verbose=1, save_best_only=True)\n",
    "    \n",
    "    history = model.fit(x_train, y_train, epochs=epochs,\n",
    "                    batch_size=batch_size,\n",
    "                    validation_data=(x_val, y_val), callbacks=[checkpointer], verbose=1) \n",
    "    # evaluate validation accuracy\n",
    "    score = model.evaluate(x_val, y_val, batch_size=batch_size, verbose=0)\n",
    "    accuracy = 100*score[1]\n",
    "    print('Validation accuracy: %.4f%%' % accuracy)\n",
    "    return history"
   ]
  },
  {
   "cell_type": "markdown",
   "metadata": {
    "colab_type": "text",
    "id": "FmSJncsvVx4I"
   },
   "source": [
    "## Accuracy de l'entrainement"
   ]
  },
  {
   "cell_type": "code",
   "execution_count": 0,
   "metadata": {
    "colab": {
     "autoexec": {
      "startup": false,
      "wait_interval": 0
     }
    },
    "colab_type": "code",
    "id": "Ve5yIHAO30yW"
   },
   "outputs": [],
   "source": [
    "def draw_training_history(history) :\n",
    "    # summarize history for accuracy\n",
    "    plt.figure(num=None, figsize=(6, 4), dpi=80, facecolor='w', edgecolor='k')\n",
    "\n",
    "    acc = history.history['acc']\n",
    "    val_acc = history.history['val_acc']\n",
    "    loss = history.history['loss']\n",
    "    val_loss = history.history['val_loss']\n",
    "    epochs = range(len(acc))\n",
    "\n",
    "    plt.plot(epochs, acc, 'b')\n",
    "    plt.plot(epochs, val_acc, 'r')\n",
    "    plt.title('Training and validation accuracy')\n",
    "    plt.ylabel('accuracy')  \n",
    "    plt.xlabel('epoch')  \n",
    "    plt.legend(['train', 'val'], loc='upper left')  \n",
    "\n",
    "    plt.figure(num=None, figsize=(6, 4), dpi=80, facecolor='w', edgecolor='k')\n",
    "    plt.plot(epochs, loss, 'b')\n",
    "    plt.plot(epochs, val_loss, 'r')\n",
    "    plt.title('Training and validation loss')\n",
    "    plt.ylabel('loss')  \n",
    "    plt.xlabel('epoch') \n",
    "    plt.legend(['train', 'val'], loc='upper left')  \n",
    "\n",
    "    plt.show()"
   ]
  },
  {
   "cell_type": "markdown",
   "metadata": {
    "colab_type": "text",
    "id": "H86zx2wK30yY"
   },
   "source": [
    "## 3.2 Entrainement VGG16"
   ]
  },
  {
   "cell_type": "code",
   "execution_count": 0,
   "metadata": {
    "colab": {
     "autoexec": {
      "startup": false,
      "wait_interval": 0
     }
    },
    "colab_type": "code",
    "id": "ysNU7XKk30yY"
   },
   "outputs": [],
   "source": [
    "vgg_epochs = 30\n",
    "vgg_drop_rate = 0.5\n",
    "vgg_model_weigths_file = 'VGG16_top_model_weights.h5'"
   ]
  },
  {
   "cell_type": "code",
   "execution_count": 24,
   "metadata": {
    "colab": {
     "autoexec": {
      "startup": false,
      "wait_interval": 0
     },
     "base_uri": "https://localhost:8080/",
     "height": 2111
    },
    "colab_type": "code",
    "executionInfo": {
     "elapsed": 27670,
     "status": "ok",
     "timestamp": 1530792912209,
     "user": {
      "displayName": "Azim Makboulhoussen",
      "photoUrl": "//lh5.googleusercontent.com/-uSPcjF6BeK0/AAAAAAAAAAI/AAAAAAAAGKs/retynLupjuc/s50-c-k-no/photo.jpg",
      "userId": "105239973402602961916"
     },
     "user_tz": -240
    },
    "id": "o9LK9Qbc30yc",
    "outputId": "0ed9ead8-554b-4d8b-c1ad-e7a77b51c875"
   },
   "outputs": [
    {
     "name": "stdout",
     "output_type": "stream",
     "text": [
      "Train on 1400 samples, validate on 600 samples\n",
      "Epoch 1/30\n",
      "1400/1400 [==============================] - 3s 2ms/step - loss: 9.0931 - acc: 0.4071 - val_loss: 1.2651 - val_acc: 0.9033\n",
      "\n",
      "Epoch 00001: val_loss improved from inf to 1.26506, saving model to VGG16_top_model_weights.h5\n",
      "Epoch 2/30\n",
      "1400/1400 [==============================] - 1s 502us/step - loss: 5.6343 - acc: 0.6307 - val_loss: 1.0259 - val_acc: 0.9233\n",
      "\n",
      "Epoch 00002: val_loss improved from 1.26506 to 1.02586, saving model to VGG16_top_model_weights.h5\n",
      "Epoch 3/30\n",
      "1400/1400 [==============================] - 1s 509us/step - loss: 4.2847 - acc: 0.7179 - val_loss: 1.2481 - val_acc: 0.9150\n",
      "\n",
      "Epoch 00003: val_loss did not improve from 1.02586\n",
      "Epoch 4/30\n",
      "1400/1400 [==============================] - 1s 494us/step - loss: 3.3739 - acc: 0.7750 - val_loss: 0.5268 - val_acc: 0.9583\n",
      "\n",
      "Epoch 00004: val_loss improved from 1.02586 to 0.52680, saving model to VGG16_top_model_weights.h5\n",
      "Epoch 5/30\n",
      "1400/1400 [==============================] - 1s 494us/step - loss: 2.8481 - acc: 0.8093 - val_loss: 0.5144 - val_acc: 0.9617\n",
      "\n",
      "Epoch 00005: val_loss improved from 0.52680 to 0.51439, saving model to VGG16_top_model_weights.h5\n",
      "Epoch 6/30\n",
      "1400/1400 [==============================] - 1s 507us/step - loss: 2.4164 - acc: 0.8364 - val_loss: 0.4833 - val_acc: 0.9633\n",
      "\n",
      "Epoch 00006: val_loss improved from 0.51439 to 0.48334, saving model to VGG16_top_model_weights.h5\n",
      "Epoch 7/30\n",
      "1400/1400 [==============================] - 1s 489us/step - loss: 2.2441 - acc: 0.8457 - val_loss: 0.6761 - val_acc: 0.9567\n",
      "\n",
      "Epoch 00007: val_loss did not improve from 0.48334\n",
      "Epoch 8/30\n",
      "1400/1400 [==============================] - 1s 482us/step - loss: 1.6568 - acc: 0.8886 - val_loss: 0.5044 - val_acc: 0.9667\n",
      "\n",
      "Epoch 00008: val_loss did not improve from 0.48334\n",
      "Epoch 9/30\n",
      " 448/1400 [========>.....................] - ETA: 0s - loss: 1.5298 - acc: 0.89731400/1400 [==============================] - 1s 486us/step - loss: 1.5131 - acc: 0.8936 - val_loss: 0.3570 - val_acc: 0.9750\n",
      "\n",
      "Epoch 00009: val_loss improved from 0.48334 to 0.35703, saving model to VGG16_top_model_weights.h5\n",
      "Epoch 10/30\n",
      "1400/1400 [==============================] - 1s 487us/step - loss: 1.5527 - acc: 0.8964 - val_loss: 0.4651 - val_acc: 0.9667\n",
      "\n",
      "Epoch 00010: val_loss did not improve from 0.35703\n",
      "Epoch 11/30\n",
      "1400/1400 [==============================] - 1s 484us/step - loss: 1.5010 - acc: 0.8986 - val_loss: 0.3485 - val_acc: 0.9767\n",
      "\n",
      "Epoch 00011: val_loss improved from 0.35703 to 0.34853, saving model to VGG16_top_model_weights.h5\n",
      "Epoch 12/30\n",
      "1400/1400 [==============================] - 1s 496us/step - loss: 1.4079 - acc: 0.9029 - val_loss: 0.3362 - val_acc: 0.9767\n",
      "\n",
      "Epoch 00012: val_loss improved from 0.34853 to 0.33619, saving model to VGG16_top_model_weights.h5\n",
      "Epoch 13/30\n",
      "1400/1400 [==============================] - 1s 475us/step - loss: 1.2291 - acc: 0.9214 - val_loss: 0.2974 - val_acc: 0.9800\n",
      "\n",
      "Epoch 00013: val_loss improved from 0.33619 to 0.29736, saving model to VGG16_top_model_weights.h5\n",
      "Epoch 14/30\n",
      "1400/1400 [==============================] - 1s 501us/step - loss: 1.1536 - acc: 0.9236 - val_loss: 0.3987 - val_acc: 0.9733\n",
      "\n",
      "Epoch 00014: val_loss did not improve from 0.29736\n",
      "Epoch 15/30\n",
      "1400/1400 [==============================] - 1s 474us/step - loss: 1.0422 - acc: 0.9286 - val_loss: 0.3512 - val_acc: 0.9767\n",
      "\n",
      "Epoch 00015: val_loss did not improve from 0.29736\n",
      "Epoch 16/30\n",
      "1400/1400 [==============================] - 1s 486us/step - loss: 1.1491 - acc: 0.9236 - val_loss: 0.3590 - val_acc: 0.9750\n",
      "\n",
      "Epoch 00016: val_loss did not improve from 0.29736\n",
      "Epoch 17/30\n",
      " 928/1400 [==================>...........] - ETA: 0s - loss: 1.0085 - acc: 0.93321400/1400 [==============================] - 1s 495us/step - loss: 1.0308 - acc: 0.9314 - val_loss: 0.4182 - val_acc: 0.9733\n",
      "\n",
      "Epoch 00017: val_loss did not improve from 0.29736\n",
      "Epoch 18/30\n",
      "1400/1400 [==============================] - 1s 476us/step - loss: 1.1910 - acc: 0.9193 - val_loss: 0.3505 - val_acc: 0.9767\n",
      "\n",
      "Epoch 00018: val_loss did not improve from 0.29736\n",
      "Epoch 19/30\n",
      "1400/1400 [==============================] - 1s 482us/step - loss: 1.0850 - acc: 0.9293 - val_loss: 0.3136 - val_acc: 0.9750\n",
      "\n",
      "Epoch 00019: val_loss did not improve from 0.29736\n",
      "Epoch 20/30\n",
      "1400/1400 [==============================] - 1s 481us/step - loss: 0.9331 - acc: 0.9357 - val_loss: 0.3185 - val_acc: 0.9800\n",
      "\n",
      "Epoch 00020: val_loss did not improve from 0.29736\n",
      "Epoch 21/30\n",
      "1400/1400 [==============================] - 1s 479us/step - loss: 1.0035 - acc: 0.9314 - val_loss: 0.4010 - val_acc: 0.9717\n",
      "\n",
      "Epoch 00021: val_loss did not improve from 0.29736\n",
      "Epoch 22/30\n",
      "1400/1400 [==============================] - 1s 478us/step - loss: 0.7873 - acc: 0.9457 - val_loss: 0.4233 - val_acc: 0.9683\n",
      "\n",
      "Epoch 00022: val_loss did not improve from 0.29736\n",
      "Epoch 23/30\n",
      "1400/1400 [==============================] - 1s 484us/step - loss: 0.7936 - acc: 0.9450 - val_loss: 0.2785 - val_acc: 0.9800\n",
      "\n",
      "Epoch 00023: val_loss improved from 0.29736 to 0.27851, saving model to VGG16_top_model_weights.h5\n",
      "Epoch 24/30\n",
      "1400/1400 [==============================] - 1s 486us/step - loss: 0.7365 - acc: 0.9507 - val_loss: 0.3011 - val_acc: 0.9800\n",
      "\n",
      "Epoch 00024: val_loss did not improve from 0.27851\n",
      "Epoch 25/30\n",
      "1400/1400 [==============================] - 1s 491us/step - loss: 0.7463 - acc: 0.9486 - val_loss: 0.2165 - val_acc: 0.9850\n",
      "\n",
      "Epoch 00025: val_loss improved from 0.27851 to 0.21652, saving model to VGG16_top_model_weights.h5\n",
      "Epoch 26/30\n",
      "1400/1400 [==============================] - 1s 479us/step - loss: 0.7703 - acc: 0.9471 - val_loss: 0.2289 - val_acc: 0.9833\n",
      "\n",
      "Epoch 00026: val_loss did not improve from 0.21652\n",
      "Epoch 27/30\n",
      "1400/1400 [==============================] - 1s 478us/step - loss: 0.7059 - acc: 0.9507 - val_loss: 0.3715 - val_acc: 0.9750\n",
      "\n",
      "Epoch 00027: val_loss did not improve from 0.21652\n",
      "Epoch 28/30\n",
      "1400/1400 [==============================] - 1s 473us/step - loss: 0.5408 - acc: 0.9614 - val_loss: 0.2686 - val_acc: 0.9833\n",
      "\n",
      "Epoch 00028: val_loss did not improve from 0.21652\n",
      "Epoch 29/30\n",
      "1400/1400 [==============================] - 1s 494us/step - loss: 0.6228 - acc: 0.9586 - val_loss: 0.2154 - val_acc: 0.9867\n",
      "\n",
      "Epoch 00029: val_loss improved from 0.21652 to 0.21543, saving model to VGG16_top_model_weights.h5\n",
      "Epoch 30/30\n",
      "1400/1400 [==============================] - 1s 487us/step - loss: 0.6457 - acc: 0.9571 - val_loss: 0.1725 - val_acc: 0.9867\n",
      "\n",
      "Epoch 00030: val_loss improved from 0.21543 to 0.17246, saving model to VGG16_top_model_weights.h5\n",
      "Validation accuracy: 98.6667%\n"
     ]
    }
   ],
   "source": [
    "history = fit_new_model(x_train_vgg16, y_train_vgg16, vgg_epochs, vgg_drop_rate, vgg_model_weigths_file)"
   ]
  },
  {
   "cell_type": "markdown",
   "metadata": {
    "colab_type": "text",
    "id": "rSMJvz9XVx4R"
   },
   "source": [
    "=> On obtient une accuracy pour les données de validation de 98,66%"
   ]
  },
  {
   "cell_type": "code",
   "execution_count": 25,
   "metadata": {
    "colab": {
     "autoexec": {
      "startup": false,
      "wait_interval": 0
     },
     "base_uri": "https://localhost:8080/",
     "height": 631
    },
    "colab_type": "code",
    "executionInfo": {
     "elapsed": 1115,
     "status": "ok",
     "timestamp": 1530792925250,
     "user": {
      "displayName": "Azim Makboulhoussen",
      "photoUrl": "//lh5.googleusercontent.com/-uSPcjF6BeK0/AAAAAAAAAAI/AAAAAAAAGKs/retynLupjuc/s50-c-k-no/photo.jpg",
      "userId": "105239973402602961916"
     },
     "user_tz": -240
    },
    "id": "SzgntosY30ye",
    "outputId": "d71a4fcc-aad9-4115-afdc-4e9c1f2f290a"
   },
   "outputs": [
    {
     "data": {
      "image/png": "[encoded data removed]",
      "text/plain": [
       "<matplotlib.figure.Figure at 0x7fc2d9cc0eb8>"
      ]
     },
     "metadata": {
      "tags": []
     },
     "output_type": "display_data"
    },
    {
     "data": {
      "image/png": "[encoded data removed]",
      "text/plain": [
       "<matplotlib.figure.Figure at 0x7fc2e8137550>"
      ]
     },
     "metadata": {
      "tags": []
     },
     "output_type": "display_data"
    }
   ],
   "source": [
    "draw_training_history(history)"
   ]
  },
  {
   "cell_type": "markdown",
   "metadata": {
    "colab_type": "text",
    "id": "nUcrHVRiVx4V"
   },
   "source": [
    "On voit qu'au delà de 30 epochs, l'accuracy se stabilise."
   ]
  },
  {
   "cell_type": "markdown",
   "metadata": {
    "colab_type": "text",
    "id": "iD9lqp2a30yi"
   },
   "source": [
    "## 3.3 Entrainement ResNet50"
   ]
  },
  {
   "cell_type": "code",
   "execution_count": 0,
   "metadata": {
    "colab": {
     "autoexec": {
      "startup": false,
      "wait_interval": 0
     }
    },
    "colab_type": "code",
    "id": "tAbYgXbo30yj"
   },
   "outputs": [],
   "source": [
    "resnet_epochs = 10\n",
    "resnet_drop_rate = 0.5\n",
    "resnet_model_weigths_file = 'ResNet50_top_model_weights.h5'"
   ]
  },
  {
   "cell_type": "code",
   "execution_count": 27,
   "metadata": {
    "colab": {
     "autoexec": {
      "startup": false,
      "wait_interval": 0
     },
     "base_uri": "https://localhost:8080/",
     "height": 731
    },
    "colab_type": "code",
    "executionInfo": {
     "elapsed": 7803,
     "status": "ok",
     "timestamp": 1530792939915,
     "user": {
      "displayName": "Azim Makboulhoussen",
      "photoUrl": "//lh5.googleusercontent.com/-uSPcjF6BeK0/AAAAAAAAAAI/AAAAAAAAGKs/retynLupjuc/s50-c-k-no/photo.jpg",
      "userId": "105239973402602961916"
     },
     "user_tz": -240
    },
    "id": "E-xivi9B30yl",
    "outputId": "cc8bb9b2-bea7-4801-901b-a5e7afe772fe"
   },
   "outputs": [
    {
     "name": "stdout",
     "output_type": "stream",
     "text": [
      "Train on 1400 samples, validate on 600 samples\n",
      "Epoch 1/10\n",
      "1400/1400 [==============================] - 2s 2ms/step - loss: 0.5035 - acc: 0.8057 - val_loss: 0.0579 - val_acc: 0.9833\n",
      "\n",
      "Epoch 00001: val_loss improved from inf to 0.05786, saving model to ResNet50_top_model_weights.h5\n",
      "Epoch 2/10\n",
      "1400/1400 [==============================] - 0s 266us/step - loss: 0.1280 - acc: 0.9600 - val_loss: 0.0638 - val_acc: 0.9767\n",
      "\n",
      "Epoch 00002: val_loss did not improve from 0.05786\n",
      "Epoch 3/10\n",
      "1400/1400 [==============================] - 0s 262us/step - loss: 0.0608 - acc: 0.9829 - val_loss: 0.0308 - val_acc: 0.9900\n",
      "\n",
      "Epoch 00003: val_loss improved from 0.05786 to 0.03082, saving model to ResNet50_top_model_weights.h5\n",
      "Epoch 4/10\n",
      "1400/1400 [==============================] - 0s 251us/step - loss: 0.0608 - acc: 0.9836 - val_loss: 0.0260 - val_acc: 0.9933\n",
      "\n",
      "Epoch 00004: val_loss improved from 0.03082 to 0.02598, saving model to ResNet50_top_model_weights.h5\n",
      "Epoch 5/10\n",
      "1400/1400 [==============================] - 0s 257us/step - loss: 0.0293 - acc: 0.9893 - val_loss: 0.0403 - val_acc: 0.9900\n",
      "\n",
      "Epoch 00005: val_loss did not improve from 0.02598\n",
      "Epoch 6/10\n",
      "1400/1400 [==============================] - 0s 258us/step - loss: 0.0279 - acc: 0.9921 - val_loss: 0.0075 - val_acc: 0.9967\n",
      "\n",
      "Epoch 00006: val_loss improved from 0.02598 to 0.00747, saving model to ResNet50_top_model_weights.h5\n",
      "Epoch 7/10\n",
      "1400/1400 [==============================] - 0s 263us/step - loss: 0.0262 - acc: 0.9900 - val_loss: 0.0140 - val_acc: 0.9967\n",
      "\n",
      "Epoch 00007: val_loss did not improve from 0.00747\n",
      "Epoch 8/10\n",
      "1400/1400 [==============================] - 0s 251us/step - loss: 0.0294 - acc: 0.9929 - val_loss: 0.0080 - val_acc: 0.9967\n",
      "\n",
      "Epoch 00008: val_loss did not improve from 0.00747\n",
      "Epoch 9/10\n",
      "1400/1400 [==============================] - 0s 264us/step - loss: 0.0234 - acc: 0.9929 - val_loss: 0.0125 - val_acc: 0.9967\n",
      "\n",
      "Epoch 00009: val_loss did not improve from 0.00747\n",
      "Epoch 10/10\n",
      "1400/1400 [==============================] - 0s 281us/step - loss: 0.0252 - acc: 0.9971 - val_loss: 0.0115 - val_acc: 0.9967\n",
      "\n",
      "Epoch 00010: val_loss did not improve from 0.00747\n",
      "Validation accuracy: 99.6667%\n"
     ]
    }
   ],
   "source": [
    "history = fit_new_model(x_train_resNet50, y_train_resNet50, resnet_epochs, resnet_drop_rate, resnet_model_weigths_file)"
   ]
  },
  {
   "cell_type": "markdown",
   "metadata": {
    "colab_type": "text",
    "id": "zKveOYAVVx4f"
   },
   "source": [
    "=> On obtient une accuracy pour les données de validation de 99,66%"
   ]
  },
  {
   "cell_type": "code",
   "execution_count": 28,
   "metadata": {
    "colab": {
     "autoexec": {
      "startup": false,
      "wait_interval": 0
     },
     "base_uri": "https://localhost:8080/",
     "height": 631
    },
    "colab_type": "code",
    "executionInfo": {
     "elapsed": 956,
     "status": "ok",
     "timestamp": 1530792940968,
     "user": {
      "displayName": "Azim Makboulhoussen",
      "photoUrl": "//lh5.googleusercontent.com/-uSPcjF6BeK0/AAAAAAAAAAI/AAAAAAAAGKs/retynLupjuc/s50-c-k-no/photo.jpg",
      "userId": "105239973402602961916"
     },
     "user_tz": -240
    },
    "id": "WQA7CROC30yo",
    "outputId": "98020625-88f1-4662-b904-c4f974c3e0cc"
   },
   "outputs": [
    {
     "data": {
      "image/png": "[encoded data removed]",
      "text/plain": [
       "<matplotlib.figure.Figure at 0x7fc2de83bdd8>"
      ]
     },
     "metadata": {
      "tags": []
     },
     "output_type": "display_data"
    },
    {
     "data": {
      "image/png": "[encoded data removed]",
      "text/plain": [
       "<matplotlib.figure.Figure at 0x7fc2de7ea7f0>"
      ]
     },
     "metadata": {
      "tags": []
     },
     "output_type": "display_data"
    }
   ],
   "source": [
    "draw_training_history(history)"
   ]
  },
  {
   "cell_type": "markdown",
   "metadata": {
    "colab_type": "text",
    "id": "KOfK0MgzVx4j"
   },
   "source": [
    "On voit qu'au delà de 4 epochs, l'accuracy se stabilise."
   ]
  },
  {
   "cell_type": "markdown",
   "metadata": {
    "colab_type": "text",
    "id": "Nv86hbP39vnf"
   },
   "source": [
    "## 3.4 Entrainement InceptionV3"
   ]
  },
  {
   "cell_type": "code",
   "execution_count": 0,
   "metadata": {
    "colab": {
     "autoexec": {
      "startup": false,
      "wait_interval": 0
     }
    },
    "colab_type": "code",
    "id": "Qaz1L6109rGu"
   },
   "outputs": [],
   "source": [
    "inception_epochs = 30\n",
    "inception_drop_rate = 0.5\n",
    "inception_model_weigths_file = 'InceptionV3_top_model_weights.h5'"
   ]
  },
  {
   "cell_type": "code",
   "execution_count": 30,
   "metadata": {
    "colab": {
     "autoexec": {
      "startup": false,
      "wait_interval": 0
     },
     "base_uri": "https://localhost:8080/",
     "height": 2111
    },
    "colab_type": "code",
    "executionInfo": {
     "elapsed": 39751,
     "status": "ok",
     "timestamp": 1530793006175,
     "user": {
      "displayName": "Azim Makboulhoussen",
      "photoUrl": "//lh5.googleusercontent.com/-uSPcjF6BeK0/AAAAAAAAAAI/AAAAAAAAGKs/retynLupjuc/s50-c-k-no/photo.jpg",
      "userId": "105239973402602961916"
     },
     "user_tz": -240
    },
    "id": "6gIAnogN9-2u",
    "outputId": "a1f1918a-1bf1-437c-8861-2b231d1c98c3"
   },
   "outputs": [
    {
     "name": "stdout",
     "output_type": "stream",
     "text": [
      "Train on 1400 samples, validate on 600 samples\n",
      "Epoch 1/30\n",
      "1400/1400 [==============================] - 3s 2ms/step - loss: 2.7757 - acc: 0.7457 - val_loss: 0.2115 - val_acc: 0.9717\n",
      "\n",
      "Epoch 00001: val_loss improved from inf to 0.21153, saving model to InceptionV3_top_model_weights.h5\n",
      "Epoch 2/30\n",
      "1400/1400 [==============================] - 1s 799us/step - loss: 0.6405 - acc: 0.9371 - val_loss: 0.2141 - val_acc: 0.9817\n",
      "\n",
      "Epoch 00002: val_loss did not improve from 0.21153\n",
      "Epoch 3/30\n",
      "1400/1400 [==============================] - 1s 794us/step - loss: 0.5144 - acc: 0.9507 - val_loss: 0.1933 - val_acc: 0.9783\n",
      "\n",
      "Epoch 00003: val_loss improved from 0.21153 to 0.19334, saving model to InceptionV3_top_model_weights.h5\n",
      "Epoch 4/30\n",
      "1400/1400 [==============================] - 1s 812us/step - loss: 0.4897 - acc: 0.9471 - val_loss: 0.1115 - val_acc: 0.9900\n",
      "\n",
      "Epoch 00004: val_loss improved from 0.19334 to 0.11155, saving model to InceptionV3_top_model_weights.h5\n",
      "Epoch 5/30\n",
      "1400/1400 [==============================] - 1s 821us/step - loss: 0.2894 - acc: 0.9664 - val_loss: 0.1124 - val_acc: 0.9883\n",
      "\n",
      "Epoch 00005: val_loss did not improve from 0.11155\n",
      "Epoch 6/30\n",
      "1400/1400 [==============================] - 1s 794us/step - loss: 0.2528 - acc: 0.9671 - val_loss: 0.0640 - val_acc: 0.9933\n",
      "\n",
      "Epoch 00006: val_loss improved from 0.11155 to 0.06399, saving model to InceptionV3_top_model_weights.h5\n",
      "Epoch 7/30\n",
      "1400/1400 [==============================] - 1s 792us/step - loss: 0.3244 - acc: 0.9600 - val_loss: 0.1043 - val_acc: 0.9867\n",
      "\n",
      "Epoch 00007: val_loss did not improve from 0.06399\n",
      "Epoch 8/30\n",
      "1400/1400 [==============================] - 1s 814us/step - loss: 0.2484 - acc: 0.9707 - val_loss: 0.1146 - val_acc: 0.9917\n",
      "\n",
      "Epoch 00008: val_loss did not improve from 0.06399\n",
      "Epoch 9/30\n",
      "1400/1400 [==============================] - 1s 790us/step - loss: 0.1448 - acc: 0.9850 - val_loss: 0.0809 - val_acc: 0.9933\n",
      "\n",
      "Epoch 00009: val_loss did not improve from 0.06399\n",
      "Epoch 10/30\n",
      "1400/1400 [==============================] - 1s 790us/step - loss: 0.2286 - acc: 0.9700 - val_loss: 0.0870 - val_acc: 0.9883\n",
      "\n",
      "Epoch 00010: val_loss did not improve from 0.06399\n",
      "Epoch 11/30\n",
      "1400/1400 [==============================] - 1s 794us/step - loss: 0.1624 - acc: 0.9786 - val_loss: 0.1396 - val_acc: 0.9900\n",
      "\n",
      "Epoch 00011: val_loss did not improve from 0.06399\n",
      "Epoch 12/30\n",
      "1400/1400 [==============================] - 1s 793us/step - loss: 0.1235 - acc: 0.9829 - val_loss: 0.0714 - val_acc: 0.9933\n",
      "\n",
      "Epoch 00012: val_loss did not improve from 0.06399\n",
      "Epoch 13/30\n",
      "1400/1400 [==============================] - 1s 794us/step - loss: 0.0838 - acc: 0.9879 - val_loss: 0.0771 - val_acc: 0.9900\n",
      "\n",
      "Epoch 00013: val_loss did not improve from 0.06399\n",
      "Epoch 14/30\n",
      "1400/1400 [==============================] - 1s 788us/step - loss: 0.1339 - acc: 0.9864 - val_loss: 0.0706 - val_acc: 0.9933\n",
      "\n",
      "Epoch 00014: val_loss did not improve from 0.06399\n",
      "Epoch 15/30\n",
      "1280/1400 [==========================>...] - ETA: 0s - loss: 0.1218 - acc: 0.98361400/1400 [==============================] - 1s 789us/step - loss: 0.1230 - acc: 0.9843 - val_loss: 0.0839 - val_acc: 0.9933\n",
      "\n",
      "Epoch 00015: val_loss did not improve from 0.06399\n",
      "Epoch 16/30\n",
      "1400/1400 [==============================] - 1s 789us/step - loss: 0.1007 - acc: 0.9900 - val_loss: 0.0705 - val_acc: 0.9950\n",
      "\n",
      "Epoch 00016: val_loss did not improve from 0.06399\n",
      "Epoch 17/30\n",
      "1400/1400 [==============================] - 1s 788us/step - loss: 0.0800 - acc: 0.9893 - val_loss: 0.0632 - val_acc: 0.9917\n",
      "\n",
      "Epoch 00017: val_loss improved from 0.06399 to 0.06319, saving model to InceptionV3_top_model_weights.h5\n",
      "Epoch 18/30\n",
      "1400/1400 [==============================] - 1s 795us/step - loss: 0.0867 - acc: 0.9907 - val_loss: 0.0942 - val_acc: 0.9917\n",
      "\n",
      "Epoch 00018: val_loss did not improve from 0.06319\n",
      "Epoch 19/30\n",
      "1400/1400 [==============================] - 1s 820us/step - loss: 0.0855 - acc: 0.9857 - val_loss: 0.0625 - val_acc: 0.9933\n",
      "\n",
      "Epoch 00019: val_loss improved from 0.06319 to 0.06255, saving model to InceptionV3_top_model_weights.h5\n",
      "Epoch 20/30\n",
      "1400/1400 [==============================] - 1s 810us/step - loss: 0.0772 - acc: 0.9929 - val_loss: 0.0636 - val_acc: 0.9933\n",
      "\n",
      "Epoch 00020: val_loss did not improve from 0.06255\n",
      "Epoch 21/30\n",
      "1400/1400 [==============================] - 1s 786us/step - loss: 0.0651 - acc: 0.9936 - val_loss: 0.0812 - val_acc: 0.9950\n",
      "\n",
      "Epoch 00021: val_loss did not improve from 0.06255\n",
      "Epoch 22/30\n",
      "1056/1400 [=====================>........] - ETA: 0s - loss: 0.0246 - acc: 0.99531400/1400 [==============================] - 1s 807us/step - loss: 0.0425 - acc: 0.9943 - val_loss: 0.0710 - val_acc: 0.9933\n",
      "\n",
      "Epoch 00022: val_loss did not improve from 0.06255\n",
      "Epoch 23/30\n",
      "1400/1400 [==============================] - 1s 789us/step - loss: 0.0453 - acc: 0.9943 - val_loss: 0.0637 - val_acc: 0.9933\n",
      "\n",
      "Epoch 00023: val_loss did not improve from 0.06255\n",
      "Epoch 24/30\n",
      "1400/1400 [==============================] - 1s 800us/step - loss: 0.1151 - acc: 0.9864 - val_loss: 0.0628 - val_acc: 0.9933\n",
      "\n",
      "Epoch 00024: val_loss did not improve from 0.06255\n",
      "Epoch 25/30\n",
      "1400/1400 [==============================] - 1s 794us/step - loss: 0.1103 - acc: 0.9879 - val_loss: 0.0362 - val_acc: 0.9950\n",
      "\n",
      "Epoch 00025: val_loss improved from 0.06255 to 0.03621, saving model to InceptionV3_top_model_weights.h5\n",
      "Epoch 26/30\n",
      "1400/1400 [==============================] - 1s 793us/step - loss: 0.0188 - acc: 0.9950 - val_loss: 0.0405 - val_acc: 0.9950\n",
      "\n",
      "Epoch 00026: val_loss did not improve from 0.03621\n",
      "Epoch 27/30\n",
      "1400/1400 [==============================] - 1s 814us/step - loss: 0.0576 - acc: 0.9907 - val_loss: 0.0574 - val_acc: 0.9950\n",
      "\n",
      "Epoch 00027: val_loss did not improve from 0.03621\n",
      "Epoch 28/30\n",
      "1400/1400 [==============================] - 1s 786us/step - loss: 0.0598 - acc: 0.9893 - val_loss: 0.0768 - val_acc: 0.9900\n",
      "\n",
      "Epoch 00028: val_loss did not improve from 0.03621\n",
      "Epoch 29/30\n",
      "1184/1400 [========================>.....] - ETA: 0s - loss: 0.0574 - acc: 0.98821400/1400 [==============================] - 1s 792us/step - loss: 0.0613 - acc: 0.9886 - val_loss: 0.1090 - val_acc: 0.9867\n",
      "\n",
      "Epoch 00029: val_loss did not improve from 0.03621\n",
      "Epoch 30/30\n",
      "1400/1400 [==============================] - 1s 798us/step - loss: 0.0394 - acc: 0.9929 - val_loss: 0.1882 - val_acc: 0.9850\n",
      "\n",
      "Epoch 00030: val_loss did not improve from 0.03621\n",
      "Validation accuracy: 98.5000%\n"
     ]
    }
   ],
   "source": [
    "history = fit_new_model(x_train_inceptionV3, y_train_inceptionV3, inception_epochs, inception_drop_rate, inception_model_weigths_file)"
   ]
  },
  {
   "cell_type": "markdown",
   "metadata": {
    "colab_type": "text",
    "id": "_KO5gawBVx4p"
   },
   "source": [
    "=> On obtient une accuracy pour les données de validation de 98,5%"
   ]
  },
  {
   "cell_type": "code",
   "execution_count": 31,
   "metadata": {
    "colab": {
     "autoexec": {
      "startup": false,
      "wait_interval": 0
     },
     "base_uri": "https://localhost:8080/",
     "height": 631
    },
    "colab_type": "code",
    "executionInfo": {
     "elapsed": 1043,
     "status": "ok",
     "timestamp": 1530793018825,
     "user": {
      "displayName": "Azim Makboulhoussen",
      "photoUrl": "//lh5.googleusercontent.com/-uSPcjF6BeK0/AAAAAAAAAAI/AAAAAAAAGKs/retynLupjuc/s50-c-k-no/photo.jpg",
      "userId": "105239973402602961916"
     },
     "user_tz": -240
    },
    "id": "4I5-Bh0--Tbs",
    "outputId": "07ff890c-9bb8-4535-b2b8-abc435e7e846"
   },
   "outputs": [
    {
     "data": {
      "image/png": "[encoded data removed]",
      "text/plain": [
       "<matplotlib.figure.Figure at 0x7fc2d994e400>"
      ]
     },
     "metadata": {
      "tags": []
     },
     "output_type": "display_data"
    },
    {
     "data": {
      "image/png": "[encoded data removed]",
      "text/plain": [
       "<matplotlib.figure.Figure at 0x7fc2e8008b38>"
      ]
     },
     "metadata": {
      "tags": []
     },
     "output_type": "display_data"
    }
   ],
   "source": [
    "draw_training_history(history)"
   ]
  },
  {
   "cell_type": "markdown",
   "metadata": {
    "colab_type": "text",
    "id": "ylSPu5PmVx4v"
   },
   "source": [
    "On voit qu'au delà de 15 epochs, l'accuracy se stabilise."
   ]
  },
  {
   "cell_type": "markdown",
   "metadata": {
    "colab_type": "text",
    "id": "eeGc-ilQ30yq"
   },
   "source": [
    "# 4. Evaluation"
   ]
  },
  {
   "cell_type": "markdown",
   "metadata": {
    "colab_type": "text",
    "id": "mkzhR-x5Vx4w"
   },
   "source": [
    "- Evaluons et comparons nos algorithmes à partir de nos données de tests."
   ]
  },
  {
   "cell_type": "markdown",
   "metadata": {
    "colab_type": "text",
    "id": "hFnOJbO030ys"
   },
   "source": [
    "## 4.1 VGG16"
   ]
  },
  {
   "cell_type": "code",
   "execution_count": 32,
   "metadata": {
    "colab": {
     "autoexec": {
      "startup": false,
      "wait_interval": 0
     },
     "base_uri": "https://localhost:8080/",
     "height": 34
    },
    "colab_type": "code",
    "executionInfo": {
     "elapsed": 3264,
     "status": "ok",
     "timestamp": 1530793044033,
     "user": {
      "displayName": "Azim Makboulhoussen",
      "photoUrl": "//lh5.googleusercontent.com/-uSPcjF6BeK0/AAAAAAAAAAI/AAAAAAAAGKs/retynLupjuc/s50-c-k-no/photo.jpg",
      "userId": "105239973402602961916"
     },
     "user_tz": -240
    },
    "id": "J2zJw6FW30ys",
    "outputId": "271ae010-0efd-4660-e910-b1a9a2515fbf"
   },
   "outputs": [
    {
     "name": "stdout",
     "output_type": "stream",
     "text": [
      "Test accuracy: 96.3277%\n"
     ]
    }
   ],
   "source": [
    "vgg_model = create_model_(x_train_vgg16, vgg_drop_rate)\n",
    "vgg_model.load_weights(vgg_model_weigths_file, by_name=False)\n",
    "\n",
    "# evaluate test accuracy\n",
    "score = vgg_model.evaluate(x_test_vgg16, y_test_vgg16, batch_size, verbose=0)\n",
    "accuracy = 100*score[1]\n",
    "\n",
    "# print test accuracy\n",
    "print('Test accuracy: %.4f%%' % accuracy)"
   ]
  },
  {
   "cell_type": "markdown",
   "metadata": {
    "colab_type": "text",
    "id": "sHxWXIgO_VuB"
   },
   "source": [
    "## 4.2 ResNet50"
   ]
  },
  {
   "cell_type": "code",
   "execution_count": 33,
   "metadata": {
    "colab": {
     "autoexec": {
      "startup": false,
      "wait_interval": 0
     },
     "base_uri": "https://localhost:8080/",
     "height": 34
    },
    "colab_type": "code",
    "executionInfo": {
     "elapsed": 3238,
     "status": "ok",
     "timestamp": 1530793048596,
     "user": {
      "displayName": "Azim Makboulhoussen",
      "photoUrl": "//lh5.googleusercontent.com/-uSPcjF6BeK0/AAAAAAAAAAI/AAAAAAAAGKs/retynLupjuc/s50-c-k-no/photo.jpg",
      "userId": "105239973402602961916"
     },
     "user_tz": -240
    },
    "id": "o18yBsmG_Ri7",
    "outputId": "ecd885fc-8a10-47e3-9a25-ddcf46e78eed"
   },
   "outputs": [
    {
     "name": "stdout",
     "output_type": "stream",
     "text": [
      "Test accuracy: 98.8701%\n"
     ]
    }
   ],
   "source": [
    "resnet_model = create_model_(x_train_resNet50, resnet_drop_rate)\n",
    "resnet_model.load_weights(resnet_model_weigths_file, by_name=False)\n",
    "\n",
    "# evaluate test accuracy\n",
    "score = resnet_model.evaluate(x_test_resNet50, y_test_resNet50, batch_size, verbose=0)\n",
    "accuracy = 100*score[1]\n",
    "\n",
    "# print test accuracy\n",
    "print('Test accuracy: %.4f%%' % accuracy)"
   ]
  },
  {
   "cell_type": "markdown",
   "metadata": {
    "colab_type": "text",
    "id": "dRn5Z1eHAAPP"
   },
   "source": [
    "## 4.3 InceptionV3"
   ]
  },
  {
   "cell_type": "code",
   "execution_count": 34,
   "metadata": {
    "colab": {
     "autoexec": {
      "startup": false,
      "wait_interval": 0
     },
     "base_uri": "https://localhost:8080/",
     "height": 34
    },
    "colab_type": "code",
    "executionInfo": {
     "elapsed": 3481,
     "status": "ok",
     "timestamp": 1530793053099,
     "user": {
      "displayName": "Azim Makboulhoussen",
      "photoUrl": "//lh5.googleusercontent.com/-uSPcjF6BeK0/AAAAAAAAAAI/AAAAAAAAGKs/retynLupjuc/s50-c-k-no/photo.jpg",
      "userId": "105239973402602961916"
     },
     "user_tz": -240
    },
    "id": "wYfrJ-vf_sFc",
    "outputId": "a23f5da1-4967-4341-899f-8bd7849d6e5a"
   },
   "outputs": [
    {
     "name": "stdout",
     "output_type": "stream",
     "text": [
      "Test accuracy: 99.1525%\n"
     ]
    }
   ],
   "source": [
    "inception_model = create_model_(x_train_inceptionV3, inception_drop_rate)\n",
    "inception_model.load_weights(inception_model_weigths_file, by_name=False)\n",
    "\n",
    "# evaluate test accuracy\n",
    "score = inception_model.evaluate(x_test_inceptionV3, y_test_inceptionV3, batch_size, verbose=0)\n",
    "accuracy = 100*score[1]\n",
    "\n",
    "# print test accuracy\n",
    "print('Test accuracy: %.4f%%' % accuracy)"
   ]
  },
  {
   "cell_type": "markdown",
   "metadata": {
    "colab_type": "text",
    "id": "mwj6RbkFcwOO"
   },
   "source": [
    "# 4.4 Analyse"
   ]
  },
  {
   "cell_type": "markdown",
   "metadata": {
    "colab_type": "text",
    "id": "9HtO__lqcwOO"
   },
   "source": [
    "Si on compare les 3 modèles, c'est l'**InceptionV3** qui donne le meilleur résultat au niveau des données de test avec **99,15%**"
   ]
  },
  {
   "cell_type": "markdown",
   "metadata": {
    "colab_type": "text",
    "id": "IHpF0OKJcwOP"
   },
   "source": [
    "# 5. Hyper-Paramètres Tuning"
   ]
  },
  {
   "cell_type": "markdown",
   "metadata": {
    "colab_type": "text",
    "id": "ohatR9aaVx5E"
   },
   "source": [
    "Dans cette partie nous allons essayer de \"tuner\" notre algorithme."
   ]
  },
  {
   "cell_type": "markdown",
   "metadata": {
    "colab_type": "text",
    "id": "BXvl_mNCzgr8"
   },
   "source": [
    "## 5.1 Préparation des données"
   ]
  },
  {
   "cell_type": "code",
   "execution_count": 0,
   "metadata": {
    "colab": {
     "autoexec": {
      "startup": false,
      "wait_interval": 0
     }
    },
    "colab_type": "code",
    "id": "ivHSkV40gBko"
   },
   "outputs": [],
   "source": [
    "x_train, y_train = x_train_inceptionV3, y_train_inceptionV3\n",
    "x_test, y_test = x_test_inceptionV3, y_test_inceptionV3"
   ]
  },
  {
   "cell_type": "markdown",
   "metadata": {
    "colab_type": "text",
    "id": "7Pt0bdWazosq"
   },
   "source": [
    "## 5.2 Last Layer model"
   ]
  },
  {
   "cell_type": "code",
   "execution_count": 0,
   "metadata": {
    "colab": {
     "autoexec": {
      "startup": false,
      "wait_interval": 0
     }
    },
    "colab_type": "code",
    "id": "L48I8CIfjaHB"
   },
   "outputs": [],
   "source": [
    "def create_model(dropout_rate=0.5, optimizer='adadelta') :\n",
    "    model = Sequential()  \n",
    "    model.add(Flatten(input_shape=x_train.shape[1:])) \n",
    "    model.add(Dense(128, activation='relu')) \n",
    "    model.add(Dropout(dropout_rate))\n",
    "    model.add(Dense(128, activation='relu')) \n",
    "    model.add(Dropout(dropout_rate))\n",
    "    model.add(Dense(num_classes, activation='softmax'))  \n",
    "    model.compile(optimizer=optimizer,loss='sparse_categorical_crossentropy', metrics=['accuracy']) \n",
    "    return model"
   ]
  },
  {
   "cell_type": "markdown",
   "metadata": {
    "colab_type": "text",
    "id": "5y1WXp_Kzx23"
   },
   "source": [
    "## 5.3 Tuning hyper-paramètres"
   ]
  },
  {
   "cell_type": "markdown",
   "metadata": {
    "colab_type": "text",
    "id": "0jfhEVmzVx5N"
   },
   "source": [
    "- Nous allons utiliser la recherche sur grilles pour trouver les meilleurs valeurs d'hyper-paramètres.\n",
    "- Les paramètres que nous optimisons : \n",
    "   - dropout_rate pour la dernière couche\n",
    "   - le type d'optimiser"
   ]
  },
  {
   "cell_type": "code",
   "execution_count": 0,
   "metadata": {
    "colab": {
     "autoexec": {
      "startup": false,
      "wait_interval": 0
     }
    },
    "colab_type": "code",
    "id": "8iUnBwvvcwOP"
   },
   "outputs": [],
   "source": [
    "model = KerasClassifier(build_fn=create_model, epochs=20, batch_size = batch_size, verbose=0)"
   ]
  },
  {
   "cell_type": "code",
   "execution_count": 0,
   "metadata": {
    "colab": {
     "autoexec": {
      "startup": false,
      "wait_interval": 0
     }
    },
    "colab_type": "code",
    "id": "GAWI057PfZd-"
   },
   "outputs": [],
   "source": [
    "dropout_rate = [0.3,  0.5, 0.8]\n",
    "optimizer = ['rmsprop','adadelta', 'Adam', 'Adamax']\n",
    "param_grid = dict(optimizer=optimizer, dropout_rate=dropout_rate)\n",
    "grid = GridSearchCV(estimator = model,  param_grid=param_grid , cv = 3)"
   ]
  },
  {
   "cell_type": "code",
   "execution_count": 41,
   "metadata": {
    "colab": {
     "autoexec": {
      "startup": false,
      "wait_interval": 0
     },
     "base_uri": "https://localhost:8080/",
     "height": 51
    },
    "colab_type": "code",
    "executionInfo": {
     "elapsed": 736483,
     "status": "ok",
     "timestamp": 1530793841428,
     "user": {
      "displayName": "Azim Makboulhoussen",
      "photoUrl": "//lh5.googleusercontent.com/-uSPcjF6BeK0/AAAAAAAAAAI/AAAAAAAAGKs/retynLupjuc/s50-c-k-no/photo.jpg",
      "userId": "105239973402602961916"
     },
     "user_tz": -240
    },
    "id": "CSCLoTG2_-yk",
    "outputId": "8075ec06-6b44-47f9-e78e-8622241a3df8"
   },
   "outputs": [
    {
     "name": "stdout",
     "output_type": "stream",
     "text": [
      "Evaluation elapsed time : 735.48s.\n",
      "Best: using {'dropout_rate': 0.5, 'optimizer': 'Adam'}\n"
     ]
    }
   ],
   "source": [
    "start_time = time()\n",
    "grid_result = grid.fit(x_train, y_train)\n",
    "print(\"Evaluation elapsed time : %0.2fs.\"%(time() - start_time))\n",
    "# summarize results\n",
    "print(\"Best: using %s\" % (grid_result.best_params_))\n",
    "top_model = grid.best_estimator_"
   ]
  },
  {
   "cell_type": "markdown",
   "metadata": {
    "colab_type": "text",
    "id": "6LvdRjdcz5Ay"
   },
   "source": [
    "## 5.4 Evaluation avec les données de test"
   ]
  },
  {
   "cell_type": "code",
   "execution_count": 42,
   "metadata": {
    "colab": {
     "autoexec": {
      "startup": false,
      "wait_interval": 0
     },
     "base_uri": "https://localhost:8080/",
     "height": 204
    },
    "colab_type": "code",
    "executionInfo": {
     "elapsed": 2700,
     "status": "ok",
     "timestamp": 1530793844161,
     "user": {
      "displayName": "Azim Makboulhoussen",
      "photoUrl": "//lh5.googleusercontent.com/-uSPcjF6BeK0/AAAAAAAAAAI/AAAAAAAAGKs/retynLupjuc/s50-c-k-no/photo.jpg",
      "userId": "105239973402602961916"
     },
     "user_tz": -240
    },
    "id": "qb-BXnLolPM5",
    "outputId": "e1d406f4-3a73-4364-a0c9-f5dbb3d526a5"
   },
   "outputs": [
    {
     "name": "stdout",
     "output_type": "stream",
     "text": [
      "=> Classification accuracy: 99.15 % \n",
      "\n",
      "             precision    recall  f1-score   support\n",
      "\n",
      "          0       0.98      1.00      0.99        52\n",
      "          1       0.99      0.99      0.99       152\n",
      "          2       0.98      0.98      0.98        58\n",
      "          3       1.00      0.99      0.99        92\n",
      "\n",
      "avg / total       0.99      0.99      0.99       354\n",
      "\n"
     ]
    }
   ],
   "source": [
    "y_pred = grid.predict(x_test)\n",
    "print(\"=> Classification accuracy: {:.2f} % \\n\".format(100*metrics.accuracy_score(y_test, y_pred)))\n",
    "report = classification_report(y_test, y_pred)\n",
    "print(report)"
   ]
  },
  {
   "cell_type": "markdown",
   "metadata": {
    "colab_type": "text",
    "id": "-xgo__F2Vx5Z"
   },
   "source": [
    "=> La performance reste toujours à 99,15%."
   ]
  },
  {
   "cell_type": "markdown",
   "metadata": {
    "colab_type": "text",
    "id": "VL1KViz0z_ji"
   },
   "source": [
    "## 5.5 Sauvegarde du modèle"
   ]
  },
  {
   "cell_type": "code",
   "execution_count": 0,
   "metadata": {
    "colab": {
     "autoexec": {
      "startup": false,
      "wait_interval": 0
     }
    },
    "colab_type": "code",
    "id": "OPAiqYH5lXdA"
   },
   "outputs": [],
   "source": [
    "# saving model\n",
    "json_model = top_model.model.to_json()\n",
    "open('top_model_architecture.json', 'w').write(json_model)\n",
    "# saving weights\n",
    "top_model.model.save_weights('top_model_weights.h5', overwrite=True)"
   ]
  },
  {
   "cell_type": "code",
   "execution_count": 0,
   "metadata": {
    "colab": {
     "autoexec": {
      "startup": false,
      "wait_interval": 0
     }
    },
    "colab_type": "code",
    "id": "XP82f26Zykn-"
   },
   "outputs": [],
   "source": [
    "files.download('top_model_architecture.json')"
   ]
  },
  {
   "cell_type": "code",
   "execution_count": 0,
   "metadata": {
    "colab": {
     "autoexec": {
      "startup": false,
      "wait_interval": 0
     }
    },
    "colab_type": "code",
    "id": "Lmn5JAf3yrbM"
   },
   "outputs": [],
   "source": [
    "files.download('top_model_weights.h5')"
   ]
  },
  {
   "cell_type": "code",
   "execution_count": 0,
   "metadata": {
    "colab": {
     "autoexec": {
      "startup": false,
      "wait_interval": 0
     }
    },
    "colab_type": "code",
    "id": "FNC-5I43YU6N"
   },
   "outputs": [],
   "source": []
  }
 ],
 "metadata": {
  "accelerator": "GPU",
  "colab": {
   "collapsed_sections": [
    "H86zx2wK30yY",
    "iD9lqp2a30yi"
   ],
   "default_view": {},
   "name": "3.Classification_CNN.ipynb",
   "provenance": [],
   "version": "0.3.2",
   "views": {}
  },
  "kernelspec": {
   "display_name": "Python 3",
   "language": "python",
   "name": "python3"
  },
  "language_info": {
   "codemirror_mode": {
    "name": "ipython",
    "version": 3
   },
   "file_extension": ".py",
   "mimetype": "text/x-python",
   "name": "python",
   "nbconvert_exporter": "python",
   "pygments_lexer": "ipython3",
   "version": "3.6.5"
  }
 },
 "nbformat": 4,
 "nbformat_minor": 1
}
